{
  "nbformat": 4,
  "nbformat_minor": 0,
  "metadata": {
    "colab": {
      "provenance": [],
      "authorship_tag": "ABX9TyOE+0VV+gwsOuQoL40Zb29u",
      "include_colab_link": true
    },
    "kernelspec": {
      "name": "python3",
      "display_name": "Python 3"
    },
    "language_info": {
      "name": "python"
    }
  },
  "cells": [
    {
      "cell_type": "markdown",
      "metadata": {
        "id": "view-in-github",
        "colab_type": "text"
      },
      "source": [
        "<a href=\"https://colab.research.google.com/github/jylee-ii/school-assignments/blob/main/%5B%EA%B3%BC%EC%A0%9C6%5D_20251226_%EC%9D%B4%EC%A7%80%EC%9D%B4.ipynb\" target=\"_parent\"><img src=\"https://colab.research.google.com/assets/colab-badge.svg\" alt=\"Open In Colab\"/></a>"
      ]
    },
    {
      "cell_type": "code",
      "source": [
        "import math\n",
        "\n",
        "def calCircle(r):\n",
        "  area=math.pi*r*r\n",
        "  circum=2*math.pi*r\n",
        "  return area,circum\n",
        "\n",
        "radius=float(input(\"원의 반지름을 입력하시오: \"))\n",
        "(a,c)=calCircle(radius)\n",
        "print(f'원의 넓이는 {str(a)}이고 둘레는 {str(c)}이다.')"
      ],
      "metadata": {
        "colab": {
          "base_uri": "https://localhost:8080/"
        },
        "id": "fFj0Ag0pzDnk",
        "outputId": "6a0a9cdf-2ceb-4dfd-aa57-6288d4b17fbc"
      },
      "execution_count": null,
      "outputs": [
        {
          "output_type": "stream",
          "name": "stdout",
          "text": [
            "원의 반지름을 입력하시오: 10\n",
            "원의 넓이는 314.1592653589793이고 둘레는 62.83185307179586이다.\n"
          ]
        }
      ]
    },
    {
      "cell_type": "code",
      "source": [
        "set([1,2,3,1,2,3])"
      ],
      "metadata": {
        "colab": {
          "base_uri": "https://localhost:8080/"
        },
        "id": "HQUROFDb1mR6",
        "outputId": "80b13714-a61b-4562-b0fe-57f88ce37094"
      },
      "execution_count": null,
      "outputs": [
        {
          "output_type": "execute_result",
          "data": {
            "text/plain": [
              "{1, 2, 3}"
            ]
          },
          "metadata": {},
          "execution_count": 4
        }
      ]
    },
    {
      "cell_type": "code",
      "source": [
        "set(\"abcdefa\")"
      ],
      "metadata": {
        "colab": {
          "base_uri": "https://localhost:8080/"
        },
        "id": "UCnGhl8J1qSQ",
        "outputId": "e8e175a2-1b70-4378-de5e-f0b3aaa77bdc"
      },
      "execution_count": null,
      "outputs": [
        {
          "output_type": "execute_result",
          "data": {
            "text/plain": [
              "{'a', 'b', 'c', 'd', 'e', 'f'}"
            ]
          },
          "metadata": {},
          "execution_count": 7
        }
      ]
    },
    {
      "cell_type": "code",
      "source": [
        "numbers={1,2,3}\n",
        "numbers.add(4)\n",
        "print(numbers)\n",
        "\n",
        "numbers.update([2,3,4,5])\n",
        "print(numbers)\n",
        "\n",
        "numbers.discard(5)\n",
        "print(numbers)\n",
        "\n",
        "numbers.remove(4)\n",
        "print(numbers)\n",
        "\n",
        "numbers.clear()\n",
        "print(numbers)"
      ],
      "metadata": {
        "colab": {
          "base_uri": "https://localhost:8080/"
        },
        "id": "pMChnsSe2ciR",
        "outputId": "79134939-f115-40f2-8721-20ec49a47652"
      },
      "execution_count": null,
      "outputs": [
        {
          "output_type": "stream",
          "name": "stdout",
          "text": [
            "{1, 2, 3, 4}\n",
            "{1, 2, 3, 4, 5}\n",
            "{1, 2, 3, 4}\n",
            "{1, 2, 3}\n",
            "set()\n"
          ]
        }
      ]
    },
    {
      "cell_type": "code",
      "source": [
        "A={1,2,3}\n",
        "B={3,4,5}\n",
        "\n",
        "print(A|B)\n",
        "print(A.union(B))\n",
        "print(B.union(A))"
      ],
      "metadata": {
        "colab": {
          "base_uri": "https://localhost:8080/"
        },
        "id": "yJpteOlV3hUQ",
        "outputId": "7a61e79a-d933-4a1c-b072-cfce87adc760"
      },
      "execution_count": null,
      "outputs": [
        {
          "output_type": "stream",
          "name": "stdout",
          "text": [
            "{1, 2, 3, 4, 5}\n",
            "{1, 2, 3, 4, 5}\n",
            "{1, 2, 3, 4, 5}\n"
          ]
        }
      ]
    },
    {
      "cell_type": "code",
      "source": [
        "A={1,2,3}\n",
        "B={3,4,5}\n",
        "\n",
        "print(A&B)\n",
        "print(A.intersection(B))"
      ],
      "metadata": {
        "colab": {
          "base_uri": "https://localhost:8080/"
        },
        "id": "N9B8B7_44ItO",
        "outputId": "ff51fec5-1d6c-4e64-c1d7-17c90e86143c"
      },
      "execution_count": null,
      "outputs": [
        {
          "output_type": "stream",
          "name": "stdout",
          "text": [
            "{3}\n",
            "{3}\n"
          ]
        }
      ]
    },
    {
      "cell_type": "code",
      "source": [
        "A={1,2,3}\n",
        "B={3,4,5}\n",
        "\n",
        "print(A-B)\n",
        "print(A.difference(B))\n",
        "print(B-A)\n",
        "print(B.difference(A))"
      ],
      "metadata": {
        "colab": {
          "base_uri": "https://localhost:8080/"
        },
        "id": "VfNtbfi04ocO",
        "outputId": "4adbbc94-2dfd-4060-860a-dc10df8aeea6"
      },
      "execution_count": null,
      "outputs": [
        {
          "output_type": "stream",
          "name": "stdout",
          "text": [
            "{1, 2}\n",
            "{1, 2}\n",
            "{4, 5}\n",
            "{4, 5}\n"
          ]
        }
      ]
    },
    {
      "cell_type": "code",
      "source": [
        "partyA=set([\"Park\",\"Kim\",\"Lee\"])\n",
        "partyB=set([\"Park\",\"Choi\"])\n",
        "\n",
        "print(\"파티A=\",partyA)\n",
        "print(\"파티B=\",partyB)\n",
        "print(\"동시에 참석한 사람=\",partyA.intersection(partyB))"
      ],
      "metadata": {
        "colab": {
          "base_uri": "https://localhost:8080/"
        },
        "id": "IbtxaBSH46aB",
        "outputId": "6f9509d9-a8d8-4a6b-a863-d219be27cf6d"
      },
      "execution_count": null,
      "outputs": [
        {
          "output_type": "stream",
          "name": "stdout",
          "text": [
            "파티A= {'Kim', 'Lee', 'Park'}\n",
            "파티B= {'Choi', 'Park'}\n",
            "동시에 참석한 사람= {'Park'}\n"
          ]
        }
      ]
    },
    {
      "cell_type": "code",
      "source": [
        "def count_unique_words(text):\n",
        "  words=text.split()\n",
        "  unique_words=set(words)\n",
        "\n",
        "  return len(unique_words)\n",
        "\n",
        "user_input=input(\"문자열을 입력하세요:\")\n",
        "result=count_unique_words(user_input)\n",
        "print(\"중복되지 않은 단어의 개수: \",result)"
      ],
      "metadata": {
        "id": "xkcSxgzrTTqn",
        "colab": {
          "base_uri": "https://localhost:8080/"
        },
        "outputId": "9af2e3d8-9fd2-4d5c-8a26-5856c852c0c4"
      },
      "execution_count": null,
      "outputs": [
        {
          "output_type": "stream",
          "name": "stdout",
          "text": [
            "문자열을 입력하세요:Hello world hello Python world\n",
            "중복되지 않은 단어의 개수:  4\n"
          ]
        }
      ]
    },
    {
      "cell_type": "code",
      "source": [
        "triples={x:x*x*x for x in range(6)}\n",
        "print(triples)"
      ],
      "metadata": {
        "colab": {
          "base_uri": "https://localhost:8080/"
        },
        "id": "bKiigfTne1cE",
        "outputId": "72a08f6b-4225-4655-80da-60ee03115843"
      },
      "execution_count": null,
      "outputs": [
        {
          "output_type": "stream",
          "name": "stdout",
          "text": [
            "{0: 0, 1: 1, 2: 8, 3: 27, 4: 64, 5: 125}\n"
          ]
        }
      ]
    },
    {
      "cell_type": "code",
      "source": [
        "def printV(a,b,c):\n",
        "  print(a,b,c)\n",
        "\n",
        "my_list=[1,2,3]\n",
        "printV(*my_list)"
      ],
      "metadata": {
        "colab": {
          "base_uri": "https://localhost:8080/"
        },
        "id": "pWgVkIIwiJTC",
        "outputId": "3ee7b001-bbea-41cb-f1aa-c88c39cd8eec"
      },
      "execution_count": null,
      "outputs": [
        {
          "output_type": "stream",
          "name": "stdout",
          "text": [
            "1 2 3\n"
          ]
        }
      ]
    },
    {
      "cell_type": "code",
      "source": [
        "def info(name,age):\n",
        "  print(f'Name:{name},Age:{age}')\n",
        "\n",
        "myDict={'name':'Alice','age':30}\n",
        "info(**myDict)"
      ],
      "metadata": {
        "colab": {
          "base_uri": "https://localhost:8080/"
        },
        "id": "p1GXjowmiSDr",
        "outputId": "e35cf5c3-c75e-4b47-b52f-c46073ac1e57"
      },
      "execution_count": null,
      "outputs": [
        {
          "output_type": "stream",
          "name": "stdout",
          "text": [
            "Name:Alice,Age:30\n"
          ]
        }
      ]
    },
    {
      "cell_type": "code",
      "source": [
        "english_dict=dict()\n",
        "\n",
        "english_dict['one']='하나'\n",
        "english_dict['two']='둘'\n",
        "english_dict['three']='셋'\n",
        "\n",
        "word=input(\"단어를 입력하세요: \")\n",
        "print(english_dict.get(word,\"없음\"))\n"
      ],
      "metadata": {
        "colab": {
          "base_uri": "https://localhost:8080/"
        },
        "id": "JydRxp8gi2Xd",
        "outputId": "d8524e91-e7e5-475a-f42f-d909719b2b57"
      },
      "execution_count": null,
      "outputs": [
        {
          "output_type": "stream",
          "name": "stdout",
          "text": [
            "단어를 입력하세요: one\n",
            "하나\n"
          ]
        }
      ]
    },
    {
      "cell_type": "code",
      "source": [
        "import time\n",
        "start=time.time()\n",
        "\n",
        "def fib(n):\n",
        "  if n<=1:\n",
        "    return n\n",
        "  else:\n",
        "    return fib(n-1)+fib(n-2)\n",
        "\n",
        "print(fib(40))\n",
        "print(\"time\",time.time()-start)"
      ],
      "metadata": {
        "colab": {
          "base_uri": "https://localhost:8080/"
        },
        "id": "wbATeRP6j5H_",
        "outputId": "d441e671-25db-42bb-ec33-f3bcdaf2f9ad"
      },
      "execution_count": null,
      "outputs": [
        {
          "output_type": "stream",
          "name": "stdout",
          "text": [
            "102334155\n",
            "time 26.451035499572754\n"
          ]
        }
      ]
    },
    {
      "cell_type": "code",
      "source": [
        "import time\n",
        "start=time.time()\n",
        "\n",
        "table={0:0,1:1}\n",
        "\n",
        "def fib(n):\n",
        "  if n not in table:\n",
        "    value=fib(n-1)+fib(n-2)\n",
        "    table[n]=value\n",
        "  return table[n]\n",
        "\n",
        "print(fib(50))\n",
        "\n",
        "print(\"time\",time.time()-start)"
      ],
      "metadata": {
        "colab": {
          "base_uri": "https://localhost:8080/"
        },
        "id": "OLov2zxiluAa",
        "outputId": "6c6ad4a3-fc0b-4b65-8f1b-570c8cc3b85c"
      },
      "execution_count": null,
      "outputs": [
        {
          "output_type": "stream",
          "name": "stdout",
          "text": [
            "12586269025\n",
            "time 0.00044345855712890625\n"
          ]
        }
      ]
    },
    {
      "cell_type": "code",
      "source": [
        "matrix={(1,2):1,(2,2):2,(3,2):3}\n",
        "\n",
        "for r in range(5):\n",
        "  for c in range(5):\n",
        "    print(matrix.get((r,c),0),end=\"\")\n",
        "  print()"
      ],
      "metadata": {
        "colab": {
          "base_uri": "https://localhost:8080/"
        },
        "id": "yjy1ymxymjZr",
        "outputId": "adf42339-f02d-479b-ca38-1dab3e8ce083"
      },
      "execution_count": null,
      "outputs": [
        {
          "output_type": "stream",
          "name": "stdout",
          "text": [
            "00000\n",
            "00100\n",
            "00200\n",
            "00300\n",
            "00000\n"
          ]
        }
      ]
    },
    {
      "cell_type": "code",
      "source": [
        "s='Never put off till tomorrow what you can do today'\n",
        "result=s.split()\n",
        "print(result)"
      ],
      "metadata": {
        "colab": {
          "base_uri": "https://localhost:8080/"
        },
        "id": "pwhVO342rbkJ",
        "outputId": "eb042caf-5bdb-4df7-f8d4-b44bacbd72aa"
      },
      "execution_count": null,
      "outputs": [
        {
          "output_type": "stream",
          "name": "stdout",
          "text": [
            "['Never', 'put', 'off', 'till', 'tomorrow', 'what', 'you', 'can', 'do', 'today']\n"
          ]
        }
      ]
    },
    {
      "cell_type": "code",
      "source": [
        "s='apple,banana,orange'\n",
        "result=s.split(',')\n",
        "print(result)"
      ],
      "metadata": {
        "colab": {
          "base_uri": "https://localhost:8080/"
        },
        "id": "IkNodFZts_B2",
        "outputId": "27b33adb-b45d-4544-efae-c5d8b3df0de3"
      },
      "execution_count": null,
      "outputs": [
        {
          "output_type": "stream",
          "name": "stdout",
          "text": [
            "['apple', 'banana', 'orange']\n"
          ]
        }
      ]
    },
    {
      "cell_type": "code",
      "source": [
        "my_list=['apple','banana','orange']\n",
        "result=\",\".join(my_list)\n",
        "print(result)"
      ],
      "metadata": {
        "colab": {
          "base_uri": "https://localhost:8080/"
        },
        "id": "AApvLSpdtGbm",
        "outputId": "9c2ac1bd-6a3c-49b9-a6ef-90d5b728722d"
      },
      "execution_count": null,
      "outputs": [
        {
          "output_type": "stream",
          "name": "stdout",
          "text": [
            "apple,banana,orange\n"
          ]
        }
      ]
    },
    {
      "cell_type": "code",
      "source": [
        "text=\"Hello World!\"\n",
        "reversed=text[::-1]\n",
        "print(reversed)\n",
        "\n",
        "text=\"I love apples and apples are tasty\"\n",
        "reText=text.replace(\"apples\",\"bananas\")\n",
        "print(reText)\n",
        "\n",
        "text=\"Python is a powerful programming language\"\n",
        "index=text.find(\"powerful\")\n",
        "print(index)\n",
        "\n",
        "text=\"Python is fun and versatile\"\n",
        "split_text=text.split()\n",
        "print(split_text)"
      ],
      "metadata": {
        "colab": {
          "base_uri": "https://localhost:8080/"
        },
        "id": "7IRfzrLWtZtV",
        "outputId": "7d8e87f8-4aa7-4288-92ee-77572d4cf13d"
      },
      "execution_count": null,
      "outputs": [
        {
          "output_type": "stream",
          "name": "stdout",
          "text": [
            "!dlroW olleH\n",
            "I love bananas and bananas are tasty\n",
            "12\n",
            "['Python', 'is', 'fun', 'and', 'versatile']\n"
          ]
        }
      ]
    },
    {
      "cell_type": "code",
      "source": [
        "string=input(\"문자열을 입력하시오: \")\n",
        "reversed_string=string[::-1]\n",
        "\n",
        "if string==reversed_string:\n",
        "  print(\"회문입니다.\")\n",
        "else:\n",
        "  print(\"회문이 아닙니다.\")"
      ],
      "metadata": {
        "colab": {
          "base_uri": "https://localhost:8080/"
        },
        "id": "81TKr-HevmOq",
        "outputId": "b13415dd-efe0-49e8-8e96-ea8beca9424e"
      },
      "execution_count": null,
      "outputs": [
        {
          "output_type": "stream",
          "name": "stdout",
          "text": [
            "문자열을 입력하시오: civic\n",
            "회문입니다.\n"
          ]
        }
      ]
    },
    {
      "cell_type": "code",
      "source": [
        "address=input(\"이메일 주소를 입력하시오: \")\n",
        "(id,domain)=address.split('@')\n",
        "\n",
        "print('아이디',id)\n",
        "print('도메인',domain )"
      ],
      "metadata": {
        "colab": {
          "base_uri": "https://localhost:8080/"
        },
        "id": "SvbZLEG0yEA0",
        "outputId": "27ef68ec-4152-48e2-ed67-a3ab155c3f13"
      },
      "execution_count": null,
      "outputs": [
        {
          "output_type": "stream",
          "name": "stdout",
          "text": [
            "이메일 주소를 입력하시오: aaa@google.com\n",
            "아이디 aaa\n",
            "도메인 google.com\n"
          ]
        }
      ]
    },
    {
      "cell_type": "code",
      "source": [
        "input_string=input(\"문자열을 입력하시오: \")\n",
        "words=input_string.split()\n",
        "\n",
        "word_count={}\n",
        "\n",
        "for word in words:\n",
        "  word=word.lower()\n",
        "\n",
        "  if word not in word_count:\n",
        "    word_count[word]=1\n",
        "  else:\n",
        "    word_count[word]+=1\n",
        "\n",
        "for word,count in word_count.items():\n",
        "  print(f\"{word}:{count}번\")"
      ],
      "metadata": {
        "colab": {
          "base_uri": "https://localhost:8080/"
        },
        "id": "Ci2hMIkN0DEU",
        "outputId": "cf9a82aa-5a85-4ff1-b58f-c0006189a988"
      },
      "execution_count": null,
      "outputs": [
        {
          "output_type": "stream",
          "name": "stdout",
          "text": [
            "문자열을 입력하시오: This is a sample sentence. This is another sentence\n",
            "this:2번\n",
            "is:2번\n",
            "a:1번\n",
            "sample:1번\n",
            "sentence.:1번\n",
            "another:1번\n",
            "sentence:1번\n"
          ]
        }
      ]
    },
    {
      "cell_type": "code",
      "source": [
        "# 과제 01\n",
        "\n",
        "def union_intersection(tuple_a,tuple_b):\n",
        "  union_set=set(tuple_a).union(set(tuple_b)) # 여기가 key\n",
        "\n",
        "  intersection_set=set(tuple_a).intersection(set(tuple_b))\n",
        "\n",
        "  return tuple(sorted(union_set)),tuple(sorted(intersection_set))\n",
        "\n",
        "\n",
        "tuple_A=(1,2,3,4)\n",
        "tuple_B=(3,4,5,6)\n",
        "\n",
        "\n",
        "result_union,result_intersection=union_intersection(tuple_A,tuple_B)\n",
        "\n",
        "\n",
        "print(\"튜플 A=:\",tuple_A)\n",
        "print(\"튜플 B=:\",tuple_B)\n",
        "print(\"합집합:\",tuple(result_union))\n",
        "print(\"교집합:\",tuple(result_intersection))"
      ],
      "metadata": {
        "colab": {
          "base_uri": "https://localhost:8080/"
        },
        "id": "2xCed4322MhD",
        "outputId": "654b2ad2-ae43-4353-ecb6-e1b346493dec"
      },
      "execution_count": 1,
      "outputs": [
        {
          "output_type": "stream",
          "name": "stdout",
          "text": [
            "튜플 A=: (1, 2, 3, 4)\n",
            "튜플 B=: (3, 4, 5, 6)\n",
            "합집합: (1, 2, 3, 4, 5, 6)\n",
            "교집합: (3, 4)\n"
          ]
        }
      ]
    },
    {
      "cell_type": "code",
      "source": [
        "# 과제 02\n",
        "\n",
        "def findKeys(myDict,value):\n",
        "  return [key for key,val in myDict.items() if val ]\n",
        "\n",
        "\n",
        "inputDict={'apple':100,'banana':200,'orange':100,'grape':300}\n",
        "\n",
        "search=100\n",
        "\n",
        "\n",
        "print(f\"입력 딕셔너리={inputDict}\")\n",
        "print(f\"값 {search}을 가지는 키들: {findKeys(inputDict,search)}\")"
      ],
      "metadata": {
        "id": "uaxEqPI13OKZ",
        "colab": {
          "base_uri": "https://localhost:8080/"
        },
        "outputId": "153637e3-9318-42b7-dd26-81ee00e3e5c2"
      },
      "execution_count": null,
      "outputs": [
        {
          "output_type": "stream",
          "name": "stdout",
          "text": [
            "입력 딕셔너리={'apple': 100, 'banana': 200, 'orange': 100, 'grape': 300}\n",
            "값 100을 가지는 키들: ['apple', 'banana', 'orange', 'grape']\n"
          ]
        }
      ]
    },
    {
      "cell_type": "code",
      "source": [
        "# 과제 03\n",
        "\n",
        "import random\n",
        "\n",
        "def lotto_number():\n",
        "  lotto_numbers=set()\n",
        "\n",
        "  while len(lotto_numbers)<6:\n",
        "    lotto_numbers.add(random.randint(1,45))\n",
        "\n",
        "  return lotto_numbers\n",
        "\n",
        "\n",
        "lotto_result=lotto_number()\n",
        "print(\"로또 번호:\", lotto_result)\n",
        "\n",
        "\n"
      ],
      "metadata": {
        "colab": {
          "base_uri": "https://localhost:8080/"
        },
        "id": "YlMPvHWKSoLh",
        "outputId": "b26b1146-cf42-4eb0-f24a-5cbc01d3e060"
      },
      "execution_count": 3,
      "outputs": [
        {
          "output_type": "stream",
          "name": "stdout",
          "text": [
            "로또 번호: {2, 4, 11, 43, 19, 27}\n"
          ]
        }
      ]
    },
    {
      "cell_type": "code",
      "source": [
        "# 과제 04\n",
        "\n",
        "def check(date):\n",
        "  if len(date)!=8:\n",
        "    return False\n",
        "\n",
        "  year=int(date[:4])\n",
        "  month=int(date[4:6])\n",
        "  day=int(date[6:8])\n",
        "\n",
        "  if month<1 or month>12:\n",
        "    return False\n",
        "\n",
        "  if day<1 or day>31:\n",
        "    return False\n",
        "\n",
        "  elif month in [4,6,9,11] and day>30:\n",
        "    return False\n",
        "\n",
        "  elif month==2 and day>29:\n",
        "    return False\n",
        "\n",
        "  return True\n",
        "\n",
        "\n",
        "birthday=input(\"생년월일을 입력하시오: \")\n",
        "\n",
        "\n",
        "if check(birthday):\n",
        "  print(\"올바른 생년월일입니다.\")\n",
        "else:\n",
        "  print(\"올바른 생년월일이 아닙니다.\")"
      ],
      "metadata": {
        "colab": {
          "base_uri": "https://localhost:8080/"
        },
        "id": "sErQ6jkGVxrU",
        "outputId": "db010c59-de18-4291-93cb-1ec55472af07"
      },
      "execution_count": 4,
      "outputs": [
        {
          "output_type": "stream",
          "name": "stdout",
          "text": [
            "생년월일을 입력하시오: 19991301\n",
            "올바른 생년월일이 아닙니다.\n"
          ]
        }
      ]
    },
    {
      "cell_type": "code",
      "source": [
        "# 과제 05\n",
        "\n",
        "def char_to_digit(char):\n",
        "  keypad={\n",
        "      'A':'2','B':'2','C':'2',\n",
        "      'D':'3','E':'3','F':'3',\n",
        "      'G':'4','H':'4','I':'4',\n",
        "      'J':'5','K':'5','L':'5',\n",
        "      'M':'6','N':'6','O':'6',\n",
        "      'P':'7','Q':'7','R':'7','S':'7',\n",
        "      'T':'8','U':'8','V':'8',\n",
        "      'W':'9','X':'9','Y':'9','Z':'9',\n",
        "      '+':'0'\n",
        "  }\n",
        "  return keypad[char]\n",
        "\n",
        "def string_to_digits(keypad):\n",
        "  digits=''\n",
        "  for char in keypad:\n",
        "    if char.isalpha() or char=='+':\n",
        "      digits+=char_to_digit(char)\n",
        "  return digits\n",
        "\n",
        "\n",
        "\n",
        "\n",
        "\n",
        "\n",
        "string=input(\"문자열을 입력하시오: \")\n",
        "\n",
        "\n",
        "digits=string_to_digits(string.upper())\n",
        "\n",
        "\n",
        "print(digits)"
      ],
      "metadata": {
        "colab": {
          "base_uri": "https://localhost:8080/"
        },
        "id": "cm7T3sNuaqq3",
        "outputId": "527f3492-a365-4d88-8c31-38e463729f53"
      },
      "execution_count": 5,
      "outputs": [
        {
          "output_type": "stream",
          "name": "stdout",
          "text": [
            "문자열을 입력하시오: NUMBER\n",
            "686237\n"
          ]
        }
      ]
    },
    {
      "cell_type": "code",
      "source": [
        "# 과제 06\n",
        "\n",
        "admain={\n",
        "    \"nnn\":\"12345678\",\n",
        "    \"user2\":\"password2\",\n",
        "    \"user3\":\"password3\",\n",
        "}\n",
        "\n",
        "user_id=input(f\"아이디를 입력하세요: \")\n",
        "\n",
        "if user_id in admain:\n",
        "  password=admain[user_id]\n",
        "  print(f\"패스워드는 {password} 입니다.\")\n",
        "else:\n",
        "  print(f\"해당하는 아이디가 존재하지 않습니다.\")"
      ],
      "metadata": {
        "colab": {
          "base_uri": "https://localhost:8080/"
        },
        "id": "k8zMrdE4p_eZ",
        "outputId": "0656708d-5a82-421e-f143-e584da946519"
      },
      "execution_count": 6,
      "outputs": [
        {
          "output_type": "stream",
          "name": "stdout",
          "text": [
            "아이디를 입력하세요: nnn\n",
            "패스워드는 12345678 입니다.\n"
          ]
        }
      ]
    },
    {
      "cell_type": "code",
      "source": [
        "# 과제 07\n",
        "\n",
        "phoneBook={}\n",
        "mode=\"입력모드\"\n",
        "\n",
        "while True:\n",
        "  if mode==\"입력모드\":\n",
        "    name=input(\"(입력모드)이름을 입력하시오: \")\n",
        "    if name==\"\":\n",
        "      mode=\"검색모드\"\n",
        "      continue\n",
        "    phone_number=input(\"전화번호를 입력하시오: \")\n",
        "    phoneBook[name]=phone_number\n",
        "  elif mode==\"검색모드\":\n",
        "    name=input(\"(검색모드)이름을 입력하시오: \")\n",
        "    if name in phoneBook:\n",
        "      print(f\"{name}의 전화번호는 {phoneBook[name]} 입니다.\")\n",
        "    elif name==\"\":\n",
        "      break\n",
        "    else:\n",
        "      print(\"해당하는 이름의 친구가 존재하지 않습니다.\")\n",
        "  else:\n",
        "    print(\"잘못된 모드를 입력하셨습니다.\")\n"
      ],
      "metadata": {
        "colab": {
          "base_uri": "https://localhost:8080/"
        },
        "id": "g7F-oJ82YnUH",
        "outputId": "0b9bb063-89fc-4889-e767-ef35c28e51c5"
      },
      "execution_count": null,
      "outputs": [
        {
          "name": "stdout",
          "output_type": "stream",
          "text": [
            "(입력모드)이름을 입력하시오: 뽐이\n",
            "전화번호를 입력하시오: 12345\n",
            "(입력모드)이름을 입력하시오: 루크\n",
            "전화번호를 입력하시오: 678910\n",
            "(입력모드)이름을 입력하시오: \n",
            "(검색모드)이름을 입력하시오: 루크\n",
            "루크의 전화번호는 678910 입니다.\n",
            "(검색모드)이름을 입력하시오: 지디\n",
            "해당하는 이름의 친구가 존재하지 않습니다.\n",
            "(검색모드)이름을 입력하시오: \n"
          ]
        }
      ]
    },
    {
      "cell_type": "code",
      "source": [
        "# 과제 08\n",
        "\n",
        "sales=(100,121,120,130,140,120,122,123,190,125)\n",
        "\n",
        "count=0\n",
        "\n",
        "for i in range(1,len(sales)):\n",
        "  if sales[i]<sales[i-1]:\n",
        "    count+=1\n",
        "\n",
        "\n",
        "print(f\"매출이 전날보다 감소한 날: {count}일\")\n"
      ],
      "metadata": {
        "colab": {
          "base_uri": "https://localhost:8080/"
        },
        "id": "Vjtd-MByO0_U",
        "outputId": "a2d3e1d5-97ea-4f8e-c048-47fbd840da4b"
      },
      "execution_count": null,
      "outputs": [
        {
          "output_type": "stream",
          "name": "stdout",
          "text": [
            "매출이 전날보다 감소한 날: 3일\n"
          ]
        }
      ]
    },
    {
      "cell_type": "code",
      "source": [
        "# 과제 09\n",
        "\n",
        "a=(100,150,230,120,180,100,140,95,81,21,4)\n",
        "b=(300,420,530,420,400,300,40,5,1,1,1)\n",
        "ballotA=sum(a[2:])\n",
        "ballotB=sum(b[2:])\n",
        "\n",
        "print(f'마을 A와 B에 보낼 투표용지의 개수는 각각 {ballotA} 장과 {ballotB} 장입니다.')\n"
      ],
      "metadata": {
        "colab": {
          "base_uri": "https://localhost:8080/"
        },
        "id": "wg4OrL-mP2CO",
        "outputId": "9d96ca17-024a-4a83-e430-331cd18d678c"
      },
      "execution_count": null,
      "outputs": [
        {
          "output_type": "stream",
          "name": "stdout",
          "text": [
            "마을 A와 B에 보낼 투표용지의 개수는 각각 971 장과 1698 장입니다.\n"
          ]
        }
      ]
    }
  ]
}