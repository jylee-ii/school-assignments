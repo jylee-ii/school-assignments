{
  "nbformat": 4,
  "nbformat_minor": 0,
  "metadata": {
    "colab": {
      "provenance": [],
      "include_colab_link": true
    },
    "kernelspec": {
      "name": "python3",
      "display_name": "Python 3"
    },
    "language_info": {
      "name": "python"
    }
  },
  "cells": [
    {
      "cell_type": "markdown",
      "metadata": {
        "id": "view-in-github",
        "colab_type": "text"
      },
      "source": [
        "<a href=\"https://colab.research.google.com/github/jylee-ii/school-assignments/blob/main/%5B%EA%B3%BC%EC%A0%9C1%5D_20251226_%EC%9D%B4%EC%A7%80%EC%9D%B4.ipynb\" target=\"_parent\"><img src=\"https://colab.research.google.com/assets/colab-badge.svg\" alt=\"Open In Colab\"/></a>"
      ]
    },
    {
      "cell_type": "code",
      "source": [
        "print('Hello world')"
      ],
      "metadata": {
        "id": "k0aiEF9P8xSg"
      },
      "execution_count": null,
      "outputs": []
    },
    {
      "cell_type": "code",
      "source": [
        "x=11\n",
        "y=2\n",
        "q=x//y\n",
        "r=x%y\n",
        "\n",
        "print(f\"{x}을 {y}로 나눈 몫={q}\")\n",
        "print(f\"{x}을 {y}로 나눈 나머지={r}\")"
      ],
      "metadata": {
        "id": "JITN21Xa8xem",
        "colab": {
          "base_uri": "https://localhost:8080/"
        },
        "outputId": "2bb5aa9c-5a4f-43db-f325-d1dac63df854"
      },
      "execution_count": null,
      "outputs": [
        {
          "output_type": "stream",
          "name": "stdout",
          "text": [
            "11을 2로 나눈 몫=5\n",
            "11을 2로 나눈 나머지=1\n"
          ]
        }
      ]
    },
    {
      "cell_type": "code",
      "source": [
        "today=0\n",
        "print((today+10)%7)"
      ],
      "metadata": {
        "colab": {
          "base_uri": "https://localhost:8080/"
        },
        "id": "hiYyZZJOBdkQ",
        "outputId": "08c8d53b-25ba-4042-8e17-4b0a839a1903"
      },
      "execution_count": null,
      "outputs": [
        {
          "output_type": "stream",
          "name": "stdout",
          "text": [
            "3\n"
          ]
        }
      ]
    },
    {
      "cell_type": "code",
      "source": [
        "myMoney=5000\n",
        "candyPrice=120\n",
        "\n",
        "numCandies=myMoney//candyPrice\n",
        "print(numCandies)\n",
        "change=myMoney%candyPrice\n",
        "print(change)"
      ],
      "metadata": {
        "colab": {
          "base_uri": "https://localhost:8080/"
        },
        "id": "8bazZfuGBrv6",
        "outputId": "1e217a4b-cd9d-4ca4-ff64-ceb738b4ed2c"
      },
      "execution_count": null,
      "outputs": [
        {
          "output_type": "stream",
          "name": "stdout",
          "text": [
            "41\n",
            "80\n"
          ]
        }
      ]
    },
    {
      "cell_type": "code",
      "source": [
        "24*(1+0.06)**382"
      ],
      "metadata": {
        "colab": {
          "base_uri": "https://localhost:8080/"
        },
        "id": "jfvU0f9wFNBJ",
        "outputId": "70c71d2e-1354-4dc3-c86f-297f8355cde7"
      },
      "execution_count": null,
      "outputs": [
        {
          "output_type": "execute_result",
          "data": {
            "text/plain": [
              "111442737812.28842"
            ]
          },
          "metadata": {},
          "execution_count": 8
        }
      ]
    },
    {
      "cell_type": "code",
      "source": [
        "init_money=24\n",
        "interest=0.06\n",
        "years=382\n",
        "\n",
        "init_money*(1+interest)**years"
      ],
      "metadata": {
        "colab": {
          "base_uri": "https://localhost:8080/"
        },
        "id": "gjHDuFT4Fkmy",
        "outputId": "5fd8108d-7bd7-4058-842a-1477062c2943"
      },
      "execution_count": null,
      "outputs": [
        {
          "output_type": "execute_result",
          "data": {
            "text/plain": [
              "111442737812.28842"
            ]
          },
          "metadata": {},
          "execution_count": 9
        }
      ]
    },
    {
      "cell_type": "code",
      "source": [
        "name=input(\"이름이 무엇인가요?\")"
      ],
      "metadata": {
        "colab": {
          "base_uri": "https://localhost:8080/"
        },
        "id": "KMWK24rtIXNT",
        "outputId": "35ac55c7-5c5a-496d-8ffc-0e2f673ec584"
      },
      "execution_count": null,
      "outputs": [
        {
          "name": "stdout",
          "output_type": "stream",
          "text": [
            "이름이 무엇인가요?지디\n"
          ]
        }
      ]
    },
    {
      "cell_type": "code",
      "source": [
        "int(input(\"첫 번째 정수를 입력하시오:\"))\n",
        "int(input(\"두 번째 정수를 입력하시오:\"))\n",
        "\n",
        "result=x+y\n",
        "print(f\"{x}+{y}={result}\")\n",
        "\n",
        "result=x-y\n",
        "print(f\"{x}-{y}={result}\")\n",
        "\n",
        "result=x*y\n",
        "print(f\"{x}*{y}={result}\")\n",
        "\n",
        "result=x/y\n",
        "print(f\"{x}/{y}={result}\")"
      ],
      "metadata": {
        "colab": {
          "base_uri": "https://localhost:8080/"
        },
        "id": "10Ov3D7nQD6l",
        "outputId": "dc8a8e6f-c7d2-4df7-a8c7-3b3c9690127a"
      },
      "execution_count": null,
      "outputs": [
        {
          "output_type": "stream",
          "name": "stdout",
          "text": [
            "첫 번째 정수를 입력하시오:5\n",
            "두 번째 정수를 입력하시오:10\n",
            "11+2=13\n",
            "11-2=9\n",
            "11*2=22\n",
            "11/2=5.5\n"
          ]
        }
      ]
    },
    {
      "cell_type": "code",
      "source": [
        "product=\"coffee\"\n",
        "count=3\n",
        "price=10000\n",
        "print(f\"상품{product}{count}개의 가격은{count*price}원입니다.\")"
      ],
      "metadata": {
        "colab": {
          "base_uri": "https://localhost:8080/"
        },
        "id": "pxFlE-YUQZ7V",
        "outputId": "9ed645fa-178c-45ff-fea5-34afe995f5d8"
      },
      "execution_count": null,
      "outputs": [
        {
          "output_type": "stream",
          "name": "stdout",
          "text": [
            "상품coffee3개의 가격은30000원입니다.\n"
          ]
        }
      ]
    },
    {
      "cell_type": "code",
      "source": [
        "city=input(\"도시명을 입력하시오\")\n",
        "temperature=float(input(\"기온을 입력하세요(예:20.5):\"))\n",
        "weather_condition=input(\"날씨 상태를 입력하세요:\")\n",
        "news=f\"\\n오늘 {city}의 날씨는 {weather_condition}이며, 기온은 {temperature}도입니다.\"\n",
        "news+=\"적당한 날씨입니다. 즐거운 하루 되세요!\"\n",
        "print(news)"
      ],
      "metadata": {
        "colab": {
          "base_uri": "https://localhost:8080/"
        },
        "id": "vWxZVXwsXM7l",
        "outputId": "d2dd8a39-a192-402e-c118-4003da44f535"
      },
      "execution_count": null,
      "outputs": [
        {
          "output_type": "stream",
          "name": "stdout",
          "text": [
            "도시명을 입력하시오서울\n",
            "기온을 입력하세요(예:20.5):22\n",
            "날씨 상태를 입력하세요:맑음\n",
            "\n",
            "오늘 서울의 날씨는 맑음이며, 기온은 22.0도입니다.적당한 날씨입니다. 즐거운 하루 되세요!\n"
          ]
        }
      ]
    },
    {
      "cell_type": "code",
      "source": [
        "word1=input('첫 번째 단어를 입력해주세요:')\n",
        "word2=input('두 번째 단어를 입력해주세요:')\n",
        "word3=input('세 번째 단어를 입력해주세요:')\n",
        "\n",
        "acronym=word1[0]+word2[0]+word3[0]\n",
        "print(acronym)"
      ],
      "metadata": {
        "colab": {
          "base_uri": "https://localhost:8080/"
        },
        "id": "nrnQ4k-5ZCD4",
        "outputId": "79363836-d11e-4260-b596-c448a7435c98"
      },
      "execution_count": null,
      "outputs": [
        {
          "output_type": "stream",
          "name": "stdout",
          "text": [
            "첫 번째 단어를 입력해주세요:original\n",
            "두 번째 단어를 입력해주세요:sound\n",
            "세 번째 단어를 입력해주세요:track\n",
            "ost\n"
          ]
        }
      ]
    },
    {
      "cell_type": "code",
      "source": [
        "word=input(\"첫 번째 단어를 입력해주세요:\")\n",
        "\n",
        "print(f\"첫 번째 문자는 {word[0]} 입니다\")\n",
        "print(f\"마지막 문자는 {word[-1]} 입니다\")\n",
        "\n",
        "length=len(word)//2\n",
        "print(f\"가운데 문자는 {word[length]} 입니다\")"
      ],
      "metadata": {
        "colab": {
          "base_uri": "https://localhost:8080/"
        },
        "id": "ciuFeEuCaLqY",
        "outputId": "1506d08a-7f3c-4ebf-8845-e1f05b9439da"
      },
      "execution_count": null,
      "outputs": [
        {
          "output_type": "stream",
          "name": "stdout",
          "text": [
            "첫 번째 단어를 입력해주세요:2\n",
            "첫 번째 문자는 2 입니다\n",
            "마지막 문자는 2 입니다\n",
            "가운데 문자는 2 입니다\n"
          ]
        }
      ]
    },
    {
      "cell_type": "code",
      "source": [
        "x=input(\"도시명을 입력하세요:\")\n",
        "y=float(input(\"기온을 입력하세요:\"))\n",
        "z=input(\"날씨 상태를 입력하세요:\")\n",
        "news=f\"오늘 {x}의 날씨는 {z}이며, 기온은 {y}도입니다.\"\n",
        "news+=\"적당한 날씨입니다. 즐거운 하루 되세요!\"\n",
        "print(news)"
      ],
      "metadata": {
        "colab": {
          "base_uri": "https://localhost:8080/"
        },
        "id": "ecWK9LgGBaOs",
        "outputId": "e354c315-9790-47a9-a89d-ec9cc8f6bf98"
      },
      "execution_count": null,
      "outputs": [
        {
          "output_type": "stream",
          "name": "stdout",
          "text": [
            "도시명을 입력하세요:서울\n",
            "기온을 입력하세요:20.5\n",
            "날씨 상태를 입력하세요:맑음\n",
            "오늘 서울의 날씨는 맑음이며, 기온은 20.5도입니다.적당한 날씨입니다. 즐거운 하루 되세요!\n"
          ]
        }
      ]
    },
    {
      "cell_type": "code",
      "source": [
        "# 과제 01\n",
        "x=int(input(\"첫 번째 정수를 입력하세요: \"))\n",
        "y=int(input(\"두 번째 정수를 입력하세요: \"))\n",
        "\n",
        "print(\"정수의 합:\", x+y)\n",
        "print(\"정수의 차:\", x-y)\n",
        "print(\"정수의 곱:\", x*y)\n",
        "print(\"정수의 평균:\", (x+y)/2)\n",
        "print(\"큰 수:\", max(x,y))\n",
        "print(\"작은 수:\", min(x,y))"
      ],
      "metadata": {
        "id": "vNTV5KzfCrUK",
        "colab": {
          "base_uri": "https://localhost:8080/"
        },
        "outputId": "5a4d191b-94e8-413c-8317-27fe39ad15ca"
      },
      "execution_count": null,
      "outputs": [
        {
          "output_type": "stream",
          "name": "stdout",
          "text": [
            "첫 번째 정수를 입력하세요: 10\n",
            "두 번째 정수를 입력하세요: 5\n",
            "정수의 합: 15\n",
            "정수의 차: 5\n",
            "정수의 곱: 50\n",
            "정수의 평균: 7.5\n",
            "큰 수: 10\n",
            "작은 수: 5\n"
          ]
        }
      ]
    },
    {
      "cell_type": "code",
      "source": [
        "# 과제 02\n",
        "r=int(input(\"반지름(r)을 입력하세요: \"))\n",
        "h=int(input(\"높이(h)를 입력하세요: \"))\n",
        "\n",
        "vol= round(3.141592*r**2*h,2)\n",
        "print(f\"원기둥의 부피는 {vol} 입니다.\")"
      ],
      "metadata": {
        "colab": {
          "base_uri": "https://localhost:8080/"
        },
        "id": "Ka1qB_OP7zv8",
        "outputId": "c493db11-d508-4c58-dca3-d4eb2b51ae81"
      },
      "execution_count": null,
      "outputs": [
        {
          "output_type": "stream",
          "name": "stdout",
          "text": [
            "반지름(r)을 입력하세요: 5\n",
            "높이(h)를 입력하세요: 3\n",
            "원기둥의 부피는 235.62 입니다.\n"
          ]
        }
      ]
    },
    {
      "cell_type": "code",
      "source": [
        "# 과제 03\n",
        "x=int(input(\"4자리 정수를 입력하세요: \"))\n",
        "print('각 자리수의 합:', x//1000 + (x%1000-x%100)//100 + (x%100-x%10)//10 + x%10)"
      ],
      "metadata": {
        "colab": {
          "base_uri": "https://localhost:8080/"
        },
        "id": "H_uDdJIC76fD",
        "outputId": "05f5a677-c7a8-4c8f-d578-bb6b21e74e42"
      },
      "execution_count": null,
      "outputs": [
        {
          "output_type": "stream",
          "name": "stdout",
          "text": [
            "4자리 정수를 입력하세요: 4567\n",
            "각 자리수의 합: 22\n"
          ]
        }
      ]
    },
    {
      "cell_type": "code",
      "source": [
        "# 과제 04\n",
        "w=int(input(\"무게(킬로그램): \"))\n",
        "h=float(input(\"키(미터): \"))\n",
        "print(f\"당신의 BMI: {w/(h**2):}\")"
      ],
      "metadata": {
        "colab": {
          "base_uri": "https://localhost:8080/"
        },
        "id": "P84bt5J97-Pp",
        "outputId": "926d6bcd-e7a6-4ca0-985b-8ad5a42d568e"
      },
      "execution_count": null,
      "outputs": [
        {
          "output_type": "stream",
          "name": "stdout",
          "text": [
            "무게(킬로그램): 50\n",
            "키(미터): 1.60\n",
            "당신의 BMI: 19.531249999999996\n"
          ]
        }
      ]
    },
    {
      "cell_type": "code",
      "source": [
        "# 과제 05\n",
        "x=input(\"이름을 입력하세요: \")\n",
        "y=input(\"나이를 입력하세요: \")\n",
        "print(f\"안녕하세요, 저는 {x}이고, {y}살입니다.\")"
      ],
      "metadata": {
        "colab": {
          "base_uri": "https://localhost:8080/"
        },
        "id": "BmSxpIm776mh",
        "outputId": "53c4a6c6-5074-4c8d-ba3a-eb3cc745b09c"
      },
      "execution_count": null,
      "outputs": [
        {
          "output_type": "stream",
          "name": "stdout",
          "text": [
            "이름을 입력하세요: 이지이\n",
            "나이를 입력하세요: 20\n",
            "안녕하세요, 저는 이지이이고, 20살입니다.\n"
          ]
        }
      ]
    },
    {
      "cell_type": "code",
      "source": [
        "# 과제 06\n",
        "x=input(\"반복할 문자열을 입력하세요: \")\n",
        "y=int(input(\"반복 횟수를 입력하세요: \"))\n",
        "result=x*y\n",
        "print(f\"결과: {result}\")"
      ],
      "metadata": {
        "colab": {
          "base_uri": "https://localhost:8080/"
        },
        "id": "E15Ifej-76ss",
        "outputId": "947edb81-da63-4658-906b-f92cf9ea8108"
      },
      "execution_count": null,
      "outputs": [
        {
          "output_type": "stream",
          "name": "stdout",
          "text": [
            "반복할 문자열을 입력하세요: love\n",
            "반복 횟수를 입력하세요: 7\n",
            "결과: lovelovelovelovelovelovelove\n"
          ]
        }
      ]
    }
  ]
}