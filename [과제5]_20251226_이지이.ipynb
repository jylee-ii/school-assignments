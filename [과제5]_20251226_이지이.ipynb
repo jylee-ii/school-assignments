{
  "nbformat": 4,
  "nbformat_minor": 0,
  "metadata": {
    "colab": {
      "provenance": [],
      "authorship_tag": "ABX9TyNWpECmgzOJOuzBOWzmQh8y",
      "include_colab_link": true
    },
    "kernelspec": {
      "name": "python3",
      "display_name": "Python 3"
    },
    "language_info": {
      "name": "python"
    }
  },
  "cells": [
    {
      "cell_type": "markdown",
      "metadata": {
        "id": "view-in-github",
        "colab_type": "text"
      },
      "source": [
        "<a href=\"https://colab.research.google.com/github/jylee-ii/school-assignments/blob/main/%5B%EA%B3%BC%EC%A0%9C5%5D_20251226_%EC%9D%B4%EC%A7%80%EC%9D%B4.ipynb\" target=\"_parent\"><img src=\"https://colab.research.google.com/assets/colab-badge.svg\" alt=\"Open In Colab\"/></a>"
      ]
    },
    {
      "cell_type": "code",
      "execution_count": null,
      "metadata": {
        "colab": {
          "base_uri": "https://localhost:8080/"
        },
        "id": "8IIcduwXSNfu",
        "outputId": "a8b8bfef-56a9-428a-8eff-7a3fb66f781e"
      },
      "outputs": [
        {
          "output_type": "stream",
          "name": "stdout",
          "text": [
            "정수를 입력하시오: 10\n",
            "10 != 3628800\n"
          ]
        }
      ],
      "source": [
        "def factorial(n):\n",
        "  if n==1:\n",
        "    return (1)\n",
        "  else:\n",
        "    return n*factorial(n-1)\n",
        "\n",
        "n=int(input(\"정수를 입력하시오: \"))\n",
        "print(n,\"!=\",factorial(n))"
      ]
    },
    {
      "cell_type": "code",
      "source": [
        "def factorial(n):\n",
        "  print(\"factorial(\",n,\")\")\n",
        "  if n==1:\n",
        "    return 1\n",
        "  else:\n",
        "    return n*factorial(n-1)\n",
        "\n",
        "factorial(3)"
      ],
      "metadata": {
        "colab": {
          "base_uri": "https://localhost:8080/"
        },
        "id": "xDAdpgTNVwBb",
        "outputId": "3af92e68-153a-4f55-b165-fc7b6ecd00ea"
      },
      "execution_count": null,
      "outputs": [
        {
          "output_type": "stream",
          "name": "stdout",
          "text": [
            "factorial( 3 )\n",
            "factorial( 2 )\n",
            "factorial( 1 )\n"
          ]
        },
        {
          "output_type": "execute_result",
          "data": {
            "text/plain": [
              "6"
            ]
          },
          "metadata": {},
          "execution_count": 3
        }
      ]
    },
    {
      "cell_type": "code",
      "source": [
        "def fib(n):\n",
        "  if n==0:\n",
        "    return 0\n",
        "  elif n==1:\n",
        "    return 1\n",
        "  else:\n",
        "    return fib(n-1)+fib(n-2)\n",
        "\n",
        "n=int(input(\"정수를 입력하시오.\"))\n",
        "print(n,\"번째 피보나치 수는\",fib(n))"
      ],
      "metadata": {
        "colab": {
          "base_uri": "https://localhost:8080/"
        },
        "id": "z3gSDc4XYvZW",
        "outputId": "9932191b-14a9-4cdb-fb3e-94528102aff1"
      },
      "execution_count": null,
      "outputs": [
        {
          "output_type": "stream",
          "name": "stdout",
          "text": [
            "정수를 입력하시오.10\n",
            "10 번째 피보나치 수는 55\n"
          ]
        }
      ]
    },
    {
      "cell_type": "code",
      "source": [
        "def total_sum(x):\n",
        "  sum_result=0\n",
        "  for x in range(1,n+1):\n",
        "    sum_result+=x\n",
        "  return sum_result\n",
        "\n",
        "n=int(input(\"정수를 입력하시오: \"))\n",
        "sum_result=total_sum(n)\n",
        "\n",
        "print(f'1부터 {n}까지의 합: {sum_result}')"
      ],
      "metadata": {
        "colab": {
          "base_uri": "https://localhost:8080/"
        },
        "id": "i3ApiMh_bafO",
        "outputId": "4d0b285b-84ee-45ee-cac1-dbe43edfa405"
      },
      "execution_count": null,
      "outputs": [
        {
          "output_type": "stream",
          "name": "stdout",
          "text": [
            "정수를 입력하시오: 10\n",
            "1부터 10까지의 합: 55\n"
          ]
        }
      ]
    },
    {
      "cell_type": "code",
      "source": [
        "# 01\n",
        "def sum_list_recursive(lst):\n",
        "  index=0\n",
        "\n",
        "  if index==len(lst):\n",
        "    return 0\n",
        "\n",
        "  return lst[0]+sum_list_recursive(lst[1:])\n",
        "\n",
        "input_list=[1,2,3,4,5]\n",
        "result=sum_list_recursive(input_list)\n",
        "print(\"입력 리스트=\",input_list)\n",
        "print(\"요소의 합=\",result)"
      ],
      "metadata": {
        "colab": {
          "base_uri": "https://localhost:8080/"
        },
        "id": "WFYvjgoTcN3o",
        "outputId": "c726b522-1053-4554-ebf5-caf3224364a9"
      },
      "execution_count": null,
      "outputs": [
        {
          "output_type": "stream",
          "name": "stdout",
          "text": [
            "입력 리스트= [1, 2, 3, 4, 5]\n",
            "요소의 합= 15\n"
          ]
        }
      ]
    },
    {
      "cell_type": "code",
      "source": [
        "# 02\n",
        "def calculate_total(a,b,c):\n",
        "  return a+b+c\n",
        "\n",
        "result=calculate_total(a=1,b=2,c=3)\n",
        "print(\"세 개의 숫자의 합=\",result)"
      ],
      "metadata": {
        "colab": {
          "base_uri": "https://localhost:8080/"
        },
        "id": "EpqgFDeQgDJl",
        "outputId": "3d5d1e7a-626d-4bfc-d1bc-824ec4884c71"
      },
      "execution_count": null,
      "outputs": [
        {
          "output_type": "stream",
          "name": "stdout",
          "text": [
            "세 개의 숫자의 합= 6\n"
          ]
        }
      ]
    },
    {
      "cell_type": "code",
      "source": [
        "# 03\n",
        "counter=0\n",
        "\n",
        "def func_with():\n",
        "  global counter\n",
        "  counter+=1\n",
        "  print(\"함수 호출 횟수: \",counter)\n",
        "\n",
        "for _ in range(3):\n",
        "  func_with()"
      ],
      "metadata": {
        "colab": {
          "base_uri": "https://localhost:8080/"
        },
        "id": "NQ_HzcWYhwet",
        "outputId": "ce43fd84-38ca-45da-f4e6-961cf6a016bc"
      },
      "execution_count": null,
      "outputs": [
        {
          "output_type": "stream",
          "name": "stdout",
          "text": [
            "함수 호출 횟수:  1\n",
            "함수 호출 횟수:  2\n",
            "함수 호출 횟수:  3\n"
          ]
        }
      ]
    },
    {
      "cell_type": "code",
      "source": [
        "# 04\n",
        "def find_max(lst):\n",
        "  maxV=lst[0]\n",
        "  for num in lst:\n",
        "    if num>maxV:\n",
        "      maxV=num\n",
        "  return maxV\n",
        "\n",
        "input_list=[1,5,3,7,2,9,4]\n",
        "max_value=find_max(input_list)\n",
        "print(\"입력리스트: \",input_list)\n",
        "print(\"최댓값: \",max_value)"
      ],
      "metadata": {
        "colab": {
          "base_uri": "https://localhost:8080/"
        },
        "id": "8ylnBp72h-xH",
        "outputId": "5df5aaf2-06c0-43f3-f6cd-f51a7cdd727c"
      },
      "execution_count": null,
      "outputs": [
        {
          "output_type": "stream",
          "name": "stdout",
          "text": [
            "입력리스트:  [1, 5, 3, 7, 2, 9, 4]\n",
            "최댓값:  9\n"
          ]
        }
      ]
    },
    {
      "cell_type": "code",
      "source": [
        "# 05\n",
        "def count(string):\n",
        "  vowels='aeiouAEIOU'\n",
        "  count=0\n",
        "  for char in string:\n",
        "    if char in vowels:\n",
        "      count+=1\n",
        "  return count\n",
        "\n",
        "input_string=input(\"문자열을 입력하세요: \")\n",
        "results=count(input_string)\n",
        "print(\"모음 개수:\",results)"
      ],
      "metadata": {
        "colab": {
          "base_uri": "https://localhost:8080/"
        },
        "id": "nayWDY9Iigv9",
        "outputId": "d22cc8f2-5c4a-4f3c-d7b7-8ace7943f338"
      },
      "execution_count": null,
      "outputs": [
        {
          "output_type": "stream",
          "name": "stdout",
          "text": [
            "문자열을 입력하세요: Hello\n",
            "모음 개수: 2\n"
          ]
        }
      ]
    },
    {
      "cell_type": "code",
      "source": [
        "# 06\n",
        "def sort_numbers(numbers):\n",
        "  numbers.sort()\n",
        "  return numbers\n",
        "\n",
        "inputStr=input(\"정수를 쉼표로 구분하여 입력하세요: \")\n",
        "\n",
        "inputList=[]\n",
        "for x in inputStr.split(','):\n",
        "  inputList.append(int(x))\n",
        "print(f'입력된 정수의 리스트: {inputList}')\n",
        "\n",
        "result=sort_numbers(inputList)\n",
        "\n",
        "print(f'정렬된 정수의 리스트: ',end='')\n",
        "for i in result:\n",
        "  print(f'{i}',end=' ')"
      ],
      "metadata": {
        "colab": {
          "base_uri": "https://localhost:8080/"
        },
        "id": "64FLV3j2jwkH",
        "outputId": "b051ba6b-5951-41d0-c427-314acf8cd8d7"
      },
      "execution_count": null,
      "outputs": [
        {
          "output_type": "stream",
          "name": "stdout",
          "text": [
            "정수를 쉼표로 구분하여 입력하세요: 99,88,55,22,11,33\n",
            "입력된 정수의 리스트: [99, 88, 55, 22, 11, 33]\n",
            "정렬된 정수의 리스트: 11 22 33 55 88 99 "
          ]
        }
      ]
    },
    {
      "cell_type": "code",
      "source": [
        "# 6장. 리스트\n",
        "STUDENTS=5\n",
        "\n",
        "scores=[]\n",
        "scoreSum=0\n",
        "\n",
        "for i in range(STUDENTS):\n",
        "  value=int(input(\"성적을 입력하시오: \"))\n",
        "  scores.append(value)\n",
        "  scoreSum+=value\n",
        "\n",
        "scoreAvg=scoreSum/len(scores)\n",
        "\n",
        "highScoreStudents=0\n",
        "\n",
        "for i in range(len(scores)):\n",
        "  if scores[i]>=80:\n",
        "    highScoreStudents+=1\n",
        "\n",
        "print(\"성적 평균은\",scoreAvg,\"입니다.\")\n",
        "print(\"80점 이상 성적을 받은 학생은\",highScoreStudents,\"명입니다.\")"
      ],
      "metadata": {
        "colab": {
          "base_uri": "https://localhost:8080/"
        },
        "id": "o74ufQOWmbYR",
        "outputId": "2597c1e5-9291-437c-9579-e3e4dcb83dda"
      },
      "execution_count": null,
      "outputs": [
        {
          "output_type": "stream",
          "name": "stdout",
          "text": [
            "성적을 입력하시오: 10\n",
            "성적을 입력하시오: 20\n",
            "성적을 입력하시오: 60\n",
            "성적을 입력하시오: 70\n",
            "성적을 입력하시오: 80\n",
            "성적 평균은 48.0 입니다.\n",
            "80점 이상 성적을 받은 학생은 1 명입니다.\n"
          ]
        }
      ]
    },
    {
      "cell_type": "code",
      "source": [
        "text='Will is power'\n",
        "print(text[0],text[1],text[-1])\n",
        "\n",
        "flist=['apple','banana','tomato','peach','pear']\n",
        "print(flist[0],flist[3],flist[-1])"
      ],
      "metadata": {
        "colab": {
          "base_uri": "https://localhost:8080/"
        },
        "id": "5EYkqXnFtdEz",
        "outputId": "168d7604-26ed-4309-98c0-2cc97ecf6934"
      },
      "execution_count": null,
      "outputs": [
        {
          "output_type": "stream",
          "name": "stdout",
          "text": [
            "W i r\n",
            "apple peach pear\n"
          ]
        }
      ]
    },
    {
      "cell_type": "code",
      "source": [
        "my_list=['apple','banana','cherry','date','fig']\n",
        "\n",
        "slice=my_list[1:4]\n",
        "print(slice)"
      ],
      "metadata": {
        "colab": {
          "base_uri": "https://localhost:8080/"
        },
        "id": "O19LpKiBveK1",
        "outputId": "e0703e4e-1a5a-46e9-ac61-19b447558f76"
      },
      "execution_count": null,
      "outputs": [
        {
          "output_type": "stream",
          "name": "stdout",
          "text": [
            "['banana', 'cherry', 'date']\n"
          ]
        }
      ]
    },
    {
      "cell_type": "code",
      "source": [
        "heroes=['스파이더맨','슈퍼맨','헐크','아이언맨','배트맨']\n",
        "index=heroes.index(\"슈퍼맨\")\n",
        "\n",
        "print(index)\n",
        "heroes=['스파이더맨','슈퍼맨','헐크','아이언맨','배트맨']\n",
        "if '슈퍼맨'in heroes:\n",
        "  index=heroes.index(\"슈퍼맨\")\n",
        "\n",
        "print(index)"
      ],
      "metadata": {
        "colab": {
          "base_uri": "https://localhost:8080/"
        },
        "id": "PllWyLatxNhC",
        "outputId": "cb2d3f19-c2ea-4b68-f922-17e37ed8dd0c"
      },
      "execution_count": null,
      "outputs": [
        {
          "output_type": "stream",
          "name": "stdout",
          "text": [
            "1\n",
            "1\n"
          ]
        }
      ]
    },
    {
      "cell_type": "code",
      "source": [
        "heroes=['스파이더맨','슈퍼맨','헐크','아이언맨','배트맨']\n",
        "heroes.pop(1)\n",
        "print(heroes)\n",
        "\n",
        "heroes=['스파이더맨','슈퍼맨','헐크','아이언맨','배트맨','조커']\n",
        "heroes.remove(\"조커\")\n",
        "heroes"
      ],
      "metadata": {
        "colab": {
          "base_uri": "https://localhost:8080/"
        },
        "id": "EgRd4t2uyKOB",
        "outputId": "3bcc0689-f128-4e66-f622-4a110360cddf"
      },
      "execution_count": null,
      "outputs": [
        {
          "output_type": "stream",
          "name": "stdout",
          "text": [
            "['스파이더맨', '헐크', '아이언맨', '배트맨']\n"
          ]
        },
        {
          "output_type": "execute_result",
          "data": {
            "text/plain": [
              "['스파이더맨', '슈퍼맨', '헐크', '아이언맨', '배트맨']"
            ]
          },
          "metadata": {},
          "execution_count": 41
        }
      ]
    },
    {
      "cell_type": "code",
      "source": [
        "animals=['dog','cat','dog','elephant','dog','lion','tiger']\n",
        "dog_count=animals.count('dog')\n",
        "print (f'dog의 개수: {dog_count}')"
      ],
      "metadata": {
        "colab": {
          "base_uri": "https://localhost:8080/"
        },
        "id": "RsSLHlGxysz2",
        "outputId": "8e41d023-83b3-436a-d286-f3e4998749f2"
      },
      "execution_count": null,
      "outputs": [
        {
          "output_type": "stream",
          "name": "stdout",
          "text": [
            "dog의 개수: 3\n"
          ]
        }
      ]
    },
    {
      "cell_type": "code",
      "source": [
        "my_list=[1,7,2,7,3,7,4,5,7]\n",
        "\n",
        "count_of_seven=my_list.count(7)\n",
        "print(\"숫자 7의 등장 횟수: \",count_of_seven)"
      ],
      "metadata": {
        "colab": {
          "base_uri": "https://localhost:8080/"
        },
        "id": "LdH5Lk_yzBZt",
        "outputId": "7b245602-8274-4321-ad71-1a69bbf43c95"
      },
      "execution_count": null,
      "outputs": [
        {
          "output_type": "stream",
          "name": "stdout",
          "text": [
            "숫자 7의 등장 횟수:  4\n"
          ]
        }
      ]
    },
    {
      "cell_type": "code",
      "source": [
        "def calculate_stats(numbers):\n",
        "  total=sum(numbers)\n",
        "  avg=total/len(numbers)\n",
        "  max_numbers=max(numbers)\n",
        "  min_numbers=min(numbers)\n",
        "  return total,avg,max_numbers,min_numbers\n",
        "\n",
        "numbers=[]\n",
        "while True:\n",
        "  num=input(\"숫자를 입력하세요(종료는 q):\")\n",
        "  if num.lower()=='q':\n",
        "    break\n",
        "  numbers.append(int(num))\n",
        "\n",
        "total,avg,max_numbers,min_numbers=calculate_stats(numbers)\n",
        "print(\"숫자들의 합계:\",total)\n",
        "print(\"숫자들의 평균:\",avg)\n",
        "print(\"숫자들의 최대값:\",max_numbers)\n",
        "print(\"숫자들의 최소값:\",min_numbers)\n"
      ],
      "metadata": {
        "colab": {
          "base_uri": "https://localhost:8080/"
        },
        "id": "SJrkBQ8Tzczw",
        "outputId": "eee3846a-4352-4618-e2af-a3621951573c"
      },
      "execution_count": null,
      "outputs": [
        {
          "output_type": "stream",
          "name": "stdout",
          "text": [
            "숫자를 입력하세요(종료는 q):10\n",
            "숫자를 입력하세요(종료는 q):20\n",
            "숫자를 입력하세요(종료는 q):30\n",
            "숫자를 입력하세요(종료는 q):40\n",
            "숫자를 입력하세요(종료는 q):q\n",
            "숫자들의 합계: 100\n",
            "숫자들의 평균: 25.0\n",
            "숫자들의 최대값: 40\n",
            "숫자들의 최소값: 10\n"
          ]
        }
      ]
    },
    {
      "cell_type": "code",
      "source": [
        "a=[3,2,1,5,4]\n",
        "a.sort()\n",
        "print(a)"
      ],
      "metadata": {
        "colab": {
          "base_uri": "https://localhost:8080/"
        },
        "id": "6g4ZGu211zZV",
        "outputId": "c6a94e56-6f79-4e9e-95e5-cd875fecb93a"
      },
      "execution_count": null,
      "outputs": [
        {
          "output_type": "stream",
          "name": "stdout",
          "text": [
            "[1, 2, 3, 4, 5]\n"
          ]
        }
      ]
    },
    {
      "cell_type": "code",
      "source": [
        "a=[3,2,1,5,4]\n",
        "b=sorted(a)\n",
        "print(b)"
      ],
      "metadata": {
        "colab": {
          "base_uri": "https://localhost:8080/"
        },
        "id": "-B411rJk1ktc",
        "outputId": "520566cd-9200-4b7b-b6ec-91939924f1c4"
      },
      "execution_count": null,
      "outputs": [
        {
          "output_type": "stream",
          "name": "stdout",
          "text": [
            "[1, 2, 3, 4, 5]\n"
          ]
        }
      ]
    },
    {
      "cell_type": "code",
      "source": [
        "sorted(\"A picture is worth a thousand words.\".split(),key=str.lower)"
      ],
      "metadata": {
        "colab": {
          "base_uri": "https://localhost:8080/"
        },
        "id": "qOQpcYhP1yQe",
        "outputId": "2f7bb776-b6ad-4845-eb45-f76f94781d8e"
      },
      "execution_count": null,
      "outputs": [
        {
          "output_type": "execute_result",
          "data": {
            "text/plain": [
              "['A', 'a', 'is', 'picture', 'thousand', 'words.', 'worth']"
            ]
          },
          "metadata": {},
          "execution_count": 53
        }
      ]
    },
    {
      "cell_type": "code",
      "source": [
        "sorted([5,2,3,1,4],reverse=True)"
      ],
      "metadata": {
        "colab": {
          "base_uri": "https://localhost:8080/"
        },
        "id": "ugEcpLDo3BDX",
        "outputId": "2e45d2bf-47a8-4161-f895-65e2cfd43a65"
      },
      "execution_count": null,
      "outputs": [
        {
          "output_type": "execute_result",
          "data": {
            "text/plain": [
              "[5, 4, 3, 2, 1]"
            ]
          },
          "metadata": {},
          "execution_count": 54
        }
      ]
    },
    {
      "cell_type": "code",
      "source": [
        "scores=[10,20,30,40,50]\n",
        "values=list(scores)\n",
        "values[2]=99\n",
        "\n",
        "print(scores)\n",
        "print(values)\n",
        "print(scores)"
      ],
      "metadata": {
        "colab": {
          "base_uri": "https://localhost:8080/"
        },
        "id": "Ysu8OddnU1Ce",
        "outputId": "a213ae52-9fd6-4088-a139-bb6604caff0f"
      },
      "execution_count": null,
      "outputs": [
        {
          "output_type": "stream",
          "name": "stdout",
          "text": [
            "[10, 20, 30, 40, 50]\n",
            "[10, 20, 99, 40, 50]\n",
            "[10, 20, 30, 40, 50]\n"
          ]
        }
      ]
    },
    {
      "cell_type": "code",
      "source": [
        "import copy\n",
        "\n",
        "original_list=[1,2,[3,4,5]]\n",
        "deep_copied_list=copy.deepcopy(original_list)\n",
        "\n",
        "print(original_list)\n",
        "print(deep_copied_list)"
      ],
      "metadata": {
        "colab": {
          "base_uri": "https://localhost:8080/"
        },
        "id": "F3-h8YiXauNo",
        "outputId": "1ef3ff38-a6ae-466c-fe49-d1813e32229e"
      },
      "execution_count": null,
      "outputs": [
        {
          "output_type": "stream",
          "name": "stdout",
          "text": [
            "[1, 2, [3, 4, 5]]\n",
            "[1, 2, [3, 4, 5]]\n"
          ]
        }
      ]
    },
    {
      "cell_type": "code",
      "source": [
        "my_list=[45,23,9,37,15,3]\n",
        "\n",
        "my_list.sort()\n",
        "print(\"오름차순 정렬 결과: \",my_list)"
      ],
      "metadata": {
        "colab": {
          "base_uri": "https://localhost:8080/"
        },
        "id": "rfcwm13jcd5V",
        "outputId": "2328824d-e9a5-4e7d-99d0-a867e05352e7"
      },
      "execution_count": null,
      "outputs": [
        {
          "output_type": "stream",
          "name": "stdout",
          "text": [
            "오름차순 정렬 결과:  [3, 9, 15, 23, 37, 45]\n"
          ]
        }
      ]
    },
    {
      "cell_type": "code",
      "source": [
        "def func2(list):\n",
        "  list[0]=99\n",
        "\n",
        "values=[0,1,1,2,3,5,8]\n"
      ],
      "metadata": {
        "id": "eLRyI96Ocpxl"
      },
      "execution_count": null,
      "outputs": []
    },
    {
      "cell_type": "code",
      "source": [
        "s=[x**2 for x in range(10)]\n",
        "\n",
        "s=[0,1,4,9,16,25,36,49,64,81]\n",
        "print(s)"
      ],
      "metadata": {
        "colab": {
          "base_uri": "https://localhost:8080/"
        },
        "id": "iyH43HyUfnKi",
        "outputId": "dde9cbf0-a01f-44fd-87fe-b69a95ec4e19"
      },
      "execution_count": null,
      "outputs": [
        {
          "output_type": "stream",
          "name": "stdout",
          "text": [
            "[0, 1, 4, 9, 16, 25, 36, 49, 64, 81]\n"
          ]
        }
      ]
    },
    {
      "cell_type": "code",
      "source": [
        "M=[x for x in range(10) if x%2==0]\n",
        "\n",
        "print(M)"
      ],
      "metadata": {
        "colab": {
          "base_uri": "https://localhost:8080/"
        },
        "id": "aSZHokGsf1rR",
        "outputId": "14553247-1e5e-46f9-99f4-9ef9c5f6b310"
      },
      "execution_count": null,
      "outputs": [
        {
          "output_type": "stream",
          "name": "stdout",
          "text": [
            "[0, 2, 4, 6, 8]\n"
          ]
        }
      ]
    },
    {
      "cell_type": "code",
      "source": [
        "list1=['All','good','things','must','come','to','an','end']\n",
        "items=[word[0] for word in list1]\n",
        "print(items)"
      ],
      "metadata": {
        "colab": {
          "base_uri": "https://localhost:8080/"
        },
        "id": "xvBE-ruhgVKw",
        "outputId": "3d76309d-832e-47b9-d915-aa5ac69a4bfa"
      },
      "execution_count": null,
      "outputs": [
        {
          "output_type": "stream",
          "name": "stdout",
          "text": [
            "['A', 'g', 't', 'm', 'c', 't', 'a', 'e']\n"
          ]
        }
      ]
    },
    {
      "cell_type": "code",
      "source": [
        "word_list='Doncount your chickens before they are hatched'.split()\n",
        "result_list=[len(w) for w in word_list]\n",
        "print(result_list)"
      ],
      "metadata": {
        "colab": {
          "base_uri": "https://localhost:8080/"
        },
        "id": "1jgrED4EglLZ",
        "outputId": "adfc138b-e177-412a-e353-bf8ffb838588"
      },
      "execution_count": null,
      "outputs": [
        {
          "output_type": "stream",
          "name": "stdout",
          "text": [
            "[8, 4, 8, 6, 4, 3, 7]\n"
          ]
        }
      ]
    },
    {
      "cell_type": "code",
      "source": [
        "colors=['white','silver','black']\n",
        "cars=['bmw5','sonata','malibu','sm6']\n",
        "colored_cars=[(x,y) for x in colors for y in cars]\n",
        "print(colored_cars)"
      ],
      "metadata": {
        "colab": {
          "base_uri": "https://localhost:8080/"
        },
        "id": "2ACccKUphlI4",
        "outputId": "4dfefda0-2cf2-4df3-b6a6-75e1c9cc4c91"
      },
      "execution_count": null,
      "outputs": [
        {
          "output_type": "stream",
          "name": "stdout",
          "text": [
            "[('white', 'bmw5'), ('white', 'sonata'), ('white', 'malibu'), ('white', 'sm6'), ('silver', 'bmw5'), ('silver', 'sonata'), ('silver', 'malibu'), ('silver', 'sm6'), ('black', 'bmw5'), ('black', 'sonata'), ('black', 'malibu'), ('black', 'sm6')]\n"
          ]
        }
      ]
    },
    {
      "cell_type": "code",
      "source": [
        "my_list=['apple','banana','cherry','date','fig']\n",
        "\n",
        "lengths=[len(word)for word in my_list]\n",
        "print(\"각 문자열의 길이: \",lengths)"
      ],
      "metadata": {
        "colab": {
          "base_uri": "https://localhost:8080/"
        },
        "id": "Qyi-KHOriJ_W",
        "outputId": "9d0c7d96-9d88-4fa4-ac10-8b089e42f1dc"
      },
      "execution_count": null,
      "outputs": [
        {
          "output_type": "stream",
          "name": "stdout",
          "text": [
            "각 문자열의 길이:  [5, 6, 6, 4, 3]\n"
          ]
        }
      ]
    },
    {
      "cell_type": "code",
      "source": [
        "new_list=[]\n",
        "for x in range(1,31):\n",
        "  for y in range(x,31):\n",
        "    for z in range(y,31):\n",
        "      if x**2+y**2==z**2:\n",
        "        new_list.append((x,y,z))\n",
        "\n",
        "print(new_list)"
      ],
      "metadata": {
        "colab": {
          "base_uri": "https://localhost:8080/"
        },
        "id": "s6_bXrCWjc_d",
        "outputId": "4bdbfbfd-3c29-4267-b8ac-66f15bfaa0e0"
      },
      "execution_count": null,
      "outputs": [
        {
          "output_type": "stream",
          "name": "stdout",
          "text": [
            "[(3, 4, 5), (5, 12, 13), (6, 8, 10), (7, 24, 25), (8, 15, 17), (9, 12, 15), (10, 24, 26), (12, 16, 20), (15, 20, 25), (18, 24, 30), (20, 21, 29)]\n"
          ]
        }
      ]
    },
    {
      "cell_type": "code",
      "source": [
        "[(x,y,z) for x in range(1,31) for y in range(x,31) for z in range(y,31) if x**2+y**2==z **2]\n"
      ],
      "metadata": {
        "colab": {
          "base_uri": "https://localhost:8080/"
        },
        "id": "errGtkvgjyI1",
        "outputId": "e0ebca25-7e23-4050-995e-81497f82e288"
      },
      "execution_count": null,
      "outputs": [
        {
          "output_type": "execute_result",
          "data": {
            "text/plain": [
              "[(3, 4, 5),\n",
              " (5, 12, 13),\n",
              " (6, 8, 10),\n",
              " (7, 24, 25),\n",
              " (8, 15, 17),\n",
              " (9, 12, 15),\n",
              " (10, 24, 26),\n",
              " (12, 16, 20),\n",
              " (15, 20, 25),\n",
              " (18, 24, 30),\n",
              " (20, 21, 29)]"
            ]
          },
          "metadata": {},
          "execution_count": 23
        }
      ]
    },
    {
      "cell_type": "code",
      "source": [
        "even=[x for x in range(1,11) if x%2==0]\n",
        "print(even)"
      ],
      "metadata": {
        "colab": {
          "base_uri": "https://localhost:8080/"
        },
        "id": "BZ5ST2oHkJmo",
        "outputId": "5720f3fd-2a0c-4e1d-a323-48c6b0915160"
      },
      "execution_count": null,
      "outputs": [
        {
          "output_type": "stream",
          "name": "stdout",
          "text": [
            "[2, 4, 6, 8, 10]\n"
          ]
        }
      ]
    },
    {
      "cell_type": "code",
      "source": [
        "my_list=[-3,-2,-1,0,1,2,3]\n",
        "new_list=[x for x in my_list if x>0]\n",
        "print(new_list)"
      ],
      "metadata": {
        "colab": {
          "base_uri": "https://localhost:8080/"
        },
        "id": "tmCSoOtdk0Ac",
        "outputId": "3c594290-318a-4761-84d6-d34d837986f0"
      },
      "execution_count": null,
      "outputs": [
        {
          "output_type": "stream",
          "name": "stdout",
          "text": [
            "[1, 2, 3]\n"
          ]
        }
      ]
    },
    {
      "cell_type": "code",
      "source": [
        "my_list=[3,8,12,7,15,21,10]\n",
        "new_list=[x for x in my_list if x>5]\n",
        "print(new_list)"
      ],
      "metadata": {
        "colab": {
          "base_uri": "https://localhost:8080/"
        },
        "id": "iHBpIM_BmdeN",
        "outputId": "f9f433b5-aa93-4e19-cfef-a7c9a0bccda2"
      },
      "execution_count": null,
      "outputs": [
        {
          "output_type": "stream",
          "name": "stdout",
          "text": [
            "[8, 12, 7, 15, 21, 10]\n"
          ]
        }
      ]
    },
    {
      "cell_type": "code",
      "source": [
        "rows=3\n",
        "cols=5\n",
        "\n",
        "s=[]\n",
        "for row in range(rows):\n",
        "  s+=[[0]*cols]\n",
        "print(\"s=\",s)"
      ],
      "metadata": {
        "colab": {
          "base_uri": "https://localhost:8080/"
        },
        "id": "AXuoQkH8qnOD",
        "outputId": "5ab50893-4e84-4c9c-b721-5f6b299487ef"
      },
      "execution_count": null,
      "outputs": [
        {
          "output_type": "stream",
          "name": "stdout",
          "text": [
            "s= [[0, 0, 0, 0, 0], [0, 0, 0, 0, 0], [0, 0, 0, 0, 0]]\n"
          ]
        }
      ]
    },
    {
      "cell_type": "code",
      "source": [
        "s=[[1,2,3,4,5],[6,7,8,9,10],[11,12,13,14,15]]\n",
        "rows=len(s)\n",
        "cols=len(s[0])\n",
        "\n",
        "for r in range(rows):\n",
        "  for c in range(cols):\n",
        "    print(s[r][c],end=',')\n",
        "\n",
        "  print()"
      ],
      "metadata": {
        "colab": {
          "base_uri": "https://localhost:8080/"
        },
        "id": "ppm2INtJsEht",
        "outputId": "664d813b-2938-440e-f5d5-031b3647a90b"
      },
      "execution_count": null,
      "outputs": [
        {
          "output_type": "stream",
          "name": "stdout",
          "text": [
            "1,2,3,4,5,\n",
            "6,7,8,9,10,\n",
            "11,12,13,14,15,\n"
          ]
        }
      ]
    },
    {
      "cell_type": "code",
      "source": [
        "matrix=[[10,20,30],[40,50,60],[70,80,90]]\n",
        "\n",
        "row_index=0\n",
        "row_sum=sum(matrix[row_index])\n",
        "\n",
        "print(f'1번째 행의 합계:{row_sum}')"
      ],
      "metadata": {
        "colab": {
          "base_uri": "https://localhost:8080/"
        },
        "id": "Seaw4FAksghI",
        "outputId": "69a6f148-4426-4b53-b178-2df62cd8e5a0"
      },
      "execution_count": null,
      "outputs": [
        {
          "output_type": "stream",
          "name": "stdout",
          "text": [
            "1번째 행의 합계:60\n"
          ]
        }
      ]
    },
    {
      "cell_type": "code",
      "source": [
        "# 과제 01\n",
        "my_list=[1,2,3,4,5,6,7,8,9]\n",
        "print(f'입력 리스트={my_list}')\n",
        "o=[x for x in my_list if x%2!=0]\n",
        "print(f'출력 리스트={o}')"
      ],
      "metadata": {
        "colab": {
          "base_uri": "https://localhost:8080/"
        },
        "id": "Wy5cGdLLEINi",
        "outputId": "3ee47444-55b6-4ba5-d1ea-c88f5702155d"
      },
      "execution_count": null,
      "outputs": [
        {
          "output_type": "stream",
          "name": "stdout",
          "text": [
            "입력 리스트=[1, 2, 3, 4, 5, 6, 7, 8, 9]\n",
            "출력 리스트=[1, 3, 5, 7, 9]\n"
          ]
        }
      ]
    },
    {
      "cell_type": "code",
      "source": [
        "# 과제 02\n",
        "input_list=['apple','banana','kiwi','orange']\n",
        "s=[x for x in input_list if len(x)==max(len(i) for i in input_list)]\n",
        "print(s)"
      ],
      "metadata": {
        "colab": {
          "base_uri": "https://localhost:8080/"
        },
        "id": "D_umjRNRFiJG",
        "outputId": "1c357f03-6214-4173-92c5-f1591d1db7ed"
      },
      "execution_count": null,
      "outputs": [
        {
          "output_type": "stream",
          "name": "stdout",
          "text": [
            "['banana', 'orange']\n"
          ]
        }
      ]
    },
    {
      "cell_type": "code",
      "source": [
        "# 과제 03\n",
        "def find_position(matrix,target):\n",
        "  for row_index,row in enumerate(matrix):\n",
        "    for col_index,value in enumerate(row):\n",
        "      if value==target:\n",
        "        return row_index,col_index\n",
        "\n",
        "input_list=[[10,20,30],[40,50,60],[70,80,90]]\n",
        "print(f'입력 리스트= {input_list}')\n",
        "target=int(input(\"찾는 값= \"))\n",
        "a=find_position(input_list,target)\n",
        "print(f'찾는 값의 위치: {a}')\n",
        "\n"
      ],
      "metadata": {
        "colab": {
          "base_uri": "https://localhost:8080/"
        },
        "id": "OCbAaHF7J-Y3",
        "outputId": "bf86e62a-fe62-469f-dfe2-b107707bbbd0"
      },
      "execution_count": null,
      "outputs": [
        {
          "output_type": "stream",
          "name": "stdout",
          "text": [
            "입력 리스트= [[10, 20, 30], [40, 50, 60], [70, 80, 90]]\n",
            "찾는 값= 50\n",
            "찾는 값의 위치: (1, 1)\n"
          ]
        }
      ]
    }
  ]
}