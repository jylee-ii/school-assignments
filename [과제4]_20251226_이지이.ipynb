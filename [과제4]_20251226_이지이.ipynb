{
  "nbformat": 4,
  "nbformat_minor": 0,
  "metadata": {
    "colab": {
      "provenance": [],
      "authorship_tag": "ABX9TyOBqDeIstSBDRVv7oY2KPQt",
      "include_colab_link": true
    },
    "kernelspec": {
      "name": "python3",
      "display_name": "Python 3"
    },
    "language_info": {
      "name": "python"
    }
  },
  "cells": [
    {
      "cell_type": "markdown",
      "metadata": {
        "id": "view-in-github",
        "colab_type": "text"
      },
      "source": [
        "<a href=\"https://colab.research.google.com/github/jylee-ii/school-assignments/blob/main/%5B%EA%B3%BC%EC%A0%9C4%5D_20251226_%EC%9D%B4%EC%A7%80%EC%9D%B4.ipynb\" target=\"_parent\"><img src=\"https://colab.research.google.com/assets/colab-badge.svg\" alt=\"Open In Colab\"/></a>"
      ]
    },
    {
      "cell_type": "code",
      "execution_count": null,
      "metadata": {
        "colab": {
          "base_uri": "https://localhost:8080/"
        },
        "id": "keOrSU-nVhjL",
        "outputId": "9860ae99-e2ab-415e-bb1a-8b0da333e684"
      },
      "outputs": [
        {
          "output_type": "stream",
          "name": "stdout",
          "text": [
            "55\n",
            "210\n"
          ]
        }
      ],
      "source": [
        "def get_sum(start,end):\n",
        "  sum=0\n",
        "  for i in range(start,end+1):\n",
        "    sum+=i\n",
        "  return sum\n",
        "\n",
        "print(get_sum(1,10))\n",
        "print(get_sum(1,20))"
      ]
    },
    {
      "cell_type": "code",
      "source": [
        "def find_max(numbers):\n",
        "  if not numbers:\n",
        "    return None\n",
        "\n",
        "  max_num=numbers[0]\n",
        "\n",
        "  for numbers in numbers:\n",
        "    if numbers>max_num:\n",
        "      max_num=numbers\n",
        "\n",
        "  return max_num\n",
        "\n",
        "# main\n",
        "input_num=[3,4,15,6,7]\n",
        "result=find_max(input_num)\n",
        "print('리스트에서 가장 큰 숫자',result)"
      ],
      "metadata": {
        "colab": {
          "base_uri": "https://localhost:8080/"
        },
        "id": "xgp8TxgRWG69",
        "outputId": "a86c83ad-df68-44e9-a2e0-21fb06ca0ee1"
      },
      "execution_count": null,
      "outputs": [
        {
          "output_type": "stream",
          "name": "stdout",
          "text": [
            "리스트에서 가장 큰 숫자 15\n"
          ]
        }
      ]
    },
    {
      "cell_type": "code",
      "source": [
        "def happy(name):\n",
        "  print(\"생일 축하 합니다!\")\n",
        "  print(\"생일 축하 합니다!\")\n",
        "  print(f'사랑하는 {name}의 생일 축하 합니다!\\n')\n",
        "\n",
        "who='덕덕이'\n",
        "happy(who)\n"
      ],
      "metadata": {
        "colab": {
          "base_uri": "https://localhost:8080/"
        },
        "id": "ScyimAKGY5sM",
        "outputId": "0f327b5b-bc0c-4e4b-e4e4-1afeb56a9cd9"
      },
      "execution_count": null,
      "outputs": [
        {
          "output_type": "stream",
          "name": "stdout",
          "text": [
            "생일 축하 합니다!\n",
            "생일 축하 합니다!\n",
            "사랑하는 덕덕이의 생일 축하 합니다!\n",
            "\n"
          ]
        }
      ]
    },
    {
      "cell_type": "code",
      "source": [
        "def happy(name):\n",
        "  print(\"생일 축하 합니다!\")\n",
        "  print(\"생일 축하 합니다!\")\n",
        "  print(f'사랑하는 {name}의 생일 축하 합니다!\\n')\n",
        "\n",
        "who=['덕덕이','덕성이','덕새']\n",
        "\n",
        "for i in range(len(who)):\n",
        "  happy(who[i])"
      ],
      "metadata": {
        "colab": {
          "base_uri": "https://localhost:8080/"
        },
        "id": "Xi_TL8Z_Zzsz",
        "outputId": "2bbc18a8-f003-43f5-f69e-9339e10142f2"
      },
      "execution_count": null,
      "outputs": [
        {
          "output_type": "stream",
          "name": "stdout",
          "text": [
            "생일 축하 합니다!\n",
            "생일 축하 합니다!\n",
            "사랑하는 덕덕이의 생일 축하 합니다!\n",
            "\n",
            "생일 축하 합니다!\n",
            "생일 축하 합니다!\n",
            "사랑하는 덕성이의 생일 축하 합니다!\n",
            "\n",
            "생일 축하 합니다!\n",
            "생일 축하 합니다!\n",
            "사랑하는 덕새의 생일 축하 합니다!\n",
            "\n"
          ]
        }
      ]
    },
    {
      "cell_type": "code",
      "source": [
        "def factorial(n):\n",
        "  result=1\n",
        "  for i in range(1,n+1):\n",
        "    result*=i\n",
        "  return result\n",
        "\n",
        "number=5\n",
        "factorial_result=factorial(number)\n",
        "print(f'{number}의 팩토리얼은 {factorial_result}입니다.')"
      ],
      "metadata": {
        "colab": {
          "base_uri": "https://localhost:8080/"
        },
        "id": "8Krn_Z5Sa57j",
        "outputId": "4320ca58-ad2a-466f-ec89-1db306eadeb7"
      },
      "execution_count": null,
      "outputs": [
        {
          "output_type": "stream",
          "name": "stdout",
          "text": [
            "5의 팩토리얼은 120입니다.\n"
          ]
        }
      ]
    },
    {
      "cell_type": "code",
      "source": [
        "def FtoC(temp_f):\n",
        "  temp_c=(5.0*(temp_f-32.0))/9.0\n",
        "  return temp_c\n",
        "\n",
        "temp_f=float(input(\"화씨온도를 입력하세요: \"))\n",
        "\n",
        "print(FtoC(temp_f))"
      ],
      "metadata": {
        "colab": {
          "base_uri": "https://localhost:8080/"
        },
        "id": "h3JNwBpIbm8-",
        "outputId": "49ecd725-e93f-4f17-e4ec-c966ff569702"
      },
      "execution_count": null,
      "outputs": [
        {
          "output_type": "stream",
          "name": "stdout",
          "text": [
            "화씨온도를 입력하세요: 32.0\n",
            "0.0\n"
          ]
        }
      ]
    },
    {
      "cell_type": "code",
      "source": [
        "def func1(x):\n",
        "  print(\"x=\",x,\"id=\",id(x))\n",
        "  x=42\n",
        "  print(\"x=\",x,\"id=\",id(x))\n",
        "\n",
        "y=10\n",
        "\n",
        "print(\"y=\",y,\"id=\",id(y))\n",
        "func1(y)\n",
        "print(\"y=\",y,\"id=\",id(y))\n"
      ],
      "metadata": {
        "colab": {
          "base_uri": "https://localhost:8080/"
        },
        "id": "x377TAt-l0B-",
        "outputId": "ffa02317-e313-4bad-bbcc-2149bce42160"
      },
      "execution_count": null,
      "outputs": [
        {
          "output_type": "stream",
          "name": "stdout",
          "text": [
            "y= 10 id= 10751144\n",
            "x= 10 id= 10751144\n",
            "x= 42 id= 10752168\n",
            "y= 10 id= 10751144\n"
          ]
        }
      ]
    },
    {
      "cell_type": "code",
      "source": [
        "def func2(list):\n",
        "  list[0]=99\n",
        "\n",
        "values=[0,1,1,2,3,5,8]\n",
        "print(values)\n",
        "func2(values)\n",
        "print(values)"
      ],
      "metadata": {
        "colab": {
          "base_uri": "https://localhost:8080/"
        },
        "id": "rhHJ9rs8mYa9",
        "outputId": "c4e45f3d-617b-4b3a-dc38-cddc4eeed854"
      },
      "execution_count": null,
      "outputs": [
        {
          "output_type": "stream",
          "name": "stdout",
          "text": [
            "[0, 1, 1, 2, 3, 5, 8]\n",
            "[99, 1, 1, 2, 3, 5, 8]\n"
          ]
        }
      ]
    },
    {
      "cell_type": "code",
      "source": [
        "def is_prime(n):\n",
        "  for i in range(2,n):\n",
        "    if n%i==0:\n",
        "      return False\n",
        "  return True\n",
        "\n",
        "n=int(input(\"정수를 입력하시오: \"))\n",
        "\n",
        "print(is_prime(n))"
      ],
      "metadata": {
        "colab": {
          "base_uri": "https://localhost:8080/"
        },
        "id": "D6aa4kq3nj31",
        "outputId": "b2c79460-b66e-4805-9ac0-89302a530913"
      },
      "execution_count": null,
      "outputs": [
        {
          "output_type": "stream",
          "name": "stdout",
          "text": [
            "정수를 입력하시오: 100\n",
            "False\n"
          ]
        }
      ]
    },
    {
      "cell_type": "code",
      "source": [
        "import math\n",
        "\n",
        "def sphereVolume(radius):\n",
        "  volume=(4.0/3.0)*math.pi*radius**3\n",
        "  return volume\n",
        "\n",
        "radius=float(input(\"구의 반지름을 입력하세요: \"))\n",
        "\n",
        "print(\"구의 부피: \",sphereVolume(radius))"
      ],
      "metadata": {
        "colab": {
          "base_uri": "https://localhost:8080/"
        },
        "id": "6oCAW3puojjS",
        "outputId": "5d79f7ad-6bcd-416e-c2a9-cae1d7f97a6f"
      },
      "execution_count": null,
      "outputs": [
        {
          "output_type": "stream",
          "name": "stdout",
          "text": [
            "구의 반지름을 입력하세요: 10\n",
            "구의 부피:  4188.790204786391\n"
          ]
        }
      ]
    },
    {
      "cell_type": "code",
      "source": [
        "import random\n",
        "def genPass():\n",
        "  alphabet=\"abcdefghijklmnopqrstuvwxyz0123456789\"\n",
        "  password=\"\"\n",
        "\n",
        "  for i in range(6):\n",
        "    password+=random.choice(alphabet)\n",
        "\n",
        "  return password\n",
        "\n",
        "print(genPass())\n",
        "print(genPass())\n",
        "print(genPass())\n"
      ],
      "metadata": {
        "colab": {
          "base_uri": "https://localhost:8080/"
        },
        "id": "R-y_zaH_pzKR",
        "outputId": "fd4e099d-cab0-4fca-fffa-a8dce927e482"
      },
      "execution_count": null,
      "outputs": [
        {
          "output_type": "stream",
          "name": "stdout",
          "text": [
            "kses5x\n",
            "2q1725\n",
            "hvy30j\n"
          ]
        }
      ]
    },
    {
      "cell_type": "code",
      "source": [
        "def greet(name,msg):\n",
        "  print(\"안녕\",name+'.'+msg)\n",
        "\n",
        "greet(\"철수\",\"좋은 아침!\")"
      ],
      "metadata": {
        "colab": {
          "base_uri": "https://localhost:8080/"
        },
        "id": "xsAeQKN9r0vb",
        "outputId": "ffed83ce-789a-4ac7-d2b1-c2b3e2b1b81d"
      },
      "execution_count": null,
      "outputs": [
        {
          "output_type": "stream",
          "name": "stdout",
          "text": [
            "안녕 철수.좋은 아침!\n"
          ]
        }
      ]
    },
    {
      "cell_type": "code",
      "source": [
        "def calcs(x,y,z):\n",
        "  return x+y+z\n",
        "\n",
        "calcs(10,20,30)"
      ],
      "metadata": {
        "colab": {
          "base_uri": "https://localhost:8080/"
        },
        "id": "eg0N5My0sAZg",
        "outputId": "86688ff3-6c0d-44d5-b864-4435d5a072ed"
      },
      "execution_count": null,
      "outputs": [
        {
          "output_type": "execute_result",
          "data": {
            "text/plain": [
              "60"
            ]
          },
          "metadata": {},
          "execution_count": 42
        }
      ]
    },
    {
      "cell_type": "code",
      "source": [
        "def calcs(x,y,z):\n",
        "  print(x+y+z)\n",
        "\n",
        "calcs(10,20,30)"
      ],
      "metadata": {
        "colab": {
          "base_uri": "https://localhost:8080/"
        },
        "id": "DwvWkZMysTGw",
        "outputId": "9fd13e55-0de7-4886-bd70-35a97b9543e8"
      },
      "execution_count": null,
      "outputs": [
        {
          "output_type": "stream",
          "name": "stdout",
          "text": [
            "60\n"
          ]
        }
      ]
    },
    {
      "cell_type": "code",
      "source": [
        "def calc(x,y,z):\n",
        "  return x+y+z\n",
        "\n",
        "calc(y=20,x=10,z=10)"
      ],
      "metadata": {
        "colab": {
          "base_uri": "https://localhost:8080/"
        },
        "id": "Bgn7rHgAsgPA",
        "outputId": "3c88e11a-1c61-45a2-ae5a-07f1a5ea4689"
      },
      "execution_count": null,
      "outputs": [
        {
          "output_type": "execute_result",
          "data": {
            "text/plain": [
              "40"
            ]
          },
          "metadata": {},
          "execution_count": 48
        }
      ]
    },
    {
      "cell_type": "code",
      "source": [
        "def calculate_total(price,quantity=1):\n",
        "  total=price*quantity\n",
        "  return total\n",
        "\n",
        "product_price=float(input(\"제품 가격을 입력하세요: \"))\n",
        "product_quantity=int(input(\"제품 수량을 입력하세요(엔터를 누르면 기본값 1이 적용됩니다.)\"))\n",
        "\n",
        "result=calculate_total(product_price,product_quantity)\n",
        "print(f\"총 가격: {result:.0f}\" )"
      ],
      "metadata": {
        "colab": {
          "base_uri": "https://localhost:8080/"
        },
        "id": "5cyAslJRtoCq",
        "outputId": "b9dec24b-d074-4cc7-e483-12dcde908fd6"
      },
      "execution_count": null,
      "outputs": [
        {
          "output_type": "stream",
          "name": "stdout",
          "text": [
            "제품 가격을 입력하세요: 1000\n",
            "제품 수량을 입력하세요(엔터를 누르면 기본값 1이 적용됩니다.)5\n",
            "총 가격: 5000\n"
          ]
        }
      ]
    },
    {
      "cell_type": "code",
      "source": [
        "def add(a,b):\n",
        "  return a+b\n",
        "\n",
        "def sub(a,b):\n",
        "  return a-b\n",
        "\n",
        "def mul(a,b):\n",
        "  return a*b\n",
        "\n",
        "def div(a,b):\n",
        "  return a/b\n",
        "\n",
        "r1=mul(a=20,b=30)\n",
        "r2=add(a=10,b=r1)\n",
        "\n",
        "print(r2)"
      ],
      "metadata": {
        "colab": {
          "base_uri": "https://localhost:8080/"
        },
        "id": "6BgDw8StWwD_",
        "outputId": "1cb9d7fb-3b2c-4e60-bfe4-9c366922249d"
      },
      "execution_count": null,
      "outputs": [
        {
          "output_type": "stream",
          "name": "stdout",
          "text": [
            "610\n"
          ]
        }
      ]
    },
    {
      "cell_type": "code",
      "source": [
        "def process_order(customer_name,product,address=None,payment_method=None):\n",
        "  print(f'{customer_name}님의 주문이 처리되었습니다.')\n",
        "  print(f'주문 내역: {product}')\n",
        "\n",
        "  if address:\n",
        "    print(f'배송 주소: {address}')\n",
        "\n",
        "  if payment_method:\n",
        "    print(f'결제 방법: {payment_method}')\n",
        "\n",
        "process_order(\"Kim\",\"사과\",address='서울시 강남구',payment_method=\"신용카드\")"
      ],
      "metadata": {
        "colab": {
          "base_uri": "https://localhost:8080/"
        },
        "id": "-aXc8-mddpV_",
        "outputId": "b9992f4e-8cf3-45d5-b874-adfc73d184dc"
      },
      "execution_count": null,
      "outputs": [
        {
          "output_type": "stream",
          "name": "stdout",
          "text": [
            "Kim님의 주문이 처리되었습니다.\n",
            "주문 내역: 사과\n",
            "배송 주소: 서울시 강남구\n",
            "결제 방법: 신용카드\n"
          ]
        }
      ]
    },
    {
      "cell_type": "code",
      "source": [
        "def area(w,h):\n",
        "  return w*h\n",
        "\n",
        "def input_pos(msg):\n",
        "  while True:\n",
        "    value=int(input(msg))\n",
        "    if value>0:\n",
        "      return value\n",
        "    else:\n",
        "      print(\"양수만 입력하시오.\")\n",
        "\n",
        "width=input_pos('사각형의 가로: ')\n",
        "height=input_pos('사각형의 세로: ')\n",
        "\n",
        "result=area(width,height)\n",
        "print(\"면적=\",result)"
      ],
      "metadata": {
        "colab": {
          "base_uri": "https://localhost:8080/"
        },
        "id": "cmgjBtgXfcRC",
        "outputId": "5845f2cf-5116-4ed3-8b5d-abfcb751c52f"
      },
      "execution_count": null,
      "outputs": [
        {
          "output_type": "stream",
          "name": "stdout",
          "text": [
            "사각형의 가로: -1\n",
            "양수만 입력하시오.\n",
            "사각형의 가로: 100\n",
            "사각형의 세로: 100\n",
            "면적= 10000\n"
          ]
        }
      ]
    },
    {
      "cell_type": "code",
      "source": [
        "def modify_list(my_list):\n",
        "\n",
        "  for i in range(len(my_list)):\n",
        "    my_list[i]*=2\n",
        "\n",
        "original_list=[1,2,3,4,5]\n",
        "print(\"변경 전 리스트:\",original_list)\n",
        "\n",
        "modify_list(original_list)\n",
        "\n",
        "print(\"변경 후 리스트: \",original_list)"
      ],
      "metadata": {
        "colab": {
          "base_uri": "https://localhost:8080/"
        },
        "id": "iGRAmX0Ai07u",
        "outputId": "5b5cc796-64f9-47ab-8852-3794bb7005be"
      },
      "execution_count": null,
      "outputs": [
        {
          "output_type": "stream",
          "name": "stdout",
          "text": [
            "변경 전 리스트: [1, 2, 3, 4, 5]\n",
            "변경 후 리스트:  [2, 4, 6, 8, 10]\n"
          ]
        }
      ]
    },
    {
      "cell_type": "code",
      "source": [
        "s=\"사과가 좋음!\"\n",
        "\n",
        "def sub():\n",
        "  print(s)\n",
        "\n",
        "sub()"
      ],
      "metadata": {
        "colab": {
          "base_uri": "https://localhost:8080/"
        },
        "id": "P5Dpxz2Krzst",
        "outputId": "73e48713-e11e-4dc7-e5a6-546b2d4f9bcf"
      },
      "execution_count": null,
      "outputs": [
        {
          "output_type": "stream",
          "name": "stdout",
          "text": [
            "사과가 좋음!\n"
          ]
        }
      ]
    },
    {
      "cell_type": "code",
      "source": [
        "s=\"사과가 좋음!\"\n",
        "\n",
        "def sub():\n",
        "  s=\"메론이 좋음!\"\n",
        "  print(s)\n",
        "\n",
        "sub()\n",
        "print(s)"
      ],
      "metadata": {
        "colab": {
          "base_uri": "https://localhost:8080/"
        },
        "id": "CZ2L1uxbr7Vo",
        "outputId": "36372555-f2c7-41d1-c786-fc2d4a52819e"
      },
      "execution_count": null,
      "outputs": [
        {
          "output_type": "stream",
          "name": "stdout",
          "text": [
            "메론이 좋음!\n",
            "사과가 좋음!\n"
          ]
        }
      ]
    },
    {
      "cell_type": "code",
      "source": [
        "s=\"사과가 좋음!\"\n",
        "\n",
        "def sub():\n",
        "  global s\n",
        "  print(s)\n",
        "  s=\"메론이 좋음!\"\n",
        "  print(s)\n",
        "\n",
        "sub()\n",
        "print(s)"
      ],
      "metadata": {
        "colab": {
          "base_uri": "https://localhost:8080/"
        },
        "id": "ZxHuyD9MsKag",
        "outputId": "efd0746f-cd00-4e76-8e9f-b4a380b0e7ff"
      },
      "execution_count": null,
      "outputs": [
        {
          "output_type": "stream",
          "name": "stdout",
          "text": [
            "사과가 좋음!\n",
            "메론이 좋음!\n",
            "메론이 좋음!\n"
          ]
        }
      ]
    },
    {
      "cell_type": "code",
      "source": [
        "count=0\n",
        "\n",
        "def increment_global():\n",
        "  global count\n",
        "  count+=1\n",
        "\n",
        "def print_count():\n",
        "  print('현재 count 값:',count)\n",
        "\n",
        "increment_global()\n",
        "increment_global()\n",
        "print_count()"
      ],
      "metadata": {
        "colab": {
          "base_uri": "https://localhost:8080/"
        },
        "id": "VUe5PbMesaoX",
        "outputId": "016ff51a-920e-4cab-c62d-82f5b4ab171b"
      },
      "execution_count": null,
      "outputs": [
        {
          "output_type": "stream",
          "name": "stdout",
          "text": [
            "현재 count 값: 2\n"
          ]
        }
      ]
    },
    {
      "cell_type": "code",
      "source": [
        "def sub(mylist):\n",
        "  mylist=[1,2,3,4]\n",
        "  print(\"함수 내부에서의 mylist:\",mylist)\n",
        "  return\n",
        "\n",
        "mylist=[10,20,30,40]\n",
        "sub(mylist)\n",
        "print(\"함수 외부에서의 mylist: \",mylist)"
      ],
      "metadata": {
        "colab": {
          "base_uri": "https://localhost:8080/"
        },
        "id": "UqVC4IWXtZ7v",
        "outputId": "61d2b2ef-d4ef-4bf6-9f9e-9f67692755be"
      },
      "execution_count": null,
      "outputs": [
        {
          "output_type": "stream",
          "name": "stdout",
          "text": [
            "함수 내부에서의 mylist: [1, 2, 3, 4]\n",
            "함수 외부에서의 mylist:  [10, 20, 30, 40]\n"
          ]
        }
      ]
    },
    {
      "cell_type": "code",
      "source": [
        "PI=3.14159265358979\n",
        "\n",
        "def main():\n",
        "  radius=float(input('원의 반지름을 입력하시오'))\n",
        "  print('원의 면적:',circleA(radius))\n",
        "  print('원의 면적:',circleC(radius))\n",
        "\n",
        "def circleA(radius):\n",
        "  return PI*radius*radius\n",
        "\n",
        "def circleC(radius):\n",
        "  return 2*PI*radius\n",
        "\n",
        "main()"
      ],
      "metadata": {
        "colab": {
          "base_uri": "https://localhost:8080/"
        },
        "id": "489ubpWMvfw4",
        "outputId": "b63d8993-dd86-49ac-b0a1-5b8fdfa70e2f"
      },
      "execution_count": null,
      "outputs": [
        {
          "output_type": "stream",
          "name": "stdout",
          "text": [
            "원의 반지름을 입력하시오10\n",
            "원의 면적: 314.159265358979\n",
            "원의 면적: 62.8318530717958\n"
          ]
        }
      ]
    },
    {
      "cell_type": "code",
      "source": [
        "def analyze_string(text):\n",
        "  length=len(text)\n",
        "  words=len(text.split())\n",
        "  return length,words\n",
        "\n",
        "input_text=input(\"문자열을 입력하시오: \")\n",
        "\n",
        "result_length,result_words=analyze_string(input_text)\n",
        "\n",
        "print(f'문자열 길이: {result_length}')\n",
        "print(f'단어 개수: {result_words}')\n"
      ],
      "metadata": {
        "colab": {
          "base_uri": "https://localhost:8080/"
        },
        "id": "Fi7Fj3rcxi5Y",
        "outputId": "251cc3ae-d66d-4c60-9509-089a5ca6bfe8"
      },
      "execution_count": null,
      "outputs": [
        {
          "output_type": "stream",
          "name": "stdout",
          "text": [
            "문자열을 입력하시오: Hello world. This is a text\n",
            "문자열 길이: 27\n",
            "단어 개수: 6\n"
          ]
        }
      ]
    },
    {
      "cell_type": "code",
      "source": [
        "add=lambda x,y:x+y\n",
        "\n",
        "result=add(3,5)\n",
        "print(result)"
      ],
      "metadata": {
        "colab": {
          "base_uri": "https://localhost:8080/"
        },
        "id": "XRA-QP7hywfN",
        "outputId": "c5eb8eb3-b969-48fa-8250-4291a10c57f6"
      },
      "execution_count": null,
      "outputs": [
        {
          "output_type": "stream",
          "name": "stdout",
          "text": [
            "8\n"
          ]
        }
      ]
    },
    {
      "cell_type": "code",
      "source": [
        "string_length=lambda s:len(s)\n",
        "\n",
        "example_string='Hello,Lambda!'\n",
        "result=string_length(example_string)\n",
        "\n",
        "print(f\"문자열'{example_string}'의 길이: {result}\")\n"
      ],
      "metadata": {
        "colab": {
          "base_uri": "https://localhost:8080/"
        },
        "id": "t_R__R7Gzh0w",
        "outputId": "0cd1d5d4-36e2-4149-c602-4af208f83dfc"
      },
      "execution_count": null,
      "outputs": [
        {
          "output_type": "stream",
          "name": "stdout",
          "text": [
            "문자열'Hello,Lambda!'의 길이: 13\n"
          ]
        }
      ]
    },
    {
      "cell_type": "code",
      "source": [
        "# 과제 01\n",
        "\n",
        "def sum_of_list(l):\n",
        "  total=sum(l)\n",
        "  print(f'입력 리스트={l}')\n",
        "  print(f'요소의 합={total}')\n",
        "\n",
        "l=[1,2,3,4,5]\n",
        "sum_of_list(n)\n"
      ],
      "metadata": {
        "colab": {
          "base_uri": "https://localhost:8080/"
        },
        "id": "OkfhXe5t371H",
        "outputId": "7aebf156-bd36-4bf7-bdae-26fa04f6be09"
      },
      "execution_count": null,
      "outputs": [
        {
          "output_type": "stream",
          "name": "stdout",
          "text": [
            "입력 리스트=[1, 2, 3, 4, 5]\n",
            "요소의 합=15\n"
          ]
        }
      ]
    },
    {
      "cell_type": "code",
      "source": [
        "# 과제 02\n",
        "\n",
        "def calculate_total(a,b,c,d,e):\n",
        "  return a+b+c+d+e\n",
        "\n",
        "l=[1,2,3,4,5]\n",
        "sum=calculate_total(1,2,3,4,5)\n",
        "print(f'입력 리스트={l}')\n",
        "print(f'요소의 합={sum}')\n",
        "\n"
      ],
      "metadata": {
        "id": "jKjf7K8JrpZ0",
        "colab": {
          "base_uri": "https://localhost:8080/"
        },
        "outputId": "bf971029-7272-4c4a-fa5c-2712e9d220f6"
      },
      "execution_count": null,
      "outputs": [
        {
          "output_type": "stream",
          "name": "stdout",
          "text": [
            "입력 리스트=[1, 2, 3, 4, 5]\n",
            "요소의 합=15\n"
          ]
        }
      ]
    },
    {
      "cell_type": "code",
      "source": [
        "# 과제 03\n",
        "\n",
        "counter=0\n",
        "\n",
        "def func_with():\n",
        "  global counter\n",
        "  counter+=1\n",
        "  print(f'함수 호출 횟수: {counter}')\n",
        "\n",
        "func_with()\n",
        "func_with()\n",
        "func_with()\n"
      ],
      "metadata": {
        "colab": {
          "base_uri": "https://localhost:8080/"
        },
        "id": "1BTGGz-Pdff3",
        "outputId": "39a34b26-650f-41d6-8fda-e46039870da0"
      },
      "execution_count": null,
      "outputs": [
        {
          "output_type": "stream",
          "name": "stdout",
          "text": [
            "함수 호출 횟수: 1\n",
            "함수 호출 횟수: 2\n",
            "함수 호출 횟수: 3\n"
          ]
        }
      ]
    },
    {
      "cell_type": "code",
      "source": [
        "# 과제 04\n",
        "\n",
        "def find_max(n):\n",
        "  m=max(n)\n",
        "  print(f'입력 리스트: {n}')\n",
        "  print(f'최댓값: {m}')\n",
        "\n",
        "n=[1,5,3,7,2,9,4]\n",
        "find_max(n)"
      ],
      "metadata": {
        "colab": {
          "base_uri": "https://localhost:8080/"
        },
        "id": "c6ZhT5ICfepl",
        "outputId": "b0497c50-faaa-4472-e72d-24faaf256992"
      },
      "execution_count": null,
      "outputs": [
        {
          "output_type": "stream",
          "name": "stdout",
          "text": [
            "입력 리스트: [1, 5, 3, 7, 2, 9, 4]\n",
            "최댓값: 9\n"
          ]
        }
      ]
    },
    {
      "cell_type": "code",
      "source": [
        "# 과제 05\n",
        "\n",
        "def count(n):\n",
        "  vowels=0\n",
        "  n=input(\"문자열을 입력하세요: \")\n",
        "  print(f'입력 문자열: {n}')\n",
        "  for i in n:\n",
        "    if i in 'aeiou':\n",
        "      vowels+=1\n",
        "  print(f'모음 개수: {vowels}')\n",
        "\n",
        "count(n)"
      ],
      "metadata": {
        "colab": {
          "base_uri": "https://localhost:8080/"
        },
        "id": "9sYXGtw_gCpO",
        "outputId": "4a95c36c-b6a5-4aea-9d0f-dd7469bb2f98"
      },
      "execution_count": null,
      "outputs": [
        {
          "output_type": "stream",
          "name": "stdout",
          "text": [
            "문자열을 입력하세요: Hello\n",
            "입력 문자열: Hello\n",
            "모음 개수: 2\n"
          ]
        }
      ]
    },
    {
      "cell_type": "code",
      "source": [
        "# 과제 06\n",
        "\n",
        "def get_inputStr():\n",
        "  inputStr=input(\"정수를 쉼표로 구분하여 입력하세요: \")\n",
        "  return inputStr\n",
        "\n",
        "def get_inputList(inputStr):\n",
        "  inputList=inputStr.split(',')\n",
        "  intList=[]\n",
        "  for i in inputList:\n",
        "    intList.append(int(i))\n",
        "  return intList\n",
        "\n",
        "def sort_list(num_list):\n",
        "  num_list.sort()\n",
        "  return num_list\n",
        "\n",
        "def result(inputStr, sort_list):\n",
        "  print(f'입력된 정수의 리스트: {inputStr}')\n",
        "  print(f'정렬된 정수의 리스트: {sort_list}')\n",
        "\n",
        "n=get_inputStr()\n",
        "a=get_inputList(n)\n",
        "b=sort_list(a)\n",
        "result(n,b)"
      ],
      "metadata": {
        "colab": {
          "base_uri": "https://localhost:8080/"
        },
        "id": "UjY1rTvqhHug",
        "outputId": "ad764ed6-2070-418c-db75-ad3b52f09541"
      },
      "execution_count": null,
      "outputs": [
        {
          "output_type": "stream",
          "name": "stdout",
          "text": [
            "정수를 쉼표로 구분하여 입력하세요: 99,88,55,22,11,33\n",
            "입력된 정수의 리스트: 99,88,55,22,11,33\n",
            "정렬된 정수의 리스트: [11, 22, 33, 55, 88, 99]\n"
          ]
        }
      ]
    }
  ]
}