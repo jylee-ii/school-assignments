{
  "nbformat": 4,
  "nbformat_minor": 0,
  "metadata": {
    "colab": {
      "provenance": [],
      "authorship_tag": "ABX9TyOSlJGMPyQ8LP9iQPQcW5u7",
      "include_colab_link": true
    },
    "kernelspec": {
      "name": "python3",
      "display_name": "Python 3"
    },
    "language_info": {
      "name": "python"
    }
  },
  "cells": [
    {
      "cell_type": "markdown",
      "metadata": {
        "id": "view-in-github",
        "colab_type": "text"
      },
      "source": [
        "<a href=\"https://colab.research.google.com/github/jylee-ii/school-assignments/blob/main/%5B%EA%B3%BC%EC%A0%9C3%5D_20251226_%EC%9D%B4%EC%A7%80%EC%9D%B4.ipynb\" target=\"_parent\"><img src=\"https://colab.research.google.com/assets/colab-badge.svg\" alt=\"Open In Colab\"/></a>"
      ]
    },
    {
      "cell_type": "code",
      "execution_count": null,
      "metadata": {
        "colab": {
          "base_uri": "https://localhost:8080/"
        },
        "id": "0oYrKTbzLsrj",
        "outputId": "708b6433-b7f5-4056-dd18-c6627cc5230c"
      },
      "outputs": [
        {
          "output_type": "stream",
          "name": "stdout",
          "text": [
            "0 1 2 3 4 5 6 7 8 9 "
          ]
        }
      ],
      "source": [
        "for x in[0,1,2,3,4,5,6,7,8,9]:\n",
        "  print(x,end= ' ')"
      ]
    },
    {
      "cell_type": "code",
      "source": [
        "sum=0\n",
        "for x in range(10):\n",
        "  sum=sum+x\n",
        "print(sum)"
      ],
      "metadata": {
        "colab": {
          "base_uri": "https://localhost:8080/"
        },
        "id": "jcbiQgU7MLMT",
        "outputId": "a2fbe494-2b82-4bff-ae2f-eff7d850c226"
      },
      "execution_count": null,
      "outputs": [
        {
          "output_type": "stream",
          "name": "stdout",
          "text": [
            "45\n"
          ]
        }
      ]
    },
    {
      "cell_type": "code",
      "source": [
        "sum=0\n",
        "for x in range(0,10):\n",
        "  sum=sum+x\n",
        "print(sum)"
      ],
      "metadata": {
        "colab": {
          "base_uri": "https://localhost:8080/"
        },
        "id": "mjwJY4XtMR1w",
        "outputId": "3241ba47-53f8-43e3-b0d0-555f1268defa"
      },
      "execution_count": null,
      "outputs": [
        {
          "output_type": "stream",
          "name": "stdout",
          "text": [
            "45\n"
          ]
        }
      ]
    },
    {
      "cell_type": "code",
      "source": [
        "for x in range(0,10,2):\n",
        "  print(x,end=\" \")"
      ],
      "metadata": {
        "colab": {
          "base_uri": "https://localhost:8080/"
        },
        "id": "iFKIkJIWMgew",
        "outputId": "d4214b66-0c88-4580-e17d-e343c5a3572b"
      },
      "execution_count": null,
      "outputs": [
        {
          "output_type": "stream",
          "name": "stdout",
          "text": [
            "0 2 4 6 8 "
          ]
        }
      ]
    },
    {
      "cell_type": "code",
      "source": [
        "even_numbers=list(range(2,21,2))\n",
        "print(even_numbers)"
      ],
      "metadata": {
        "colab": {
          "base_uri": "https://localhost:8080/"
        },
        "id": "p8pRHuA8MpQ7",
        "outputId": "897e67b9-3072-4ab1-caa0-ada5094b796c"
      },
      "execution_count": null,
      "outputs": [
        {
          "output_type": "stream",
          "name": "stdout",
          "text": [
            "[2, 4, 6, 8, 10, 12, 14, 16, 18, 20]\n"
          ]
        }
      ]
    },
    {
      "cell_type": "code",
      "source": [
        "reverse_numbers=list(range(10,0,-1))\n",
        "print(reverse_numbers)"
      ],
      "metadata": {
        "colab": {
          "base_uri": "https://localhost:8080/"
        },
        "id": "1XXZj8AsN6Pg",
        "outputId": "39887e68-b81e-4cf6-f2c1-a81b7365b643"
      },
      "execution_count": null,
      "outputs": [
        {
          "output_type": "stream",
          "name": "stdout",
          "text": [
            "[10, 9, 8, 7, 6, 5, 4, 3, 2, 1]\n"
          ]
        }
      ]
    },
    {
      "cell_type": "code",
      "source": [
        "sum=0\n",
        "limit=int(input('어디까지 계산할까요:'))\n",
        "\n",
        "for i in range(1,limit+1):\n",
        "  sum+=i\n",
        "print(\"1부터\",limit,\"까지의 함수의 합=\",sum)"
      ],
      "metadata": {
        "colab": {
          "base_uri": "https://localhost:8080/"
        },
        "id": "X1ZobVi3O06C",
        "outputId": "e854a0b7-f749-4d50-b797-4377fbb81f4d"
      },
      "execution_count": null,
      "outputs": [
        {
          "output_type": "stream",
          "name": "stdout",
          "text": [
            "어디까지 계산할까요:10\n",
            "1부터 10 까지의 함수의 합= 55\n"
          ]
        }
      ]
    },
    {
      "cell_type": "code",
      "source": [
        "sum=0\n",
        "limit=int(input('어디까지 게산할까요:'))\n",
        "\n",
        "start_number=2\n",
        "increase_by=2\n",
        "\n",
        "for i in range(start_number,limit+1,increase_by):\n",
        "  sum+=i\n",
        "\n",
        "print(start_number,\"부터\",limit,\"까지의 정수의 합=\",sum)"
      ],
      "metadata": {
        "colab": {
          "base_uri": "https://localhost:8080/"
        },
        "id": "RuVNkU0RV3YG",
        "outputId": "3a4a9b41-9498-4470-da31-2167b8994246"
      },
      "execution_count": null,
      "outputs": [
        {
          "output_type": "stream",
          "name": "stdout",
          "text": [
            "어디까지 게산할까요:10\n",
            "2 부터 10 까지의 정수의 합= 30\n"
          ]
        }
      ]
    },
    {
      "cell_type": "code",
      "source": [
        "fact=1.0\n",
        "n=int(input('정수를 입력하세요:'))\n",
        "\n",
        "for i in range(1,n+1):\n",
        "  fact=fact*i\n",
        "\n",
        "print(n,'!은',fact,'이다.')"
      ],
      "metadata": {
        "colab": {
          "base_uri": "https://localhost:8080/"
        },
        "id": "mnzh0X5vXM4_",
        "outputId": "26ab0442-d9c2-4524-e951-9a83bdfc9231"
      },
      "execution_count": null,
      "outputs": [
        {
          "output_type": "stream",
          "name": "stdout",
          "text": [
            "정수를 입력하세요:10\n",
            "10 !은 3628800.0 이다.\n"
          ]
        }
      ]
    },
    {
      "cell_type": "code",
      "source": [
        "fact=1.0\n",
        "n=int(input('정수를 입력하세요: '))\n",
        "\n",
        "for i in range(1,n+1):\n",
        "  fact=fact*i\n",
        "\n",
        "print(f\"{n}!은 {int(fact)}이다.\")"
      ],
      "metadata": {
        "colab": {
          "base_uri": "https://localhost:8080/"
        },
        "id": "TWRpr8QWYEPW",
        "outputId": "08296ccf-9c83-4afc-8725-f439831ccb7a"
      },
      "execution_count": null,
      "outputs": [
        {
          "output_type": "stream",
          "name": "stdout",
          "text": [
            "정수를 입력하세요: 10\n",
            "10!은 3628800이다.\n"
          ]
        }
      ]
    },
    {
      "cell_type": "code",
      "source": [
        "fact=1.0\n",
        "n=int(input('정수를 입력하세요: '))\n",
        "\n",
        "if n<0:\n",
        "  print('음수는 팩토리얼을 계산할 수 없습니다.')\n",
        "else:\n",
        "  for i in range(1,n+1):\n",
        "    fact=fact*i\n",
        "  print(f\"{n}!은 {int(fact)}이다.\")"
      ],
      "metadata": {
        "colab": {
          "base_uri": "https://localhost:8080/"
        },
        "id": "q5nzomCSYrUP",
        "outputId": "7a8f33df-2da9-4dbe-9cbb-5d0a8409afef"
      },
      "execution_count": null,
      "outputs": [
        {
          "output_type": "stream",
          "name": "stdout",
          "text": [
            "정수를 입력하세요: 6\n",
            "6!은 720이다.\n"
          ]
        }
      ]
    },
    {
      "cell_type": "code",
      "source": [
        "for t in range(1,101,10):\n",
        "  C=(t-32.0)*(5/9)\n",
        "  print(t,\"->\",round(C,2))"
      ],
      "metadata": {
        "colab": {
          "base_uri": "https://localhost:8080/"
        },
        "id": "4Etw3OI_aub-",
        "outputId": "009587d4-e3eb-465c-f1e5-8aed68f1fece"
      },
      "execution_count": null,
      "outputs": [
        {
          "output_type": "stream",
          "name": "stdout",
          "text": [
            "1 -> -17.22\n",
            "11 -> -11.67\n",
            "21 -> -6.11\n",
            "31 -> -0.56\n",
            "41 -> 5.0\n",
            "51 -> 10.56\n",
            "61 -> 16.11\n",
            "71 -> 21.67\n",
            "81 -> 27.22\n",
            "91 -> 32.78\n"
          ]
        }
      ]
    },
    {
      "cell_type": "code",
      "source": [
        "start_tempt=int(input('시작 온도를 입력하세요:'))\n",
        "end_tempt=int(input('끝 온도를 입력하세요:'))\n",
        "\n",
        "for t in range(start_tempt,end_tempt,10):\n",
        "  c=(t-32)*(5/9)\n",
        "  print(t,\"->\",round(c,2))"
      ],
      "metadata": {
        "colab": {
          "base_uri": "https://localhost:8080/"
        },
        "id": "DqhSGYfjbcvh",
        "outputId": "56abe63c-fc43-47f9-a263-7a7d987626bd"
      },
      "execution_count": null,
      "outputs": [
        {
          "output_type": "stream",
          "name": "stdout",
          "text": [
            "시작 온도를 입력하세요:50\n",
            "끝 온도를 입력하세요:90\n",
            "50 -> 10.0\n",
            "60 -> 15.56\n",
            "70 -> 21.11\n",
            "80 -> 26.67\n"
          ]
        }
      ]
    },
    {
      "cell_type": "code",
      "source": [
        "i=0\n",
        "while i<5:\n",
        "  print(\"반갑습니다\")\n",
        "  i+=1\n",
        "print(\"반복이 완료되었습니다\")"
      ],
      "metadata": {
        "colab": {
          "base_uri": "https://localhost:8080/"
        },
        "id": "7AmFUPIQGhbD",
        "outputId": "86af0a4d-bf12-4de1-d4b7-9988f7118ffb"
      },
      "execution_count": null,
      "outputs": [
        {
          "output_type": "stream",
          "name": "stdout",
          "text": [
            "반갑습니다\n",
            "반갑습니다\n",
            "반갑습니다\n",
            "반갑습니다\n",
            "반갑습니다\n",
            "반복이 완료되었습니다\n"
          ]
        }
      ]
    },
    {
      "cell_type": "code",
      "source": [
        "i=1\n",
        "factorial=1\n",
        "\n",
        "while (i<=10):\n",
        "  factorial*=i\n",
        "  i+=1\n",
        "print(\"10!은 %d입니다.\"%factorial)"
      ],
      "metadata": {
        "colab": {
          "base_uri": "https://localhost:8080/"
        },
        "id": "V1HfADMPH3M2",
        "outputId": "2a70b0ac-19fd-4907-df7e-ee0c332cd33e"
      },
      "execution_count": null,
      "outputs": [
        {
          "output_type": "stream",
          "name": "stdout",
          "text": [
            "10!은 3628800입니다.\n"
          ]
        }
      ]
    },
    {
      "cell_type": "code",
      "source": [
        "num=int(input(\"숫자를 입력하세요: \"))\n",
        "\n",
        "if num<=0:\n",
        "  print(\"잘못된 입력입니다.\")\n",
        "else:\n",
        "  for i in range(1,num):\n",
        "    if i %2!=0:\n",
        "      print(i,end=\" \")"
      ],
      "metadata": {
        "colab": {
          "base_uri": "https://localhost:8080/"
        },
        "id": "GBZ5MsHFJnBz",
        "outputId": "dba7fb74-19e4-4fd7-936f-21e18f6c941a"
      },
      "execution_count": null,
      "outputs": [
        {
          "output_type": "stream",
          "name": "stdout",
          "text": [
            "숫자를 입력하세요: 10\n",
            "1 3 5 7 9 "
          ]
        }
      ]
    },
    {
      "cell_type": "code",
      "source": [
        "n=0\n",
        "sum=0\n",
        "score=0\n",
        "\n",
        "print(\"종료하려면 음수를 입력하시오.\")\n",
        "while score>=0:\n",
        "  score=int(input(\"성적을 입력하시오\"))\n",
        "  if score>0:\n",
        "    sum+=score\n",
        "    n+=1\n",
        "if n>0:\n",
        "  average=sum/n\n",
        "print(\"성적의 평균은 %.2f입니다.\"%average)"
      ],
      "metadata": {
        "colab": {
          "base_uri": "https://localhost:8080/"
        },
        "id": "3rLFDxV7K0OF",
        "outputId": "4f0541f6-271e-4cdc-95fe-b9b440bd41fe"
      },
      "execution_count": null,
      "outputs": [
        {
          "output_type": "stream",
          "name": "stdout",
          "text": [
            "종료하려면 음수를 입력하시오.\n",
            "성적을 입력하시오10\n",
            "성적을 입력하시오20\n",
            "성적을 입력하시오30\n",
            "성적을 입력하시오-1\n",
            "성적의 평균은 20.00입니다.\n"
          ]
        }
      ]
    },
    {
      "cell_type": "code",
      "source": [
        "year=0\n",
        "balance=1000\n",
        "\n",
        "while balance<2000:\n",
        "  year+=1\n",
        "  interest=balance*0.05\n",
        "  balance+=interest\n",
        "print(\"기간: \",year)\n",
        "print(\"총액: \",balance)"
      ],
      "metadata": {
        "colab": {
          "base_uri": "https://localhost:8080/"
        },
        "id": "ZFetURKNOInp",
        "outputId": "122bb808-af0d-473b-9efb-ee0cc746febe"
      },
      "execution_count": null,
      "outputs": [
        {
          "output_type": "stream",
          "name": "stdout",
          "text": [
            "기간:  15\n",
            "총액:  2078.928179411367\n"
          ]
        }
      ]
    },
    {
      "cell_type": "code",
      "source": [
        "keyword_list=[]\n",
        "user_input=\"\"\n",
        "\n",
        "while user_input!=\"quit\":\n",
        "  user_input=input(\"단어를 입력하세요('quit'으로 종료): \")\n",
        "\n",
        "  if user_input!= \"quit\":\n",
        "    keyword_list.append(user_input)\n",
        "\n",
        "keyword_count=len(keyword_list)\n",
        "print(\"입력된 단어 개수:\",keyword_count)\n",
        "print(\"입력된 단어 목록:\",keyword_list)"
      ],
      "metadata": {
        "colab": {
          "base_uri": "https://localhost:8080/"
        },
        "id": "reZNKBrNPU0g",
        "outputId": "47aaf475-58c9-43cf-a8ae-c9972eee6303"
      },
      "execution_count": null,
      "outputs": [
        {
          "output_type": "stream",
          "name": "stdout",
          "text": [
            "단어를 입력하세요('quit'으로 종료): apple\n",
            "단어를 입력하세요('quit'으로 종료): banana\n",
            "단어를 입력하세요('quit'으로 종료): orange\n",
            "단어를 입력하세요('quit'으로 종료): quit\n",
            "입력된 단어 개수: 3\n",
            "입력된 단어 목록: ['apple', 'banana', 'orange']\n"
          ]
        }
      ]
    },
    {
      "cell_type": "code",
      "source": [
        "number=1234\n",
        "sum=0\n",
        "\n",
        "while number>0:\n",
        "  digit=number%10\n",
        "  sum+=digit\n",
        "  number//=10\n",
        "print(\"자리수의 합은 %d입니다.\"%sum)"
      ],
      "metadata": {
        "colab": {
          "base_uri": "https://localhost:8080/"
        },
        "id": "kkHyEFUYQbWb",
        "outputId": "f0299cda-9a11-4b5e-ac61-37d5485c83e3"
      },
      "execution_count": null,
      "outputs": [
        {
          "output_type": "stream",
          "name": "stdout",
          "text": [
            "자리수의 합은 10입니다.\n"
          ]
        }
      ]
    },
    {
      "cell_type": "code",
      "source": [
        "x=int(input(\"정수를 입력하시오(큰수):\"))\n",
        "y=int(input(\"정수를 입력하시오(작은수):\"))\n",
        "\n",
        "while (y!=0):\n",
        "  r=x%y\n",
        "  x=y\n",
        "  y=r\n",
        "\n",
        "print(\"최대 공약수는 %d입니다.\"%x)"
      ],
      "metadata": {
        "colab": {
          "base_uri": "https://localhost:8080/"
        },
        "id": "TlQzmsOpQS6A",
        "outputId": "0d3bbb55-1ba6-4e10-98be-9222ed19b980"
      },
      "execution_count": null,
      "outputs": [
        {
          "output_type": "stream",
          "name": "stdout",
          "text": [
            "정수를 입력하시오(큰수):10\n",
            "정수를 입력하시오(작은수):2\n",
            "최대 공약수는 2입니다.\n"
          ]
        }
      ]
    },
    {
      "cell_type": "code",
      "source": [
        "import random\n",
        "tries=0\n",
        "number=random.randint(1,100)\n",
        "\n",
        "print(\"1부터 100 사이의 숫자를 맞추시오\")\n",
        "\n",
        "while tries<10:\n",
        "  guess=int(input(\"숫자를 입력하시오: \"))\n",
        "  tries+=1\n",
        "  if guess<number:\n",
        "    print('낮음!')\n",
        "  elif guess>number:\n",
        "    print(\"높음!\")\n",
        "  else:\n",
        "    break\n",
        "if guess==number:\n",
        "  print(\"축하합니다. 시도횟수=\",tries)\n",
        "else:\n",
        "  print(\"정답은\", number)"
      ],
      "metadata": {
        "colab": {
          "base_uri": "https://localhost:8080/"
        },
        "id": "QCapQbiRUcfk",
        "outputId": "631b2e4f-2aa8-4b62-8ba8-b42e74bcc7eb"
      },
      "execution_count": null,
      "outputs": [
        {
          "output_type": "stream",
          "name": "stdout",
          "text": [
            "1부터 100 사이의 숫자를 맞추시오\n",
            "숫자를 입력하시오: 100\n",
            "높음!\n",
            "숫자를 입력하시오: 2\n",
            "낮음!\n",
            "숫자를 입력하시오: 30\n",
            "낮음!\n",
            "숫자를 입력하시오: 40\n",
            "낮음!\n",
            "숫자를 입력하시오: 60\n",
            "낮음!\n",
            "숫자를 입력하시오: 70\n",
            "낮음!\n",
            "숫자를 입력하시오: 80\n",
            "낮음!\n",
            "숫자를 입력하시오: 9\n",
            "낮음!\n",
            "숫자를 입력하시오: 90\n",
            "낮음!\n",
            "숫자를 입력하시오: 97\n",
            "축하합니다. 시도횟수= 10\n"
          ]
        }
      ]
    },
    {
      "cell_type": "code",
      "source": [
        "\n",
        "number=input(\"휴대전화 번호 입력: \")\n",
        "num=number[0:3]\n",
        "if num==\"011\":\n",
        "  user='SKT'\n",
        "elif num==\"016\":\n",
        "  user='KT'\n",
        "elif num==\"019\":\n",
        "  user='LGU'\n",
        "elif num==\"010\":\n",
        "  user='알수없음'\n",
        "else:\n",
        "  user='알 수 없는 번호입니다.'\n",
        "print(\"당신은\",user,\"사용자입니다\")"
      ],
      "metadata": {
        "colab": {
          "base_uri": "https://localhost:8080/"
        },
        "id": "Gs2Mjv8hdbBN",
        "outputId": "2358102e-51cd-4fe5-8519-249f7e65155a"
      },
      "execution_count": null,
      "outputs": [
        {
          "output_type": "stream",
          "name": "stdout",
          "text": [
            "휴대전화 번호 입력: 0161234567\n",
            "당신은 KT 사용자입니다\n"
          ]
        }
      ]
    },
    {
      "cell_type": "code",
      "source": [
        "number=input(\"주민등록번호: \")\n",
        "num=number[7]\n",
        "\n",
        "if num==\"1\" or num==\"3\":\n",
        "  print(\"남자\")\n",
        "else:\n",
        "  print(\"여자\")"
      ],
      "metadata": {
        "colab": {
          "base_uri": "https://localhost:8080/"
        },
        "id": "EE-JnAQIfZHR",
        "outputId": "8e30a731-efec-42ed-9ad9-fd6b13843b7b"
      },
      "execution_count": null,
      "outputs": [
        {
          "output_type": "stream",
          "name": "stdout",
          "text": [
            "주민등록번호: 000000-3333333\n",
            "남자\n"
          ]
        }
      ]
    },
    {
      "cell_type": "code",
      "source": [
        "food=[\"김밥\",\"라면\",\"튀김\"]\n",
        "\n",
        "for i in food:\n",
        "  print(\"오늘의 메뉴: \",i)"
      ],
      "metadata": {
        "colab": {
          "base_uri": "https://localhost:8080/"
        },
        "id": "FJq-sNYhjBw4",
        "outputId": "79b02990-d083-4643-8649-d3066cf0cb47"
      },
      "execution_count": null,
      "outputs": [
        {
          "output_type": "stream",
          "name": "stdout",
          "text": [
            "오늘의 메뉴:  김밥\n",
            "오늘의 메뉴:  라면\n",
            "오늘의 메뉴:  튀김\n"
          ]
        }
      ]
    },
    {
      "cell_type": "code",
      "source": [
        "list=[\"SK하이닉스\",\"삼성전자\",\"LG전자\"]\n",
        "\n",
        "for i in list:\n",
        "  print(len(i))"
      ],
      "metadata": {
        "colab": {
          "base_uri": "https://localhost:8080/"
        },
        "id": "4buLEqLvj608",
        "outputId": "2019239d-83bf-4d09-ea0b-b4489cfe1550"
      },
      "execution_count": null,
      "outputs": [
        {
          "output_type": "stream",
          "name": "stdout",
          "text": [
            "6\n",
            "4\n",
            "4\n"
          ]
        }
      ]
    },
    {
      "cell_type": "code",
      "source": [
        "list=[3,-20,-3,44]\n",
        "\n",
        "for i in list:\n",
        "  if i<0:\n",
        "    print(i)"
      ],
      "metadata": {
        "colab": {
          "base_uri": "https://localhost:8080/"
        },
        "id": "uW4Zjde-lQS3",
        "outputId": "beea7310-bd1f-418d-c148-1cba20ed9118"
      },
      "execution_count": null,
      "outputs": [
        {
          "output_type": "stream",
          "name": "stdout",
          "text": [
            "-20\n",
            "-3\n"
          ]
        }
      ]
    },
    {
      "cell_type": "code",
      "source": [
        "list=['dog','cat','parrot']\n",
        "\n",
        "for i in list:\n",
        "  print(i[0].upper()+i[1:])"
      ],
      "metadata": {
        "colab": {
          "base_uri": "https://localhost:8080/"
        },
        "id": "1q8Kf0D5mxDn",
        "outputId": "3cb325ea-3572-46fb-fbcc-c832076f0ec7"
      },
      "execution_count": null,
      "outputs": [
        {
          "output_type": "stream",
          "name": "stdout",
          "text": [
            "Dog\n",
            "Cat\n",
            "Parrot\n"
          ]
        }
      ]
    },
    {
      "cell_type": "code",
      "source": [
        "list=['hello.py','ex01.py','intro.hwp']\n",
        "for i in list:\n",
        "  split=i.split(\".\")\n",
        "  print(split[0])"
      ],
      "metadata": {
        "colab": {
          "base_uri": "https://localhost:8080/"
        },
        "id": "g6DQ4QxboHj-",
        "outputId": "6d3cb271-6430-4f59-e63c-a199d747244e"
      },
      "execution_count": null,
      "outputs": [
        {
          "output_type": "stream",
          "name": "stdout",
          "text": [
            "hello\n",
            "ex01\n",
            "intro\n"
          ]
        }
      ]
    },
    {
      "cell_type": "code",
      "source": [
        "#과제 01\n",
        "word=input(\"문자열을 입력하시오: \")\n",
        "count={}\n",
        "for i in word:\n",
        "  if i in count:\n",
        "    count[i]+=1\n",
        "  else:\n",
        "    count[i]=1\n",
        "\n",
        "for i in count:\n",
        "  print(f\"{i}:{count[i]}\")"
      ],
      "metadata": {
        "colab": {
          "base_uri": "https://localhost:8080/"
        },
        "id": "Wnl5BBP7QOuN",
        "outputId": "dcfe9ea9-d54a-4221-fc39-5112ed595913"
      },
      "execution_count": null,
      "outputs": [
        {
          "output_type": "stream",
          "name": "stdout",
          "text": [
            "문자열을 입력하시오: hello world\n",
            "h:1\n",
            "e:1\n",
            "l:3\n",
            "o:2\n",
            " :1\n",
            "w:1\n",
            "r:1\n",
            "d:1\n"
          ]
        }
      ]
    },
    {
      "cell_type": "code",
      "source": [
        "#과제 02\n",
        "numbers=input(\"숫자들을 입력하세요(띄어쓰기로 구분):\").split()\n",
        "sum=0\n",
        "list=[]\n",
        "for i in numbers:\n",
        "  sum+=int(i)\n",
        "  list.append(sum)\n",
        "print(f\"누적 합 리스트: {list}\")"
      ],
      "metadata": {
        "colab": {
          "base_uri": "https://localhost:8080/"
        },
        "id": "71APgd1tJCVp",
        "outputId": "cc9039c9-3705-4120-df91-0d5166e87742"
      },
      "execution_count": null,
      "outputs": [
        {
          "output_type": "stream",
          "name": "stdout",
          "text": [
            "숫자들을 입력하세요(띄어쓰기로 구분):1 2 3 4 5\n",
            "누적 합 리스트: [1, 3, 6, 10, 15]\n"
          ]
        }
      ]
    },
    {
      "cell_type": "code",
      "source": [
        "#과제 03\n",
        "answer=0\n",
        "sum=0\n",
        "\n",
        "while answer!=123:\n",
        "  answer=int(input('87+36의 값은?'))\n",
        "  if answer==123:\n",
        "    print(\"맞았습니다.\")\n",
        "    sum+=answer\n",
        "  else:\n",
        "    print(\"틀렸습니다.\")\n",
        "\n"
      ],
      "metadata": {
        "colab": {
          "base_uri": "https://localhost:8080/"
        },
        "id": "ZxS_pbErXfGj",
        "outputId": "bc78c68d-d8fd-461e-86eb-a3869796a27d"
      },
      "execution_count": null,
      "outputs": [
        {
          "output_type": "stream",
          "name": "stdout",
          "text": [
            "87+36의 값은?1\n",
            "틀렸습니다.\n",
            "87+36의 값은?100\n",
            "틀렸습니다.\n",
            "87+36의 값은?200\n",
            "틀렸습니다.\n",
            "87+36의 값은?123\n",
            "맞았습니다.\n"
          ]
        }
      ]
    },
    {
      "cell_type": "code",
      "source": [
        "#과제 04\n",
        "import random\n",
        "\n",
        "ilist=input(\"로또 번호 6개를 띄어쓰기로 구분하여 입력하세요: \").split()\n",
        "user_lotto=[]\n",
        "for s in ilist:\n",
        "  number=int(s)\n",
        "  user_lotto.append(number)\n",
        "\n",
        "user_bonus=int(input(\"보너스 번호를 입력하세요: \"))\n",
        "\n",
        "lotto=random.sample(range(1,46),6)\n",
        "bonus=random.sample(range(1,46),1)[0]\n",
        "\n",
        "print(\"당첨 번호:\",lotto)\n",
        "print(\"보너스 번호: \",bonus)\n",
        "\n",
        "match_count=0\n",
        "for num in user_lotto:\n",
        "  if num in lotto:\n",
        "    match_count+=1\n",
        "\n",
        "if match_count==6:\n",
        "  print(\"1등\")\n",
        "elif match_count==5 and user_bonus==bonus:\n",
        "  print(\"2등\")\n",
        "elif match_count==5:\n",
        "  print(\"3등\")\n",
        "elif match_count==4:\n",
        "  print(\"4등\")\n",
        "elif match_count==3:\n",
        "  print(\"5등\")\n",
        "else:\n",
        "  print(\"꽝\")\n"
      ],
      "metadata": {
        "colab": {
          "base_uri": "https://localhost:8080/"
        },
        "id": "ldH1tGMAZy5g",
        "outputId": "fe20d20b-c3be-4ef0-8b1b-817bad1a4093"
      },
      "execution_count": null,
      "outputs": [
        {
          "output_type": "stream",
          "name": "stdout",
          "text": [
            "로또 번호 6개를 띄어쓰기로 구분하여 입력하세요: 10 22 14 18 31 42\n",
            "보너스 번호를 입력하세요: 10\n",
            "당첨 번호: [5, 15, 43, 1, 2, 22]\n",
            "보너스 번호:  11\n",
            "꽝\n"
          ]
        }
      ]
    }
  ]
}