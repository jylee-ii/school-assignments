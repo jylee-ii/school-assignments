{
  "cells": [
    {
      "cell_type": "markdown",
      "metadata": {
        "id": "view-in-github",
        "colab_type": "text"
      },
      "source": [
        "<a href=\"https://colab.research.google.com/github/jylee-ii/school-assignments/blob/main/2025_1%ED%95%99%EA%B8%B0_%EC%A4%91%EA%B0%84%EA%B3%A0%EC%82%AC_ipynb%EC%9D%98_%EC%82%AC%EB%B3%B8.ipynb\" target=\"_parent\"><img src=\"https://colab.research.google.com/assets/colab-badge.svg\" alt=\"Open In Colab\"/></a>"
      ]
    },
    {
      "cell_type": "markdown",
      "id": "53f22d67",
      "metadata": {
        "id": "53f22d67"
      },
      "source": [
        "# 🧪 파이썬 실기 시험지\n",
        "총 10문제 / 100점 만점\n",
        "아래 문제에 대한 파이썬 코드를 작성하세요.\n",
        "(모든 문항은 함수 없이 작성하며, 입력 → 처리 → 출력 흐름을 지켜주세요.)"
      ]
    },
    {
      "cell_type": "code",
      "execution_count": null,
      "id": "8ef9a61f",
      "metadata": {
        "id": "8ef9a61f",
        "colab": {
          "base_uri": "https://localhost:8080/"
        },
        "outputId": "90ed18db-7b5a-476f-c46c-517d72d6447e"
      },
      "outputs": [
        {
          "output_type": "stream",
          "name": "stdout",
          "text": [
            "이지이\n",
            "20251226\n"
          ]
        }
      ],
      "source": [
        "# 본인의 이름과 학번을 출력하세요\n",
        "print(\"이지이\")\n",
        "print(\"20251226\")"
      ]
    },
    {
      "cell_type": "markdown",
      "id": "b425629b",
      "metadata": {
        "id": "b425629b"
      },
      "source": [
        "## 문제 1\n",
        "# 1. 평균 속력 계산 (하, 5점)\n",
        "덕성이는 총 120.5km를 2시간 15분 동안 운전했다.\n",
        "평균 속력 = 거리 ÷ 시간 (소수 둘째 자리까지 출력)\n",
        "거리는 120.5, 시간은 2시간 15분으로 계산하시오."
      ]
    },
    {
      "cell_type": "code",
      "source": [
        "#문제1\n",
        "km=120.5\n",
        "time=2.25\n",
        "print(f\"평균 속력: {km/time:.2f} km/h\")\n"
      ],
      "metadata": {
        "id": "PZdywClAJhLl",
        "colab": {
          "base_uri": "https://localhost:8080/"
        },
        "outputId": "e08d7149-3db6-4736-8e77-53143f4f6f0b"
      },
      "id": "PZdywClAJhLl",
      "execution_count": 3,
      "outputs": [
        {
          "output_type": "stream",
          "name": "stdout",
          "text": [
            "평균 속력: 53.56 km/h\n"
          ]
        }
      ]
    },
    {
      "cell_type": "markdown",
      "id": "d026a9ec",
      "metadata": {
        "id": "d026a9ec"
      },
      "source": [
        "## 문제 2\n",
        "# 2. while문으로 반복 출력 (하, 5점)\n",
        "print(\"나는 행복합니다\") 를 5번 출력하는 코드를 while문으로 작성하시오."
      ]
    },
    {
      "cell_type": "code",
      "execution_count": 10,
      "id": "1f161ef1",
      "metadata": {
        "id": "1f161ef1",
        "colab": {
          "base_uri": "https://localhost:8080/"
        },
        "outputId": "8f745b29-2856-42f8-e4b5-887154cea280"
      },
      "outputs": [
        {
          "output_type": "stream",
          "name": "stdout",
          "text": [
            "나는 행복합니다\n",
            "나는 행복합니다\n",
            "나는 행복합니다\n",
            "나는 행복합니다\n",
            "나는 행복합니다\n"
          ]
        }
      ],
      "source": [
        "#문제2\n",
        "i=1\n",
        "while i<=5:\n",
        "  print(\"나는 행복합니다\")\n",
        "  i+=1"
      ]
    },
    {
      "cell_type": "markdown",
      "id": "6f5ca76f",
      "metadata": {
        "id": "6f5ca76f"
      },
      "source": [
        "## 문제 3\n",
        "# 3. for문으로 반복 출력 (하, 5점)\n",
        "print(\"나는 행복합니다\") 를 5번 출력하는 코드를 for문으로 작성하시오."
      ]
    },
    {
      "cell_type": "code",
      "execution_count": 11,
      "id": "19b7e546",
      "metadata": {
        "id": "19b7e546",
        "colab": {
          "base_uri": "https://localhost:8080/"
        },
        "outputId": "fe1b0346-5cf4-4070-eec0-fc0a775483d1"
      },
      "outputs": [
        {
          "output_type": "stream",
          "name": "stdout",
          "text": [
            "나는 행복합니다\n",
            "나는 행복합니다\n",
            "나는 행복합니다\n",
            "나는 행복합니다\n",
            "나는 행복합니다\n"
          ]
        }
      ],
      "source": [
        "#문제3\n",
        "for i in range(5):\n",
        "  print(\"나는 행복합니다\")"
      ]
    },
    {
      "cell_type": "markdown",
      "id": "c657f6bc",
      "metadata": {
        "id": "c657f6bc"
      },
      "source": [
        "## 문제 4\n",
        "# 4. 리스트에서 첫 글자 출력 (하, 5점)\n",
        "리스트 = ['dog', 'cat', 'parrot'] 가 있을 때,\n",
        "각 동물 이름의 첫 글자만 출력하는 프로그램을 작성하시오."
      ]
    },
    {
      "cell_type": "code",
      "execution_count": 16,
      "id": "549ebb2a",
      "metadata": {
        "id": "549ebb2a",
        "colab": {
          "base_uri": "https://localhost:8080/"
        },
        "outputId": "ce553d4a-b5c3-479e-eef7-cdc8bed49b25"
      },
      "outputs": [
        {
          "output_type": "stream",
          "name": "stdout",
          "text": [
            "d\n",
            "c\n",
            "p\n"
          ]
        }
      ],
      "source": [
        "#문제4\n",
        "lst=['dog','cat','parrot']\n",
        "for i in lst:\n",
        "  print(i[0])"
      ]
    },
    {
      "cell_type": "markdown",
      "id": "a04e3d8d",
      "metadata": {
        "id": "a04e3d8d"
      },
      "source": [
        "## 문제 5\n",
        "# 5. 초를 시:분:초로 변환 (중, 10점)\n",
        "사용자로부터 초를 입력받아 시:분:초로 변환하여 출력하는 프로그램을 작성하시오."
      ]
    },
    {
      "cell_type": "code",
      "execution_count": 26,
      "id": "6f30c4b3",
      "metadata": {
        "id": "6f30c4b3",
        "colab": {
          "base_uri": "https://localhost:8080/"
        },
        "outputId": "003f8ce3-1373-41a8-c503-ef317af01f5b"
      },
      "outputs": [
        {
          "output_type": "stream",
          "name": "stdout",
          "text": [
            "초를 입력하세요: 3456\n",
            "0시간 57분 36초\n"
          ]
        }
      ],
      "source": [
        "#문제5\n",
        "time=int(input(\"초를 입력하세요: \"))\n",
        "hour=time//3600\n",
        "time%=3600\n",
        "min=time//60\n",
        "time%=60\n",
        "second=time%60\n",
        "print(f\"{hour}시간 {min}분 {second}초\")"
      ]
    },
    {
      "cell_type": "markdown",
      "id": "362b40c3",
      "metadata": {
        "id": "362b40c3"
      },
      "source": [
        "## 문제 6\n",
        "#6. 나이에 따른 연령대 분류 (중, 10점)\n",
        "\n",
        "사용자로부터 나이(age)를 입력받아 다음 기준에 따라 그룹명을 출력하는 프로그램을 작성하시오.\n",
        "\n",
        "- 0 ~ 12세 : 어린이  \n",
        "- 13 ~ 18세 : 청소년  \n",
        "- 19 ~ 64세 : 성인  \n",
        "- 65세 이상 : 노인"
      ]
    },
    {
      "cell_type": "code",
      "execution_count": 28,
      "id": "91280c04",
      "metadata": {
        "id": "91280c04",
        "colab": {
          "base_uri": "https://localhost:8080/"
        },
        "outputId": "c024aa8d-e07d-41b5-b954-77fb84c62a54"
      },
      "outputs": [
        {
          "output_type": "stream",
          "name": "stdout",
          "text": [
            "나이를 입력하세요: 21\n",
            "group is 성인\n"
          ]
        }
      ],
      "source": [
        "#문제6\n",
        "age = int(input(\"나이를 입력하세요: \"))\n",
        "\n",
        "if age >= 0 and age <= 12:\n",
        "    print(\"group is 어린이\")\n",
        "elif age >= 13 and age <= 18:\n",
        "    print(\"group is 청소년\")\n",
        "elif age >= 19 and age <= 64:\n",
        "    print(\"group is 성인\")\n",
        "elif age >= 65:\n",
        "    print(\"group is 노인\")\n",
        "else:\n",
        "    print(\"잘못된 나이입니다.\")"
      ]
    },
    {
      "cell_type": "markdown",
      "id": "5c7d2d18",
      "metadata": {
        "id": "5c7d2d18"
      },
      "source": [
        "## 문제 7\n",
        "# 7. 3일 이동 평균 계산 (상, 15점)\n",
        "my_list = [100, 200, 400, 800, 1000, 1300] 에 대해\n",
        "3일 이동 평균을 계산하여 출력하는 프로그램을 작성하시오."
      ]
    },
    {
      "cell_type": "code",
      "execution_count": 42,
      "id": "34547db1",
      "metadata": {
        "id": "34547db1",
        "colab": {
          "base_uri": "https://localhost:8080/"
        },
        "outputId": "3d7597a7-b335-4280-e740-8845d602546d"
      },
      "outputs": [
        {
          "output_type": "stream",
          "name": "stdout",
          "text": [
            "233.3\n",
            "466.7\n",
            "733.3\n",
            "1033.3\n"
          ]
        }
      ],
      "source": [
        "#문제7\n",
        "my_list = [100, 200, 400, 800, 1000, 1300]\n",
        "for i in range(4):\n",
        "  avg=(my_list[i]+my_list[i+1]+my_list[i+2])/3\n",
        "  print(round(avg,1))\n",
        "\n"
      ]
    },
    {
      "cell_type": "markdown",
      "id": "6e17ae4f",
      "metadata": {
        "id": "6e17ae4f"
      },
      "source": [
        "## 문제 8\n",
        "# 8. 세 자리 수 조건 필터링 (상, 15점)\n",
        "100부터 999 사이의 정수 중\n",
        "첫 자리는 짝수, 끝자리는 홀수이며, 4의 배수가 아닌 수만 출력하시오."
      ]
    },
    {
      "cell_type": "code",
      "execution_count": 48,
      "id": "84f7f1b5",
      "metadata": {
        "id": "84f7f1b5",
        "colab": {
          "base_uri": "https://localhost:8080/"
        },
        "outputId": "ea5f38e7-4fff-4238-c69a-571805e09c0f"
      },
      "outputs": [
        {
          "output_type": "stream",
          "name": "stdout",
          "text": [
            "201\n",
            "203\n",
            "205\n",
            "207\n",
            "209\n",
            "211\n",
            "213\n",
            "215\n",
            "217\n",
            "219\n",
            "221\n",
            "223\n",
            "225\n",
            "227\n",
            "229\n",
            "231\n",
            "233\n",
            "235\n",
            "237\n",
            "239\n",
            "241\n",
            "243\n",
            "245\n",
            "247\n",
            "249\n",
            "251\n",
            "253\n",
            "255\n",
            "257\n",
            "259\n",
            "261\n",
            "263\n",
            "265\n",
            "267\n",
            "269\n",
            "271\n",
            "273\n",
            "275\n",
            "277\n",
            "279\n",
            "281\n",
            "283\n",
            "285\n",
            "287\n",
            "289\n",
            "291\n",
            "293\n",
            "295\n",
            "297\n",
            "299\n",
            "401\n",
            "403\n",
            "405\n",
            "407\n",
            "409\n",
            "411\n",
            "413\n",
            "415\n",
            "417\n",
            "419\n",
            "421\n",
            "423\n",
            "425\n",
            "427\n",
            "429\n",
            "431\n",
            "433\n",
            "435\n",
            "437\n",
            "439\n",
            "441\n",
            "443\n",
            "445\n",
            "447\n",
            "449\n",
            "451\n",
            "453\n",
            "455\n",
            "457\n",
            "459\n",
            "461\n",
            "463\n",
            "465\n",
            "467\n",
            "469\n",
            "471\n",
            "473\n",
            "475\n",
            "477\n",
            "479\n",
            "481\n",
            "483\n",
            "485\n",
            "487\n",
            "489\n",
            "491\n",
            "493\n",
            "495\n",
            "497\n",
            "499\n",
            "601\n",
            "603\n",
            "605\n",
            "607\n",
            "609\n",
            "611\n",
            "613\n",
            "615\n",
            "617\n",
            "619\n",
            "621\n",
            "623\n",
            "625\n",
            "627\n",
            "629\n",
            "631\n",
            "633\n",
            "635\n",
            "637\n",
            "639\n",
            "641\n",
            "643\n",
            "645\n",
            "647\n",
            "649\n",
            "651\n",
            "653\n",
            "655\n",
            "657\n",
            "659\n",
            "661\n",
            "663\n",
            "665\n",
            "667\n",
            "669\n",
            "671\n",
            "673\n",
            "675\n",
            "677\n",
            "679\n",
            "681\n",
            "683\n",
            "685\n",
            "687\n",
            "689\n",
            "691\n",
            "693\n",
            "695\n",
            "697\n",
            "699\n",
            "801\n",
            "803\n",
            "805\n",
            "807\n",
            "809\n",
            "811\n",
            "813\n",
            "815\n",
            "817\n",
            "819\n",
            "821\n",
            "823\n",
            "825\n",
            "827\n",
            "829\n",
            "831\n",
            "833\n",
            "835\n",
            "837\n",
            "839\n",
            "841\n",
            "843\n",
            "845\n",
            "847\n",
            "849\n",
            "851\n",
            "853\n",
            "855\n",
            "857\n",
            "859\n",
            "861\n",
            "863\n",
            "865\n",
            "867\n",
            "869\n",
            "871\n",
            "873\n",
            "875\n",
            "877\n",
            "879\n",
            "881\n",
            "883\n",
            "885\n",
            "887\n",
            "889\n",
            "891\n",
            "893\n",
            "895\n",
            "897\n",
            "899\n"
          ]
        }
      ],
      "source": [
        "#문제8\n",
        "for i in range(100,1000):\n",
        "  str_i=str(i)\n",
        "  if int(str_i[0])%2==0 and int(str_i[-1])%2!=0 and int(str_i)%4!=0:\n",
        "    print(i)"
      ]
    },
    {
      "cell_type": "markdown",
      "id": "264445c6",
      "metadata": {
        "id": "264445c6"
      },
      "source": [
        "## 문제 9\n",
        "# 9. 소수 출력 (상, 15점)\n",
        "1부터 100까지의 수 중 소수만 출력하는 프로그램을 작성하시오."
      ]
    },
    {
      "cell_type": "code",
      "execution_count": 57,
      "id": "33f359a6",
      "metadata": {
        "id": "33f359a6",
        "colab": {
          "base_uri": "https://localhost:8080/"
        },
        "outputId": "45dcc657-6726-4b50-b7ed-d22851c188b3"
      },
      "outputs": [
        {
          "output_type": "stream",
          "name": "stdout",
          "text": [
            "2\n",
            "3\n",
            "5\n",
            "7\n",
            "11\n",
            "13\n",
            "17\n",
            "19\n",
            "23\n",
            "29\n",
            "31\n",
            "37\n",
            "41\n",
            "43\n",
            "47\n",
            "53\n",
            "59\n",
            "61\n",
            "67\n",
            "71\n",
            "73\n",
            "79\n",
            "83\n",
            "89\n",
            "97\n"
          ]
        }
      ],
      "source": [
        "#문제9\n",
        "for i in range(2,101):\n",
        "  prime=True\n",
        "  for j in range(2,i):\n",
        "    if i%j==0:\n",
        "      prime=False\n",
        "      break\n",
        "  if prime:\n",
        "    print(i)"
      ]
    },
    {
      "cell_type": "markdown",
      "id": "f7112229",
      "metadata": {
        "id": "f7112229"
      },
      "source": [
        "## 문제 10\n",
        "# 10. 입력 종료 및 최댓값 추출 (상, 15점)\n",
        "사용자가 0을 입력할 때까지 숫자를 입력받고,\n",
        "입력된 수의 개수와 최댓값을 출력하는 프로그램을 작성하시오.\n",
        "(0은 포함하지 않음)"
      ]
    },
    {
      "cell_type": "code",
      "execution_count": 4,
      "id": "a2df858d",
      "metadata": {
        "id": "a2df858d",
        "colab": {
          "base_uri": "https://localhost:8080/"
        },
        "outputId": "ab01bf07-0959-45f5-8aee-e1ea7ad1e5ff"
      },
      "outputs": [
        {
          "output_type": "stream",
          "name": "stdout",
          "text": [
            "2\n",
            "3\n",
            "5\n",
            "7\n",
            "11\n",
            "13\n",
            "17\n",
            "19\n",
            "23\n",
            "29\n",
            "31\n",
            "37\n",
            "41\n",
            "43\n",
            "47\n",
            "53\n",
            "59\n",
            "61\n",
            "67\n",
            "71\n",
            "73\n",
            "79\n",
            "83\n",
            "89\n",
            "97\n"
          ]
        }
      ],
      "source": [
        "#문제10\n",
        "for i in range(2,101):\n",
        "  prime=True\n",
        "  for j in range(2,i):\n",
        "    if i%j==0:\n",
        "      prime=False\n",
        "      break\n",
        "  if prime:\n",
        "    print(i)"
      ]
    }
  ],
  "metadata": {
    "colab": {
      "provenance": [],
      "include_colab_link": true
    },
    "language_info": {
      "name": "python"
    },
    "kernelspec": {
      "name": "python3",
      "display_name": "Python 3"
    }
  },
  "nbformat": 4,
  "nbformat_minor": 5
}