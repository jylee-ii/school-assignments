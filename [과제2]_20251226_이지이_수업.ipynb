{
  "nbformat": 4,
  "nbformat_minor": 0,
  "metadata": {
    "colab": {
      "provenance": [],
      "authorship_tag": "ABX9TyPIoqi4Ip+dANe/AtSYINTh",
      "include_colab_link": true
    },
    "kernelspec": {
      "name": "python3",
      "display_name": "Python 3"
    },
    "language_info": {
      "name": "python"
    }
  },
  "cells": [
    {
      "cell_type": "markdown",
      "metadata": {
        "id": "view-in-github",
        "colab_type": "text"
      },
      "source": [
        "<a href=\"https://colab.research.google.com/github/jylee-ii/school-assignments/blob/main/%5B%EA%B3%BC%EC%A0%9C2%5D_20251226_%EC%9D%B4%EC%A7%80%EC%9D%B4_%EC%88%98%EC%97%85.ipynb\" target=\"_parent\"><img src=\"https://colab.research.google.com/assets/colab-badge.svg\" alt=\"Open In Colab\"/></a>"
      ]
    },
    {
      "cell_type": "code",
      "execution_count": null,
      "metadata": {
        "colab": {
          "base_uri": "https://localhost:8080/"
        },
        "id": "XkQ9t-hG_3n4",
        "outputId": "c6694767-419e-4ee4-c3de-11f86df68373"
      },
      "outputs": [
        {
          "output_type": "stream",
          "name": "stdout",
          "text": [
            "학생 3명의 성적을 입력하세요:\n",
            "1번 학생의 성적을 입력하세요:60\n",
            "2번 학생의 성적을 입력하세요:70\n",
            "3번 학생의 성적을 입력하세요:90\n",
            "최댓값:90\n",
            "최솟값:60\n"
          ]
        }
      ],
      "source": [
        "scores=[]\n",
        "print(\"학생 3명의 성적을 입력하세요:\")\n",
        "\n",
        "score=int(input(\"1번 학생의 성적을 입력하세요:\"))\n",
        "scores.append(score)\n",
        "\n",
        "score=int(input(\"2번 학생의 성적을 입력하세요:\"))\n",
        "scores.append(score)\n",
        "\n",
        "\n",
        "score=int(input(\"3번 학생의 성적을 입력하세요:\"))\n",
        "scores.append(score)\n",
        "\n",
        "max_score=max(scores)\n",
        "min_score=min(scores)\n",
        "\n",
        "print(f\"최댓값:{max_score}\")\n",
        "print(f\"최솟값:{min_score}\")\n",
        "\n"
      ]
    },
    {
      "cell_type": "code",
      "source": [
        "age=19\n",
        "\n",
        "if age>=19:\n",
        "  print(\"주류를 구매할 수 있습니다.\")\n",
        "else:\n",
        "  print(\"조금 기다리세요!\")"
      ],
      "metadata": {
        "colab": {
          "base_uri": "https://localhost:8080/"
        },
        "id": "cqXutCx6BBSw",
        "outputId": "52f51415-cf69-46d6-90fd-fc22e77d02e5"
      },
      "execution_count": null,
      "outputs": [
        {
          "output_type": "stream",
          "name": "stdout",
          "text": [
            "주류를 구매할 수 있습니다.\n"
          ]
        }
      ]
    },
    {
      "cell_type": "code",
      "source": [
        "amount=30000\n",
        "\n",
        "if amount>20000:\n",
        "  print(\"할인 쿠폰이 발행되었습니다.\")"
      ],
      "metadata": {
        "colab": {
          "base_uri": "https://localhost:8080/"
        },
        "id": "LGSiLbbtIxBd",
        "outputId": "3bb21d17-f244-4c5b-a7c9-ab6cdfb2cdbd"
      },
      "execution_count": null,
      "outputs": [
        {
          "output_type": "stream",
          "name": "stdout",
          "text": [
            "할인 쿠폰이 발행되었습니다.\n"
          ]
        }
      ]
    },
    {
      "cell_type": "code",
      "source": [
        "weight=float(input(\"짐의 무게는 얼마입니까?\"))\n",
        "\n",
        "if weight>20:\n",
        "  print(\"무거운 짐은 20000원을 내셔야 합니다.\")\n",
        "else:\n",
        "  print(\"짐에 대한 수수료는 없습니다.\")\n",
        "\n",
        "print(\"감사합니다.\")"
      ],
      "metadata": {
        "colab": {
          "base_uri": "https://localhost:8080/"
        },
        "id": "2vdOPN7aI8KU",
        "outputId": "a4867852-50b3-480d-ee13-b7629e3001cb"
      },
      "execution_count": null,
      "outputs": [
        {
          "output_type": "stream",
          "name": "stdout",
          "text": [
            "짐의 무게는 얼마입니까?50\n",
            "무거운 짐은 20000원을 내셔야 합니다.\n",
            "감사합니다.\n"
          ]
        }
      ]
    },
    {
      "cell_type": "code",
      "source": [
        "number=int(input(\"정수를 입력하세요\"))\n",
        "if (number%2)==0:\n",
        "  print(\"입력된 정수는 짝수입니다.\")\n",
        "else:\n",
        "  print(\"입력된 정수는 홀수입니다.\")"
      ],
      "metadata": {
        "colab": {
          "base_uri": "https://localhost:8080/"
        },
        "id": "Gn4-ggp3OPk_",
        "outputId": "a1beebb3-0cd1-47cb-e43d-cfa1c698c9c7"
      },
      "execution_count": null,
      "outputs": [
        {
          "output_type": "stream",
          "name": "stdout",
          "text": [
            "정수를 입력하세요6\n",
            "입력된 정수는 짝수입니다.\n"
          ]
        }
      ]
    },
    {
      "cell_type": "code",
      "source": [
        "sales=int(input(\"가격을ㄴㅁ 입력하세요:\"))\n",
        "if sales>1000:\n",
        "  discount=sales*0.1\n",
        "  print(discount,\"할인되었음!\")\n",
        "else:\n",
        "  if sales>500:\n",
        "    discount=sales*0.05\n",
        "    print(discount,\"할인되었음!\")\n",
        "  else:\n",
        "    print(\"할인은 없습니다!\")"
      ],
      "metadata": {
        "colab": {
          "base_uri": "https://localhost:8080/"
        },
        "id": "M9vrnG-xPY3i",
        "outputId": "b11692be-24fc-4e57-c060-427452257ab2"
      },
      "execution_count": null,
      "outputs": [
        {
          "output_type": "stream",
          "name": "stdout",
          "text": [
            "가격을 입력하세요:1000\n",
            "50.0 할인되었음!\n"
          ]
        }
      ]
    },
    {
      "cell_type": "code",
      "source": [
        "sales=int(input(\"구입 금액을 입력하시오:\"))\n",
        "if sales>=100000:\n",
        "  discount=sales*0.05\n",
        "  sales=sales-discount\n",
        "else:\n",
        "  print(f\"{100000-sales}을 추가 구매하면 5%할인이 가능합니다.\")\n",
        "\n",
        "print(f\"지불 금액은 {sales}입니다. \")"
      ],
      "metadata": {
        "colab": {
          "base_uri": "https://localhost:8080/"
        },
        "id": "eG5VzhzRQC8I",
        "outputId": "4c898563-cf31-4b40-9d21-874ce0fe88e4"
      },
      "execution_count": null,
      "outputs": [
        {
          "output_type": "stream",
          "name": "stdout",
          "text": [
            "구입 금액을 입력하시오:5000\n",
            "95000을 추가 구매하면 5%할인이 가능합니다.\n",
            "지불 금액은 5000입니다. \n"
          ]
        }
      ]
    },
    {
      "cell_type": "code",
      "source": [
        "hours=int(input('근무시간을 입력하시오:'))\n",
        "wage=int(input('시간당 임금을 입력하시오:'))\n",
        "\n",
        "if hours<=40:\n",
        "  totalWages=wage*hours\n",
        "else:\n",
        "  overtime=hours-40\n",
        "  totalWages=wage*40+(1.5*wage)*overtime\n",
        "\n",
        "print('총 임금은', totalWages)"
      ],
      "metadata": {
        "colab": {
          "base_uri": "https://localhost:8080/"
        },
        "id": "P5obWdexS1va",
        "outputId": "2fef88ec-13c0-4f10-ff30-d826047e4882"
      },
      "execution_count": null,
      "outputs": [
        {
          "output_type": "stream",
          "name": "stdout",
          "text": [
            "근무시간을 입력하시오:45\n",
            "시간당 임금을 입력하시오:5000\n",
            "총 임금은 237500.0\n"
          ]
        }
      ]
    },
    {
      "cell_type": "code",
      "source": [
        "age=20\n",
        "height=180\n",
        "\n",
        "if(age>-10)and(height>=165):\n",
        "  print(\"놀이 기구를 탈 수 있습니다.\")\n",
        "else:\n",
        "  print(\"놀이 기구를 탈 수 없습니다.\")"
      ],
      "metadata": {
        "colab": {
          "base_uri": "https://localhost:8080/"
        },
        "id": "NrusSTt1Vfti",
        "outputId": "957272de-2e09-41cd-fcac-f7b2a851d33e"
      },
      "execution_count": null,
      "outputs": [
        {
          "output_type": "stream",
          "name": "stdout",
          "text": [
            "놀이 기구를 탈 수 있습니다.\n"
          ]
        }
      ]
    },
    {
      "cell_type": "code",
      "source": [
        "level=int(input(\"레벨을 입력하세요:\"))\n",
        "value=int(input(\"경험치를 입력하세요:\"))\n",
        "\n",
        "if level>=10 and value>=500:\n",
        "  print(\"고수\")\n",
        "else:\n",
        "  print(\"초보\")"
      ],
      "metadata": {
        "colab": {
          "base_uri": "https://localhost:8080/"
        },
        "id": "gsucyJn0V7sC",
        "outputId": "d932608a-7fce-4a76-94a5-adea3962a210"
      },
      "execution_count": null,
      "outputs": [
        {
          "output_type": "stream",
          "name": "stdout",
          "text": [
            "레벨을 입력하세요:50\n",
            "경험치를 입력하세요:30\n",
            "초보\n"
          ]
        }
      ]
    },
    {
      "cell_type": "code",
      "source": [
        "credits=int(input(\"이수한 학점수를 입력하시오:\"))\n",
        "gpa=float(input(\"평점을 입력하시오:\"))\n",
        "\n",
        "if credits>=140 and gpa>=2.0:\n",
        "  print(\"졸업이 가능합니다!\")\n",
        "else:\n",
        "  print(\"졸업이 힘듭니다!\")"
      ],
      "metadata": {
        "colab": {
          "base_uri": "https://localhost:8080/"
        },
        "id": "bAVNoEtsXVzg",
        "outputId": "92bbc99d-92fe-4bcb-d6e4-36889522a23c"
      },
      "execution_count": null,
      "outputs": [
        {
          "output_type": "stream",
          "name": "stdout",
          "text": [
            "이수한 학점수를 입력하시오:140\n",
            "평점을 입력하시오:2.5\n",
            "졸업이 가능합니다!\n"
          ]
        }
      ]
    },
    {
      "cell_type": "code",
      "source": [
        "year=int(input(\"연도를 입력하시오:\"))\n",
        "\n",
        "if year&4==0 or year%100!=0:\n",
        "  print(year, \"년은 운년입니다.\")\n",
        "else:\n",
        "  print(year,\"년은 운년이 아닙니다.\")"
      ],
      "metadata": {
        "colab": {
          "base_uri": "https://localhost:8080/"
        },
        "id": "r-NQZumqYqot",
        "outputId": "86306ceb-7669-402a-d25f-0ba0fd81fac0"
      },
      "execution_count": null,
      "outputs": [
        {
          "output_type": "stream",
          "name": "stdout",
          "text": [
            "연도를 입력하시오:2012\n",
            "2012 년은 운년입니다.\n"
          ]
        }
      ]
    },
    {
      "cell_type": "code",
      "source": [
        "number=int(input(\"정수를 입력하세요:\"))\n",
        "\n",
        "if number>0:\n",
        "  print(\"입력한 수는 양수입니다.\")\n",
        "else:\n",
        "  if number<0:\n",
        "    print(\"입력한 수는 음수입니다.\")\n",
        "  else:\n",
        "    print(\"입력한 수는 0입니다.\")"
      ],
      "metadata": {
        "colab": {
          "base_uri": "https://localhost:8080/"
        },
        "id": "CXl4TxB5adSp",
        "outputId": "472616f7-0661-40e8-da45-ba2cd9412e39"
      },
      "execution_count": null,
      "outputs": [
        {
          "output_type": "stream",
          "name": "stdout",
          "text": [
            "정수를 입력하세요:6\n",
            "입력한 수는 양수입니다.\n"
          ]
        }
      ]
    },
    {
      "cell_type": "code",
      "source": [
        "score=int(input(\"점수를 입력하세오:\"))\n",
        "\n",
        "if 0>score or 100<score:\n",
        "  print(\"점수를 잘못 입력하셨습니다.\")\n",
        "  grade='없음'\n",
        "else:\n",
        "  if score>=90:\n",
        "    grade=\"A\"\n",
        "  elif score>=80:\n",
        "    grade=\"B\"\n",
        "  elif score>=70:\n",
        "    grade=\"C\"\n",
        "  elif score>=60:\n",
        "    grade=\"D\"\n",
        "  else:\n",
        "    grade='F'\n",
        "\n",
        "print(\"당신의 성적 등급은\", grade, \"입니다.\")"
      ],
      "metadata": {
        "colab": {
          "base_uri": "https://localhost:8080/"
        },
        "id": "0DaW0ZQzbyuW",
        "outputId": "5943a187-ff34-4005-ba52-e8b9ed2d56a9"
      },
      "execution_count": null,
      "outputs": [
        {
          "output_type": "stream",
          "name": "stdout",
          "text": [
            "점수를 입력하세오:120\n",
            "점수를 잘못 입력하셨습니다.\n",
            "당신의 성적 등급은 없음 입니다.\n"
          ]
        }
      ]
    },
    {
      "cell_type": "code",
      "source": [
        "food_cost=float(input(\"음식 값 입력: \"))\n",
        "print(\"팁을 선택하세요: \")\n",
        "print(\"1.10%\")\n",
        "print(\"2.15%\")\n",
        "print(\"3. 20%\")\n",
        "tip_choice=int(input(\"팁 선택(1/2/3): \"))\n",
        "\n",
        "if tip_choice==1:\n",
        "  tip_percent=0.10\n",
        "elif tip_choice==2:\n",
        "  tip_percent=0.15\n",
        "elif tip_choice==3:\n",
        "  tip_percent=0.20\n",
        "\n",
        "tip_amount=food_cost*tip_percent\n",
        "total_amount=tip_amount+food_cost\n",
        "\n",
        "print(f\"음식 값: ${food_cost:.2f}\")\n",
        "print(f\"선택한 팁: {tip_percent*100}%\")\n",
        "print(f\"팁 금액: ${tip_amount:.2f}\")\n",
        "print(f\"총 지불 금액: ${total_amount:.2f}\")"
      ],
      "metadata": {
        "colab": {
          "base_uri": "https://localhost:8080/"
        },
        "id": "-2wwQ3Ih7axn",
        "outputId": "21119387-026d-428b-f233-09241ae1603c"
      },
      "execution_count": null,
      "outputs": [
        {
          "output_type": "stream",
          "name": "stdout",
          "text": [
            "음식 값 입력: 50.0\n",
            "팁을 선택하세요: \n",
            "1.10%\n",
            "2.15%\n",
            "3. 20%\n",
            "팁 선택(1/2/3): 2\n",
            "음식 값: $50.00\n",
            "선택한 팁: 15.0%\n",
            "팁 금액: $7.50\n",
            "총 지불 금액: $57.50\n"
          ]
        }
      ]
    },
    {
      "cell_type": "code",
      "source": [
        "month=int(input(\"월을 입력하시오: \"))\n",
        "if month==2:\n",
        "  print(\"월의 날수는 29\")\n",
        "elif month==4 or month==6 or month==9 or month==11:\n",
        "  print(\"월의 날수는 30\")\n",
        "else:\n",
        "  print(\"월의 날수는 31\")"
      ],
      "metadata": {
        "colab": {
          "base_uri": "https://localhost:8080/"
        },
        "id": "kKxhn0LqFC9_",
        "outputId": "6d770029-a39a-4dcc-a31d-3915321cfbb2"
      },
      "execution_count": null,
      "outputs": [
        {
          "output_type": "stream",
          "name": "stdout",
          "text": [
            "월을 입력하시오: 6\n",
            "월의 날수는 30\n"
          ]
        }
      ]
    },
    {
      "cell_type": "code",
      "source": [
        "numbers=[1,2,3,4,5]\n",
        "\n",
        "if 3 in numbers:\n",
        "  print(\"3이 리스트에 있습니다.\")\n",
        "else:\n",
        "  print(\"3이 리스트에 없습니다.\")"
      ],
      "metadata": {
        "colab": {
          "base_uri": "https://localhost:8080/"
        },
        "id": "ca2kZXqzGvy6",
        "outputId": "3ad8884a-aa6a-4d95-c88b-99f421f99763"
      },
      "execution_count": null,
      "outputs": [
        {
          "output_type": "stream",
          "name": "stdout",
          "text": [
            "3이 리스트에 있습니다.\n"
          ]
        }
      ]
    },
    {
      "cell_type": "code",
      "source": [
        "numbers=[1,2,3,4,5]\n",
        "\n",
        "if 9 not in numbers:\n",
        "  print(\"9가 리스트에 없습니다.\")"
      ],
      "metadata": {
        "colab": {
          "base_uri": "https://localhost:8080/"
        },
        "id": "4yD--cuWG97K",
        "outputId": "aa49aab3-e146-4726-92a2-399aec6b730e"
      },
      "execution_count": null,
      "outputs": [
        {
          "output_type": "stream",
          "name": "stdout",
          "text": [
            "9가 리스트에 없습니다.\n"
          ]
        }
      ]
    },
    {
      "cell_type": "markdown",
      "source": [],
      "metadata": {
        "id": "5MWqqZ3YJLFG"
      }
    },
    {
      "cell_type": "code",
      "source": [
        "user_list=['김철수','홍길동','김영희']\n",
        "name=input(\"아이디: \")\n",
        "\n",
        "if name in user_list:\n",
        "  password=input(\"패스워드를 입력하세요: \")\n",
        "  if password==\"12345678\":\n",
        "    print(\"횐영합니다.\")\n",
        "  else:\n",
        "    print(\"패스워드가 잘못되었습니다.\")\n",
        "else:\n",
        "  print(\"알 수 없는 사용자입니다.\")"
      ],
      "metadata": {
        "colab": {
          "base_uri": "https://localhost:8080/"
        },
        "id": "KBzdrd6gHIH5",
        "outputId": "dbad3f8f-4e89-46e5-bf2c-92ab3f6b093d"
      },
      "execution_count": null,
      "outputs": [
        {
          "output_type": "stream",
          "name": "stdout",
          "text": [
            "아이디: hong\n",
            "알 수 없는 사용자입니다.\n"
          ]
        }
      ]
    },
    {
      "cell_type": "code",
      "source": [
        "from random import randint\n",
        "\n",
        "answer=randint(1,100)\n",
        "print(\"숫자 게임에 오신 것을 환영합니다.\")\n",
        "\n",
        "g=input(\"숫자를 맞춰 보세요: \")\n",
        "guess=int(g)\n",
        "\n",
        "if guess==answer:\n",
        "  print(\"사용자가 이겼습니다!\")\n",
        "elif guess<answer:\n",
        "  print(\"너무 큼!\")\n",
        "else:\n",
        "  print(\"너무 작음!\")\n",
        "print(\"게임 종료\")"
      ],
      "metadata": {
        "colab": {
          "base_uri": "https://localhost:8080/"
        },
        "id": "oTeskzleR-Xo",
        "outputId": "7eae0715-4b81-451c-dcab-ec73c1ff04e5"
      },
      "execution_count": null,
      "outputs": [
        {
          "output_type": "stream",
          "name": "stdout",
          "text": [
            "숫자 게임에 오신 것을 환영합니다.\n",
            "숫자를 맞춰 보세요: 9\n",
            "너무 큼!\n",
            "게임 종료\n"
          ]
        }
      ]
    },
    {
      "cell_type": "code",
      "source": [
        "import random\n",
        "\n",
        "user_choice=input('가위, 바위, 보 중 하나를 선택하세요:')\n",
        "\n",
        "choices=['가위','바위','보']\n",
        "computer_choice=random.choice(choices)\n",
        "\n",
        "print(\"사용자 선택:\",user_choice)\n",
        "print(\"컴퓨터 선택:\",computer_choice)\n",
        "\n",
        "if user_choice==computer_choice:\n",
        "  print(\"무승부입니다!\")\n",
        "elif (user_choice=='가위'and computer_choice==\"보\") or (user_choice=='보'and computer_choice=='바위') or (user_choice=='바위' and computer_choice=='가위'):\n",
        "  print(\"사용자가 이겼습니다!\")\n",
        "else:\n",
        "  print(\"컴퓨터가 이겼습니다!\")"
      ],
      "metadata": {
        "colab": {
          "base_uri": "https://localhost:8080/"
        },
        "id": "V8o9xKJPTt3H",
        "outputId": "a91830e5-848e-45b4-d1fa-c04b235cd868"
      },
      "execution_count": null,
      "outputs": [
        {
          "output_type": "stream",
          "name": "stdout",
          "text": [
            "가위, 바위, 보 중 하나를 선택하세요:바위\n",
            "사용자 선택: 바위\n",
            "컴퓨터 선택: 가위\n",
            "사용자가 이겼습니다!\n"
          ]
        }
      ]
    },
    {
      "cell_type": "code",
      "source": [
        "import time\n",
        "\n",
        "now=time.localtime()\n",
        "print(\"현재시간은\",time.asctime())\n",
        "\n",
        "if now.tm_hour<11:\n",
        "  print(\"Good morning\")\n",
        "elif now.tm_hour<15:\n",
        "  print(\"Good afternoon\")\n",
        "elif now.tm_hour<20:\n",
        "  print(\"Good evening\")\n",
        "else:\n",
        "  print(\"Good night\")"
      ],
      "metadata": {
        "colab": {
          "base_uri": "https://localhost:8080/"
        },
        "id": "Y1D-3fzPUQCA",
        "outputId": "9a5226ba-890e-4767-9a7d-d58eed9680bd"
      },
      "execution_count": null,
      "outputs": [
        {
          "output_type": "stream",
          "name": "stdout",
          "text": [
            "현재시간은 Thu Apr  3 02:15:21 2025\n",
            "Good morning\n"
          ]
        }
      ]
    },
    {
      "cell_type": "code",
      "source": [
        "# 과제 01\n",
        "print(\"세 개의 정수를 입력하세요. \")\n",
        "\n",
        "num1=int(input(\"첫 번째 정수: \"))\n",
        "num2=int(input(\"두 번째 정수: \"))\n",
        "num3=int(input(\"세 번째 정수: \"))\n",
        "\n",
        "if num1!=num2!=num3:\n",
        "  print('True')\n",
        "else:\n",
        "  print('False')"
      ],
      "metadata": {
        "colab": {
          "base_uri": "https://localhost:8080/"
        },
        "id": "qYb5jGuCB2cR",
        "outputId": "1fbf6a51-03e0-4ec5-8dbd-cfdb9b86b907"
      },
      "execution_count": 1,
      "outputs": [
        {
          "output_type": "stream",
          "name": "stdout",
          "text": [
            "세 개의 정수를 입력하세요. \n",
            "첫 번째 정수: 10\n",
            "두 번째 정수: 5\n",
            "세 번째 정수: 7\n",
            "True\n"
          ]
        }
      ]
    },
    {
      "cell_type": "code",
      "source": [
        "# 과제 02\n",
        "num1=float(input(\"첫 번째 실수를 입력하세요: \"))\n",
        "num2=float(input(\"두 번째 실수를 입력하세요: \"))\n",
        "\n",
        "print(f\"두 수 중에서 더 큰 수는 {max(num1, num2):.2f} 입니다.\")"
      ],
      "metadata": {
        "colab": {
          "base_uri": "https://localhost:8080/"
        },
        "id": "ADFSm7r_B8Ms",
        "outputId": "5cab0122-d2cd-4833-bfce-0b14a158c134"
      },
      "execution_count": 2,
      "outputs": [
        {
          "output_type": "stream",
          "name": "stdout",
          "text": [
            "첫 번째 실수를 입력하세요: 5.22\n",
            "두 번째 실수를 입력하세요: 3.77\n",
            "두 수 중에서 더 큰 수는 5.22 입니다.\n"
          ]
        }
      ]
    },
    {
      "cell_type": "code",
      "source": [
        "# 과제 03\n",
        "num1=int(input(\"첫 번째 정수를 입력하세요: \"))\n",
        "num2=int(input(\"두 번째 정수를 입력하세요: \"))\n",
        "num3=int(input(\"세 번째 정수를 입력하세요: \"))\n",
        "\n",
        "if num1<=num2<=num3 or num1>=num2>=num3:\n",
        "  median=num1\n",
        "elif num2<=num3<=num1 or num2>=num3>=num1:\n",
        "  median=num3\n",
        "else:\n",
        "  median=num2\n",
        "print('세 정수 중 중간 값은',median,'입니다.')"
      ],
      "metadata": {
        "colab": {
          "base_uri": "https://localhost:8080/"
        },
        "id": "-g-SAqF8B_EC",
        "outputId": "69f66477-4665-439d-f46e-3a36988b47b2"
      },
      "execution_count": 3,
      "outputs": [
        {
          "output_type": "stream",
          "name": "stdout",
          "text": [
            "첫 번째 정수를 입력하세요: 5\n",
            "두 번째 정수를 입력하세요: 7\n",
            "세 번째 정수를 입력하세요: 6\n",
            "세 정수 중 중간 값은 6 입니다.\n"
          ]
        }
      ]
    }
  ]
}