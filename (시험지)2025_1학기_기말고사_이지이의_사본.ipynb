{
  "cells": [
    {
      "cell_type": "markdown",
      "metadata": {
        "id": "view-in-github",
        "colab_type": "text"
      },
      "source": [
        "<a href=\"https://colab.research.google.com/github/jylee-ii/school-assignments/blob/main/(%EC%8B%9C%ED%97%98%EC%A7%80)2025_1%ED%95%99%EA%B8%B0_%EA%B8%B0%EB%A7%90%EA%B3%A0%EC%82%AC_%EC%9D%B4%EC%A7%80%EC%9D%B4%EC%9D%98_%EC%82%AC%EB%B3%B8.ipynb\" target=\"_parent\"><img src=\"https://colab.research.google.com/assets/colab-badge.svg\" alt=\"Open In Colab\"/></a>"
      ]
    },
    {
      "cell_type": "code",
      "source": [
        "#본인의 이름과 학번을 출력하세요\n",
        "print(\"이지이\")\n",
        "print(\"20251226\")"
      ],
      "metadata": {
        "id": "oUEn7YdSpUPC",
        "colab": {
          "base_uri": "https://localhost:8080/"
        },
        "outputId": "e8fb655b-45ba-4560-96b6-c76fdd6a93eb"
      },
      "id": "oUEn7YdSpUPC",
      "execution_count": null,
      "outputs": [
        {
          "output_type": "stream",
          "name": "stdout",
          "text": [
            "이지이\n",
            "20251226\n"
          ]
        }
      ]
    },
    {
      "cell_type": "markdown",
      "metadata": {
        "id": "53f22d67"
      },
      "source": [
        "# 🧪 파이썬 실기 시험지\n",
        "총 10문제 / 100점 만점\n",
        "아래 문제에 대한 파이썬 코드를 작성하세요.\n",
        "(모든 문항은 함수 없이 작성하며, 입력 → 처리 → 출력 흐름을 지켜주세요.)"
      ],
      "id": "53f22d67"
    },
    {
      "cell_type": "markdown",
      "id": "760dd304",
      "metadata": {
        "id": "760dd304"
      },
      "source": [
        "## ✅ 제출 안내\n",
        "- Google Drive → 사본 저장 후\n",
        "- 파일 이름: `2025_기말고사_학번_이름.ipynb`로 변경\n",
        "- 실행 결과가 정확히 출력되도록 할 것\n",
        "- LMS에 **ipynb 파일과 링크** 모두 제출  \n",
        "- ⚠️ 생성형 AI의 도움 없이 직접 작성해야 하며, 위반 시 0점 처리됩니다."
      ]
    },
    {
      "cell_type": "markdown",
      "id": "f78b1b10",
      "metadata": {
        "id": "f78b1b10"
      },
      "source": [
        "## ✅ 문제 1. 자리수 합과 9의 나머지 검증 (하, 10점)\n",
        "사용자로부터 양의 정수 하나를 입력받아, 각 자리 숫자의 합을 while문으로 계산하시오.\n",
        "자리수의 합과 원래 숫자를 9로 나눈 나머지를 각각 구하여 비교하시오."
      ]
    },
    {
      "cell_type": "code",
      "execution_count": 6,
      "id": "d5adff1f",
      "metadata": {
        "id": "d5adff1f",
        "colab": {
          "base_uri": "https://localhost:8080/"
        },
        "outputId": "e34f8398-e1b3-4e7a-9400-e5162ccc2131"
      },
      "outputs": [
        {
          "output_type": "stream",
          "name": "stdout",
          "text": [
            "정수를 입력하세요: 4567\n",
            "9로 나눈 나머지 (자리수 합 기준): 4\n",
            "9로 나눈 나머지 (원래 숫자 기준): 4\n",
            "검증 결과: 일치합니다\n"
          ]
        }
      ],
      "source": [
        "# 문제 1 코드 작성\n",
        "\n",
        "num=int(input(\"정수를 입력하세요: \"))\n",
        "original=num\n",
        "\n",
        "digit_sum=0\n",
        "while num>0:\n",
        "  digit_sum+=num%10\n",
        "  num//=10\n",
        "\n",
        "\n",
        "print(f\"9로 나눈 나머지 (자리수 합 기준): {digit_sum%9}\")\n",
        "print(f\"9로 나눈 나머지 (원래 숫자 기준): {original%9}\")\n",
        "\n",
        "if digit_sum%9==original%9:\n",
        "  print(\"검증 결과: 일치합니다\")\n",
        "else:\n",
        "  print(\"검증 결과: 일치하지 않습니다\")"
      ]
    },
    {
      "cell_type": "markdown",
      "id": "aad2e02a",
      "metadata": {
        "id": "aad2e02a"
      },
      "source": [
        "## ✅ 문제 2. 숫자 행렬 출력 (하, 10점)\n",
        "사용자로부터 출력할 라인 수 n을 입력받아, 1부터 n×n까지의 숫자를 행렬 형태로 출력하시오."
      ]
    },
    {
      "cell_type": "code",
      "execution_count": null,
      "id": "40912530",
      "metadata": {
        "id": "40912530",
        "colab": {
          "base_uri": "https://localhost:8080/"
        },
        "outputId": "6b9ef2f6-4639-4767-900b-fdfdc342d291"
      },
      "outputs": [
        {
          "output_type": "stream",
          "name": "stdout",
          "text": [
            "n 값을 입력하세요: 7\n",
            "  1  2  3  4  5  6  7\n",
            "  8  9 10 11 12 13 14\n",
            " 15 16 17 18 19 20 21\n",
            " 22 23 24 25 26 27 28\n",
            " 29 30 31 32 33 34 35\n",
            " 36 37 38 39 40 41 42\n",
            " 43 44 45 46 47 48 49\n"
          ]
        }
      ],
      "source": [
        "# 문제 2 코드 작성\n",
        "\n",
        "num=1\n",
        "n=int(input(\"n 값을 입력하세요: \"))\n",
        "for i in range(n):\n",
        "  for j in range(n):\n",
        "    print(f\"{num:3}\",end='')\n",
        "    num+=1\n",
        "  print()"
      ]
    },
    {
      "cell_type": "markdown",
      "id": "f875bda3",
      "metadata": {
        "id": "f875bda3"
      },
      "source": [
        "## ✅ 문제 3. 리스트 함축 (하, 10점)\n",
        "다음 리스트들을 사용하여 주어진 조건에 맞는 리스트(List1~List10)를 리스트 컴프리헨션으로 작성하시오."
      ]
    },
    {
      "cell_type": "code",
      "execution_count": 12,
      "id": "95311292",
      "metadata": {
        "id": "95311292",
        "colab": {
          "base_uri": "https://localhost:8080/"
        },
        "outputId": "ed4b0c40-5d2b-4be7-bbee-963675a338b7"
      },
      "outputs": [
        {
          "output_type": "stream",
          "name": "stdout",
          "text": [
            "List1= [-3, -1, 5]\n",
            "List2= [1, 4, 9, 16, 25, 36, 49, 64, 81, 100]\n",
            "List3= ['Hello', 'banana', 'Duksung', 'python']\n",
            "List4= [2, 5]\n",
            "List5= ['h', 'H', 'b', 'c', 'D', 'p']\n",
            "List6= ['banana', 'cat']\n",
            "List7= ['A', 'C']\n",
            "List8= [-3, -1, 0, 0, 5]\n",
            "List9= ['apple', 'grape']\n",
            "List10= ['1', '3', '5']\n"
          ]
        }
      ],
      "source": [
        "words = ['hi', 'Hello', 'banana', 'cat', 'Duksung', 'python']\n",
        "numbers = [-3, -1, 0, 2, 5]\n",
        "chars = ['1', 'A', '3', 'b', '5', 'C']\n",
        "texts = ['apple', 'banana pie', 'grape', 'melon cake']\n",
        "\n",
        "# List1 ~ List10 코드 작성\n",
        "L1=[x for x in numbers if x%2!=0]\n",
        "print(f\"List1= {L1}\")\n",
        "\n",
        "L2=[x**2 for x in range(1,11)]\n",
        "print(f\"List2= {L2}\")\n",
        "\n",
        "L3=[x for x in words if len(x)>=5]\n",
        "print(f\"List3= {L3}\")\n",
        "\n",
        "L4=[x for x in numbers if x>0]\n",
        "print(f\"List4= {L4}\")\n",
        "\n",
        "L5=[x[0] for x in words]\n",
        "print(f\"List5= {L5}\")\n",
        "\n",
        "L6=[x for x in words if 'a' in x]\n",
        "print(f\"List6= {L6}\")\n",
        "\n",
        "L7=[x for x in chars if x.isupper()]\n",
        "print(f\"List7= {L7}\")\n",
        "\n",
        "L8=[0 if x%2==0 else x for x in numbers]\n",
        "print(f\"List8= {L8}\")\n",
        "\n",
        "L9=[x for x in texts if ' ' not in x]\n",
        "print(f\"List9= {L9}\")\n",
        "\n",
        "L10=[x for x in chars if x.isdigit()]\n",
        "print(f\"List10= {L10}\")"
      ]
    },
    {
      "cell_type": "markdown",
      "id": "73c48334",
      "metadata": {
        "id": "73c48334"
      },
      "source": [
        "## ✅ 문제 4. 함수 정의 및 입력 처리 (중, 10점)\n",
        "정수 3개와 정수 리스트 1개를 입력받아 다음 조건을 수행하는 세 함수를 작성하시오.  \n",
        "① calTotal(a, b, c): 세 수의 합 반환  \n",
        "② sumOdd(lst): 리스트에서 짝수만 더한 값 반환  \n",
        "③ gcd(a, b, c): 세 수의 최대공약수 반환"
      ]
    },
    {
      "cell_type": "code",
      "execution_count": 22,
      "id": "740bfc22",
      "metadata": {
        "id": "740bfc22",
        "colab": {
          "base_uri": "https://localhost:8080/"
        },
        "outputId": "e06aab80-dda3-478b-81fc-62a0ae8195da"
      },
      "outputs": [
        {
          "output_type": "stream",
          "name": "stdout",
          "text": [
            "정수 3개를 입력하세요 (띄어쓰기로 구분): 20 30 40\n",
            "정수 리스트를 입력하세요 (쉼표로 구분): 1,2,3,4,5\n",
            "세 수의 합: 90\n",
            "리스트 내 짝수의 합: 6\n",
            "세 수의 최대공약수: 10\n"
          ]
        }
      ],
      "source": [
        "# 문제 4 코드 작성\n",
        "\n",
        "def calTotal(a,b,c):\n",
        "  total=a+b+c\n",
        "  print(f\"세 수의 합: {total}\")\n",
        "  return total\n",
        "\n",
        "def sumOdd(lst):\n",
        "  for num in lst:\n",
        "    even_numbers=[n for n in lst if n%2==0]\n",
        "    even_sum=sum(even_numbers)\n",
        "  print(f\"리스트 내 짝수의 합: {even_sum}\")\n",
        "  return even_sum\n",
        "\n",
        "def gcd(a,b,c):\n",
        "  while b!=0:\n",
        "    a,b=b,a%b\n",
        "  print(f\"세 수의 최대공약수: {a}\")\n",
        "\n",
        "\n",
        "nums=input(\"정수 3개를 입력하세요 (띄어쓰기로 구분): \").split(' ')\n",
        "nums=[int(x) for x in nums]\n",
        "\n",
        "nums_list=input(\"정수 리스트를 입력하세요 (쉼표로 구분): \").split(',')\n",
        "nums_list=[int(x) for x in nums_list]\n",
        "\n",
        "calTotal(*nums)\n",
        "sumOdd(nums_list)\n",
        "gcd(*nums)\n"
      ]
    },
    {
      "cell_type": "markdown",
      "id": "8ceaf5da",
      "metadata": {
        "id": "8ceaf5da"
      },
      "source": [
        "## ✅ 문제 5. 재귀 삼각형 출력 (중, 20점)\n",
        "사용자로부터 삼각형 라인 수 n을 입력받아, 재귀 함수를 이용해 아래와 같은 삼각형을 출력하시오."
      ]
    },
    {
      "cell_type": "code",
      "execution_count": null,
      "id": "ec27e994",
      "metadata": {
        "id": "ec27e994",
        "colab": {
          "base_uri": "https://localhost:8080/"
        },
        "outputId": "d2954848-a080-4761-8b82-e83160a3bafa"
      },
      "outputs": [
        {
          "output_type": "stream",
          "name": "stdout",
          "text": [
            "n 값을 입력하세요: 5\n",
            "*\n",
            "**\n",
            "***\n",
            "****\n",
            "*****\n"
          ]
        }
      ],
      "source": [
        "# 문제 5 코드 작성\n",
        "\n",
        "n=int(input(\"n 값을 입력하세요: \"))\n",
        "\n",
        "for line in range(1,n+1):\n",
        "  for star in range(line):\n",
        "    print(\"*\",end='')\n",
        "  print()\n",
        "\n"
      ]
    },
    {
      "cell_type": "markdown",
      "id": "ac9f86bd",
      "metadata": {
        "id": "ac9f86bd"
      },
      "source": [
        "## ✅ 문제 6. 마을 인구 통계 분석 (상, 30점)\n",
        "다음 함수들을 정의하여 village_a와 village_b의 인구 통계를 분석하고 출력하시오.  \n",
        "- analyzePopulation  \n",
        "- totalPopulation  \n",
        "- voteRate  \n",
        "- category  \n",
        "- analyzePattern  \n",
        "- printReport"
      ]
    },
    {
      "cell_type": "code",
      "execution_count": 28,
      "id": "09a6ff72",
      "metadata": {
        "id": "09a6ff72",
        "colab": {
          "base_uri": "https://localhost:8080/"
        },
        "outputId": "127cf539-db0f-46f7-8434-d864d9c893cf"
      },
      "outputs": [
        {
          "output_type": "stream",
          "name": "stdout",
          "text": [
            "[마을A]\n",
            "-전체 인구 수: 1221명\n",
            "-투표권 인구 수: 971명(79.5%)\n",
            "-노령 인구 비율: 16.46%\n",
            "-고령화 수준: 고령사회\n",
            "\n",
            "[마을B]\n",
            "-전체 인구 수: 2418명\n",
            "-투표권 인구 수: 1698명(70.2%)\n",
            "-노령 인구 비율: 0.33%\n",
            "-고령화 수준: 정상사회\n",
            "\n",
            "[마을 인구 분포 분석]\n",
            "-인구 수 구간 종류(전체): [1, 4, 5, 21, 40, 81, 95, 100, 120, 140, 150, 180, 230, 300, 400, 420, 530]\n",
            "-공통 인구 수 구간: []\n",
            "-A마을에만 있는 인구 수 구간: [4, 21, 81, 95, 100, 120, 140, 150, 180, 230]\n"
          ]
        }
      ],
      "source": [
        "village_a = (100, 150, 230, 120, 180, 100, 140, 95, 81, 21, 4)\n",
        "village_b = (300, 420, 530, 420, 400, 300, 40, 5, 1, 1, 1)\n",
        "\n",
        "# 문제 6 코드 작성\n",
        "\n",
        "# 전체 인구 수 계산\n",
        "def totalPopulation(data):\n",
        "  return sum(data)\n",
        "\n",
        "# 20세 이상 인구 수와 70세 이상 인구 비율 반환\n",
        "def analyzePopulation(data):\n",
        "  vote_people=sum(data[2:])\n",
        "  elderly=sum(data[7:])\n",
        "  total=totalPopulation(data)\n",
        "  elderly_rate=(elderly/total)*100\n",
        "  return vote_people,elderly_rate\n",
        "\n",
        "# 투표권 비율 계산\n",
        "def voteRate(data):\n",
        "  vote_people,elderly_rate=analyzePopulation(data)\n",
        "  total=totalPopulation(data)\n",
        "  return (vote_people/total)*100\n",
        "\n",
        "# 노령화 수준 판별\n",
        "def category(rate):\n",
        "  if rate<7:\n",
        "    return '정상사회'\n",
        "  elif rate<14:\n",
        "    return '고령화사회'\n",
        "  elif rate<28:\n",
        "    return '고령사회'\n",
        "  else:\n",
        "    return '초고령사회'\n",
        "\n",
        "# 인구 분포 분석\n",
        "def analyzePattern(data1,data2):\n",
        "  set1=set(data1)\n",
        "  set2=set(data2)\n",
        "  total=sorted(set1.union(set2))\n",
        "  common=sorted(set1.intersection(set2))\n",
        "  only_a=sorted(set1-set2)\n",
        "  return total, common, only_a\n",
        "\n",
        "# 최종 보고서 출력\n",
        "def printReport():\n",
        "  # 마을A 경우\n",
        "  print(\"[마을A]\")\n",
        "\n",
        "  total=totalPopulation(village_a)\n",
        "  vote,elderly_rate=analyzePopulation(village_a)\n",
        "  vote_percent=voteRate(village_a)\n",
        "  aging_level=category(elderly_rate)\n",
        "\n",
        "  print(f\"-전체 인구 수: {total}명\")\n",
        "  print(f\"-투표권 인구 수: {vote}명({round(vote_percent,1)}%)\")\n",
        "  print(f\"-노령 인구 비율: {round(elderly_rate,2)}%\")\n",
        "  print(f\"-고령화 수준: {aging_level}\")\n",
        "  print()\n",
        "\n",
        "  # 마을B 경우\n",
        "  print(\"[마을B]\")\n",
        "\n",
        "  total=totalPopulation(village_b)\n",
        "  vote,elderly_rate=analyzePopulation(village_b)\n",
        "  vote_percent=voteRate(village_b)\n",
        "  aging_level=category(elderly_rate)\n",
        "\n",
        "  print(f\"-전체 인구 수: {total}명\")\n",
        "  print(f\"-투표권 인구 수: {vote}명({round(vote_percent,1)}%)\")\n",
        "  print(f\"-노령 인구 비율: {round(elderly_rate,2)}%\")\n",
        "  print(f\"-고령화 수준: {aging_level}\")\n",
        "  print()\n",
        "\n",
        "  # 마을 인구 분포 분석\n",
        "  print(\"[마을 인구 분포 분석]\")\n",
        "  total_set,common_set,only_a=analyzePattern(village_a,village_b)\n",
        "  print(f\"-인구 수 구간 종류(전체): {total_set}\")\n",
        "  print(f\"-공통 인구 수 구간: {common_set}\")\n",
        "  print(f\"-A마을에만 있는 인구 수 구간: {only_a}\")\n",
        "\n",
        "printReport()"
      ]
    }
  ],
  "metadata": {
    "colab": {
      "provenance": [],
      "include_colab_link": true
    },
    "language_info": {
      "name": "python"
    },
    "kernelspec": {
      "name": "python3",
      "display_name": "Python 3"
    }
  },
  "nbformat": 4,
  "nbformat_minor": 5
}